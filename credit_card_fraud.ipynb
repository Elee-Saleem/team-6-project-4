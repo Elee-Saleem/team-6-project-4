{
 "cells": [
  {
   "cell_type": "code",
   "execution_count": 1,
   "metadata": {},
   "outputs": [],
   "source": [
    "# Dependencies\n",
    "import pandas as pd\n",
    "import numpy as np\n",
    "import warnings\n",
    "warnings.simplefilter(\"ignore\")\n",
    "import psycopg2\n",
    "from psycopg2 import sql\n",
    "\n",
    "from pathlib import Path\n",
    "from sklearn.metrics import balanced_accuracy_score, accuracy_score, confusion_matrix, classification_report\n",
    "from sklearn.preprocessing import LabelEncoder\n",
    "from sklearn.model_selection import train_test_split\n",
    "from sklearn.linear_model import LogisticRegression\n",
    "\n",
    "from imblearn.over_sampling import RandomOverSampler\n",
    "\n",
    "from sklearn.preprocessing import StandardScaler\n",
    "from sklearn.ensemble import RandomForestClassifier"
   ]
  },
  {
   "cell_type": "markdown",
   "metadata": {},
   "source": [
    "# READ Data from Database\n",
    "#### Here we are going to read data from the database and creating a Dataframe"
   ]
  },
  {
   "cell_type": "code",
   "execution_count": 2,
   "metadata": {},
   "outputs": [
    {
     "name": "stdout",
     "output_type": "stream",
     "text": [
      "Connected Successfully\n",
      "DataFrame Generated Successfully\n"
     ]
    }
   ],
   "source": [
    "# Define your PostgreSQL connection parameters\n",
    "db_params = {\n",
    "    \"host\": \"localhost\",\n",
    "    \"database\": \"credit_card_data\",\n",
    "    \"user\": \"postgres\",\n",
    "    \"password\": \"\"\n",
    "}\n",
    "\n",
    "cols = [\"Transaction ID\", \"Date\", \"Day of Week\", \"Time\", \"Type of Card\", \"Entry Mode\",\n",
    "        \"Amount\", \"Type of Transaction\", \"Merchant Group\", \"Country of Transaction\",\n",
    "        \"Shipping Address\", \"Country of Residence\", \"Gender\", \"Age\", \"Bank\", \"Fraud\"]\n",
    "column_list = [\n",
    "    ('transaction_id', 'varchar(9)'),\n",
    "    ('date', 'varchar(9)'),\n",
    "    ('day_of_week', 'varchar(9)'),\n",
    "    ('time', 'int4'),\n",
    "    ('type_of_card', 'varchar(10)'),\n",
    "    ('entry_mode', 'varchar(3)'),\n",
    "    ('amount', 'varchar'),\n",
    "    ('type_of_transaction', 'varchar(6)'),\n",
    "    ('merchant_group', 'varchar(13)'),\n",
    "    ('country_of_transaction', 'varchar(14)'),\n",
    "    ('shipping_address', 'varchar(14)'),\n",
    "    ('country_of_residence', 'varchar(14)'),\n",
    "    ('gender', 'varchar(1)'),\n",
    "    ('age', 'numeric(4,1)'),\n",
    "    ('bank', 'varchar(8)'),\n",
    "    ('fraud', 'bit(1)')\n",
    "]\n",
    "\n",
    "# Establish a connection to the database\n",
    "connection = psycopg2.connect(**db_params)\n",
    "print(\"Connected Successfully\")\n",
    "\n",
    "# Create a cursor object\n",
    "cursor = connection.cursor()\n",
    "\n",
    "# Generate a SQL query to select the desired columns\n",
    "select_columns = \", \".join([f'\"{col_name}\"' for col_name, _ in column_list])\n",
    "query = f\"SELECT {select_columns} FROM public.credit_card_data\"\n",
    "\n",
    "# Execute the query\n",
    "cursor.execute(query)\n",
    "\n",
    "# Fetch all rows from the result set\n",
    "rows = cursor.fetchall()\n",
    "\n",
    "# Create a DataFrame from the fetched data\n",
    "df = pd.DataFrame(rows, columns=[col_name for col_name in cols])\n",
    "\n",
    "# Close the cursor and the database connection\n",
    "cursor.close()\n",
    "connection.close()\n",
    "print(\"DataFrame Generated Successfully\")\n",
    "\n"
   ]
  },
  {
   "cell_type": "code",
   "execution_count": 3,
   "metadata": {},
   "outputs": [
    {
     "data": {
      "text/html": [
       "<div>\n",
       "<style scoped>\n",
       "    .dataframe tbody tr th:only-of-type {\n",
       "        vertical-align: middle;\n",
       "    }\n",
       "\n",
       "    .dataframe tbody tr th {\n",
       "        vertical-align: top;\n",
       "    }\n",
       "\n",
       "    .dataframe thead th {\n",
       "        text-align: right;\n",
       "    }\n",
       "</style>\n",
       "<table border=\"1\" class=\"dataframe\">\n",
       "  <thead>\n",
       "    <tr style=\"text-align: right;\">\n",
       "      <th></th>\n",
       "      <th>Transaction ID</th>\n",
       "      <th>Date</th>\n",
       "      <th>Day of Week</th>\n",
       "      <th>Time</th>\n",
       "      <th>Type of Card</th>\n",
       "      <th>Entry Mode</th>\n",
       "      <th>Amount</th>\n",
       "      <th>Type of Transaction</th>\n",
       "      <th>Merchant Group</th>\n",
       "      <th>Country of Transaction</th>\n",
       "      <th>Shipping Address</th>\n",
       "      <th>Country of Residence</th>\n",
       "      <th>Gender</th>\n",
       "      <th>Age</th>\n",
       "      <th>Bank</th>\n",
       "      <th>Fraud</th>\n",
       "    </tr>\n",
       "  </thead>\n",
       "  <tbody>\n",
       "    <tr>\n",
       "      <th>0</th>\n",
       "      <td>#3577 209</td>\n",
       "      <td>14-Oct-20</td>\n",
       "      <td>Wednesday</td>\n",
       "      <td>19</td>\n",
       "      <td>Visa</td>\n",
       "      <td>Tap</td>\n",
       "      <td>Â£5</td>\n",
       "      <td>POS</td>\n",
       "      <td>Entertainment</td>\n",
       "      <td>United Kingdom</td>\n",
       "      <td>United Kingdom</td>\n",
       "      <td>United Kingdom</td>\n",
       "      <td>M</td>\n",
       "      <td>25.2</td>\n",
       "      <td>RBS</td>\n",
       "      <td>0</td>\n",
       "    </tr>\n",
       "    <tr>\n",
       "      <th>1</th>\n",
       "      <td>#3039 221</td>\n",
       "      <td>14-Oct-20</td>\n",
       "      <td>Wednesday</td>\n",
       "      <td>17</td>\n",
       "      <td>MasterCard</td>\n",
       "      <td>PIN</td>\n",
       "      <td>Â£288</td>\n",
       "      <td>POS</td>\n",
       "      <td>Services</td>\n",
       "      <td>USA</td>\n",
       "      <td>USA</td>\n",
       "      <td>USA</td>\n",
       "      <td>F</td>\n",
       "      <td>49.6</td>\n",
       "      <td>Lloyds</td>\n",
       "      <td>0</td>\n",
       "    </tr>\n",
       "    <tr>\n",
       "      <th>2</th>\n",
       "      <td>#2694 780</td>\n",
       "      <td>14-Oct-20</td>\n",
       "      <td>Wednesday</td>\n",
       "      <td>14</td>\n",
       "      <td>Visa</td>\n",
       "      <td>Tap</td>\n",
       "      <td>Â£5</td>\n",
       "      <td>POS</td>\n",
       "      <td>Restaurant</td>\n",
       "      <td>India</td>\n",
       "      <td>India</td>\n",
       "      <td>India</td>\n",
       "      <td>F</td>\n",
       "      <td>42.2</td>\n",
       "      <td>Barclays</td>\n",
       "      <td>0</td>\n",
       "    </tr>\n",
       "    <tr>\n",
       "      <th>3</th>\n",
       "      <td>#2640 960</td>\n",
       "      <td>13-Oct-20</td>\n",
       "      <td>Tuesday</td>\n",
       "      <td>14</td>\n",
       "      <td>Visa</td>\n",
       "      <td>Tap</td>\n",
       "      <td>Â£28</td>\n",
       "      <td>POS</td>\n",
       "      <td>Entertainment</td>\n",
       "      <td>United Kingdom</td>\n",
       "      <td>India</td>\n",
       "      <td>United Kingdom</td>\n",
       "      <td>F</td>\n",
       "      <td>51.0</td>\n",
       "      <td>Barclays</td>\n",
       "      <td>0</td>\n",
       "    </tr>\n",
       "    <tr>\n",
       "      <th>4</th>\n",
       "      <td>#2771 031</td>\n",
       "      <td>13-Oct-20</td>\n",
       "      <td>Tuesday</td>\n",
       "      <td>23</td>\n",
       "      <td>Visa</td>\n",
       "      <td>CVC</td>\n",
       "      <td>Â£91</td>\n",
       "      <td>Online</td>\n",
       "      <td>Electronics</td>\n",
       "      <td>USA</td>\n",
       "      <td>USA</td>\n",
       "      <td>United Kingdom</td>\n",
       "      <td>M</td>\n",
       "      <td>38.0</td>\n",
       "      <td>Halifax</td>\n",
       "      <td>1</td>\n",
       "    </tr>\n",
       "  </tbody>\n",
       "</table>\n",
       "</div>"
      ],
      "text/plain": [
       "  Transaction ID       Date Day of Week  Time Type of Card Entry Mode Amount  \\\n",
       "0      #3577 209  14-Oct-20   Wednesday    19         Visa        Tap    Â£5   \n",
       "1      #3039 221  14-Oct-20   Wednesday    17   MasterCard        PIN  Â£288   \n",
       "2      #2694 780  14-Oct-20   Wednesday    14         Visa        Tap    Â£5   \n",
       "3      #2640 960  13-Oct-20     Tuesday    14         Visa        Tap   Â£28   \n",
       "4      #2771 031  13-Oct-20     Tuesday    23         Visa        CVC   Â£91   \n",
       "\n",
       "  Type of Transaction Merchant Group Country of Transaction Shipping Address  \\\n",
       "0                 POS  Entertainment         United Kingdom   United Kingdom   \n",
       "1                 POS       Services                    USA              USA   \n",
       "2                 POS     Restaurant                  India            India   \n",
       "3                 POS  Entertainment         United Kingdom            India   \n",
       "4              Online    Electronics                    USA              USA   \n",
       "\n",
       "  Country of Residence Gender   Age      Bank Fraud  \n",
       "0       United Kingdom      M  25.2       RBS     0  \n",
       "1                  USA      F  49.6    Lloyds     0  \n",
       "2                India      F  42.2  Barclays     0  \n",
       "3       United Kingdom      F  51.0  Barclays     0  \n",
       "4       United Kingdom      M  38.0   Halifax     1  "
      ]
     },
     "execution_count": 3,
     "metadata": {},
     "output_type": "execute_result"
    }
   ],
   "source": [
    "df.head()"
   ]
  },
  {
   "cell_type": "code",
   "execution_count": 4,
   "metadata": {},
   "outputs": [
    {
     "data": {
      "text/html": [
       "<div>\n",
       "<style scoped>\n",
       "    .dataframe tbody tr th:only-of-type {\n",
       "        vertical-align: middle;\n",
       "    }\n",
       "\n",
       "    .dataframe tbody tr th {\n",
       "        vertical-align: top;\n",
       "    }\n",
       "\n",
       "    .dataframe thead th {\n",
       "        text-align: right;\n",
       "    }\n",
       "</style>\n",
       "<table border=\"1\" class=\"dataframe\">\n",
       "  <thead>\n",
       "    <tr style=\"text-align: right;\">\n",
       "      <th></th>\n",
       "      <th>Transaction ID</th>\n",
       "      <th>Date</th>\n",
       "      <th>Day of Week</th>\n",
       "      <th>Time</th>\n",
       "      <th>Type of Card</th>\n",
       "      <th>Entry Mode</th>\n",
       "      <th>Amount</th>\n",
       "      <th>Type of Transaction</th>\n",
       "      <th>Merchant Group</th>\n",
       "      <th>Country of Transaction</th>\n",
       "      <th>Shipping Address</th>\n",
       "      <th>Country of Residence</th>\n",
       "      <th>Gender</th>\n",
       "      <th>Age</th>\n",
       "      <th>Bank</th>\n",
       "      <th>Fraud</th>\n",
       "    </tr>\n",
       "  </thead>\n",
       "  <tbody>\n",
       "    <tr>\n",
       "      <th>0</th>\n",
       "      <td>#3577 209</td>\n",
       "      <td>14-Oct-20</td>\n",
       "      <td>Wednesday</td>\n",
       "      <td>19</td>\n",
       "      <td>Visa</td>\n",
       "      <td>Tap</td>\n",
       "      <td>Â£5</td>\n",
       "      <td>POS</td>\n",
       "      <td>Entertainment</td>\n",
       "      <td>United Kingdom</td>\n",
       "      <td>United Kingdom</td>\n",
       "      <td>United Kingdom</td>\n",
       "      <td>M</td>\n",
       "      <td>25.2</td>\n",
       "      <td>RBS</td>\n",
       "      <td>0</td>\n",
       "    </tr>\n",
       "    <tr>\n",
       "      <th>1</th>\n",
       "      <td>#3039 221</td>\n",
       "      <td>14-Oct-20</td>\n",
       "      <td>Wednesday</td>\n",
       "      <td>17</td>\n",
       "      <td>MasterCard</td>\n",
       "      <td>PIN</td>\n",
       "      <td>Â£288</td>\n",
       "      <td>POS</td>\n",
       "      <td>Services</td>\n",
       "      <td>USA</td>\n",
       "      <td>USA</td>\n",
       "      <td>USA</td>\n",
       "      <td>F</td>\n",
       "      <td>49.6</td>\n",
       "      <td>Lloyds</td>\n",
       "      <td>0</td>\n",
       "    </tr>\n",
       "    <tr>\n",
       "      <th>2</th>\n",
       "      <td>#2694 780</td>\n",
       "      <td>14-Oct-20</td>\n",
       "      <td>Wednesday</td>\n",
       "      <td>14</td>\n",
       "      <td>Visa</td>\n",
       "      <td>Tap</td>\n",
       "      <td>Â£5</td>\n",
       "      <td>POS</td>\n",
       "      <td>Restaurant</td>\n",
       "      <td>India</td>\n",
       "      <td>India</td>\n",
       "      <td>India</td>\n",
       "      <td>F</td>\n",
       "      <td>42.2</td>\n",
       "      <td>Barclays</td>\n",
       "      <td>0</td>\n",
       "    </tr>\n",
       "    <tr>\n",
       "      <th>3</th>\n",
       "      <td>#2640 960</td>\n",
       "      <td>13-Oct-20</td>\n",
       "      <td>Tuesday</td>\n",
       "      <td>14</td>\n",
       "      <td>Visa</td>\n",
       "      <td>Tap</td>\n",
       "      <td>Â£28</td>\n",
       "      <td>POS</td>\n",
       "      <td>Entertainment</td>\n",
       "      <td>United Kingdom</td>\n",
       "      <td>India</td>\n",
       "      <td>United Kingdom</td>\n",
       "      <td>F</td>\n",
       "      <td>51.0</td>\n",
       "      <td>Barclays</td>\n",
       "      <td>0</td>\n",
       "    </tr>\n",
       "    <tr>\n",
       "      <th>4</th>\n",
       "      <td>#2771 031</td>\n",
       "      <td>13-Oct-20</td>\n",
       "      <td>Tuesday</td>\n",
       "      <td>23</td>\n",
       "      <td>Visa</td>\n",
       "      <td>CVC</td>\n",
       "      <td>Â£91</td>\n",
       "      <td>Online</td>\n",
       "      <td>Electronics</td>\n",
       "      <td>USA</td>\n",
       "      <td>USA</td>\n",
       "      <td>United Kingdom</td>\n",
       "      <td>M</td>\n",
       "      <td>38.0</td>\n",
       "      <td>Halifax</td>\n",
       "      <td>1</td>\n",
       "    </tr>\n",
       "  </tbody>\n",
       "</table>\n",
       "</div>"
      ],
      "text/plain": [
       "  Transaction ID       Date Day of Week  Time Type of Card Entry Mode Amount  \\\n",
       "0      #3577 209  14-Oct-20   Wednesday    19         Visa        Tap    Â£5   \n",
       "1      #3039 221  14-Oct-20   Wednesday    17   MasterCard        PIN  Â£288   \n",
       "2      #2694 780  14-Oct-20   Wednesday    14         Visa        Tap    Â£5   \n",
       "3      #2640 960  13-Oct-20     Tuesday    14         Visa        Tap   Â£28   \n",
       "4      #2771 031  13-Oct-20     Tuesday    23         Visa        CVC   Â£91   \n",
       "\n",
       "  Type of Transaction Merchant Group Country of Transaction Shipping Address  \\\n",
       "0                 POS  Entertainment         United Kingdom   United Kingdom   \n",
       "1                 POS       Services                    USA              USA   \n",
       "2                 POS     Restaurant                  India            India   \n",
       "3                 POS  Entertainment         United Kingdom            India   \n",
       "4              Online    Electronics                    USA              USA   \n",
       "\n",
       "  Country of Residence Gender   Age      Bank Fraud  \n",
       "0       United Kingdom      M  25.2       RBS     0  \n",
       "1                  USA      F  49.6    Lloyds     0  \n",
       "2                India      F  42.2  Barclays     0  \n",
       "3       United Kingdom      F  51.0  Barclays     0  \n",
       "4       United Kingdom      M  38.0   Halifax     1  "
      ]
     },
     "execution_count": 4,
     "metadata": {},
     "output_type": "execute_result"
    }
   ],
   "source": [
    "# Reading and importing data from postgres database table\n",
    "CreditCardData_df = df\n",
    "CreditCardData_df.head()"
   ]
  },
  {
   "cell_type": "markdown",
   "metadata": {},
   "source": [
    "---------------\n",
    "\n",
    "## Cleaning and Preparation\n",
    "\n",
    "--------------"
   ]
  },
  {
   "cell_type": "code",
   "execution_count": 5,
   "metadata": {},
   "outputs": [
    {
     "name": "stdout",
     "output_type": "stream",
     "text": [
      "<class 'pandas.core.frame.DataFrame'>\n",
      "RangeIndex: 100000 entries, 0 to 99999\n",
      "Data columns (total 16 columns):\n",
      " #   Column                  Non-Null Count   Dtype \n",
      "---  ------                  --------------   ----- \n",
      " 0   Transaction ID          100000 non-null  object\n",
      " 1   Date                    100000 non-null  object\n",
      " 2   Day of Week             100000 non-null  object\n",
      " 3   Time                    100000 non-null  int64 \n",
      " 4   Type of Card            100000 non-null  object\n",
      " 5   Entry Mode              100000 non-null  object\n",
      " 6   Amount                  100000 non-null  object\n",
      " 7   Type of Transaction     100000 non-null  object\n",
      " 8   Merchant Group          100000 non-null  object\n",
      " 9   Country of Transaction  100000 non-null  object\n",
      " 10  Shipping Address        100000 non-null  object\n",
      " 11  Country of Residence    100000 non-null  object\n",
      " 12  Gender                  100000 non-null  object\n",
      " 13  Age                     100000 non-null  object\n",
      " 14  Bank                    100000 non-null  object\n",
      " 15  Fraud                   100000 non-null  object\n",
      "dtypes: int64(1), object(15)\n",
      "memory usage: 12.2+ MB\n"
     ]
    }
   ],
   "source": [
    "# Figuring out the type of info in this data\n",
    "CreditCardData_df.info()"
   ]
  },
  {
   "cell_type": "code",
   "execution_count": 6,
   "metadata": {},
   "outputs": [
    {
     "data": {
      "text/plain": [
       "(100000, 16)"
      ]
     },
     "execution_count": 6,
     "metadata": {},
     "output_type": "execute_result"
    }
   ],
   "source": [
    "# Number of rows and columns before cleaning\n",
    "CreditCardData_df.shape"
   ]
  },
  {
   "cell_type": "code",
   "execution_count": 7,
   "metadata": {},
   "outputs": [],
   "source": [
    "# Remove rows with zero values\n",
    "CreditCardData_df_clean = CreditCardData_df[(CreditCardData_df['Transaction ID'] != 0) & (CreditCardData_df['Date'] != 0) & (CreditCardData_df['Day of Week'] != 0) & (CreditCardData_df['Time'] != 0) &\n",
    "                                            (CreditCardData_df['Type of Card'] != 0) & (CreditCardData_df['Entry Mode'] != 0) & (CreditCardData_df['Amount'] != 0) & (CreditCardData_df['Type of Transaction'] != 0) &\n",
    "                                            (CreditCardData_df['Merchant Group'] != 0) & (CreditCardData_df['Country of Transaction'] != 0) & (CreditCardData_df['Shipping Address'] != 0) &\n",
    "                                            (CreditCardData_df['Country of Residence'] != 0) & (CreditCardData_df['Gender'] != 0) & (CreditCardData_df['Age'] != 0) & (CreditCardData_df['Bank'] != 0)]"
   ]
  },
  {
   "cell_type": "code",
   "execution_count": 8,
   "metadata": {},
   "outputs": [
    {
     "data": {
      "text/plain": [
       "(99491, 16)"
      ]
     },
     "execution_count": 8,
     "metadata": {},
     "output_type": "execute_result"
    }
   ],
   "source": [
    "CreditCardData_df_clean.shape"
   ]
  },
  {
   "cell_type": "code",
   "execution_count": 9,
   "metadata": {},
   "outputs": [
    {
     "data": {
      "text/plain": [
       "(99491, 16)"
      ]
     },
     "execution_count": 9,
     "metadata": {},
     "output_type": "execute_result"
    }
   ],
   "source": [
    "CreditCardData_df_clean = CreditCardData_df_clean.replace([np.inf, -np.inf], np.nan).dropna()\n",
    "CreditCardData_df_clean.shape"
   ]
  },
  {
   "cell_type": "code",
   "execution_count": 10,
   "metadata": {},
   "outputs": [
    {
     "name": "stdout",
     "output_type": "stream",
     "text": [
      "<class 'pandas.core.frame.DataFrame'>\n",
      "Int64Index: 99491 entries, 0 to 99999\n",
      "Data columns (total 16 columns):\n",
      " #   Column                  Non-Null Count  Dtype \n",
      "---  ------                  --------------  ----- \n",
      " 0   Transaction ID          99491 non-null  object\n",
      " 1   Date                    99491 non-null  object\n",
      " 2   Day of Week             99491 non-null  object\n",
      " 3   Time                    99491 non-null  int64 \n",
      " 4   Type of Card            99491 non-null  object\n",
      " 5   Entry Mode              99491 non-null  object\n",
      " 6   Amount                  99491 non-null  object\n",
      " 7   Type of Transaction     99491 non-null  object\n",
      " 8   Merchant Group          99491 non-null  object\n",
      " 9   Country of Transaction  99491 non-null  object\n",
      " 10  Shipping Address        99491 non-null  object\n",
      " 11  Country of Residence    99491 non-null  object\n",
      " 12  Gender                  99491 non-null  object\n",
      " 13  Age                     99491 non-null  object\n",
      " 14  Bank                    99491 non-null  object\n",
      " 15  Fraud                   99491 non-null  object\n",
      "dtypes: int64(1), object(15)\n",
      "memory usage: 12.9+ MB\n"
     ]
    }
   ],
   "source": [
    "# Figuring out the type of info in this data\n",
    "CreditCardData_df_clean.info()"
   ]
  },
  {
   "cell_type": "code",
   "execution_count": 11,
   "metadata": {},
   "outputs": [
    {
     "data": {
      "text/plain": [
       "(99491, 16)"
      ]
     },
     "execution_count": 11,
     "metadata": {},
     "output_type": "execute_result"
    }
   ],
   "source": [
    "# Number of rows and columns after cleaning\n",
    "CreditCardData_df_clean.shape"
   ]
  },
  {
   "cell_type": "code",
   "execution_count": 12,
   "metadata": {},
   "outputs": [
    {
     "data": {
      "text/plain": [
       "99491"
      ]
     },
     "execution_count": 12,
     "metadata": {},
     "output_type": "execute_result"
    }
   ],
   "source": [
    "CreditCardData_df_clean.shape[0]"
   ]
  },
  {
   "cell_type": "code",
   "execution_count": 13,
   "metadata": {},
   "outputs": [
    {
     "name": "stdout",
     "output_type": "stream",
     "text": [
      "We've got rid of 509 rows with NaN or nulls\n"
     ]
    }
   ],
   "source": [
    "print(\"We've got rid of \" + str(CreditCardData_df.shape[0] - CreditCardData_df_clean.shape[0]) + \" rows with NaN or nulls\")"
   ]
  },
  {
   "cell_type": "code",
   "execution_count": 14,
   "metadata": {},
   "outputs": [
    {
     "data": {
      "text/html": [
       "<div>\n",
       "<style scoped>\n",
       "    .dataframe tbody tr th:only-of-type {\n",
       "        vertical-align: middle;\n",
       "    }\n",
       "\n",
       "    .dataframe tbody tr th {\n",
       "        vertical-align: top;\n",
       "    }\n",
       "\n",
       "    .dataframe thead th {\n",
       "        text-align: right;\n",
       "    }\n",
       "</style>\n",
       "<table border=\"1\" class=\"dataframe\">\n",
       "  <thead>\n",
       "    <tr style=\"text-align: right;\">\n",
       "      <th></th>\n",
       "      <th>Transaction ID</th>\n",
       "      <th>Date</th>\n",
       "      <th>Day of Week</th>\n",
       "      <th>Time</th>\n",
       "      <th>Type of Card</th>\n",
       "      <th>Entry Mode</th>\n",
       "      <th>Amount</th>\n",
       "      <th>Type of Transaction</th>\n",
       "      <th>Merchant Group</th>\n",
       "      <th>Country of Transaction</th>\n",
       "      <th>Shipping Address</th>\n",
       "      <th>Country of Residence</th>\n",
       "      <th>Gender</th>\n",
       "      <th>Age</th>\n",
       "      <th>Bank</th>\n",
       "      <th>Fraud</th>\n",
       "    </tr>\n",
       "  </thead>\n",
       "  <tbody>\n",
       "    <tr>\n",
       "      <th>0</th>\n",
       "      <td>False</td>\n",
       "      <td>False</td>\n",
       "      <td>False</td>\n",
       "      <td>False</td>\n",
       "      <td>False</td>\n",
       "      <td>False</td>\n",
       "      <td>False</td>\n",
       "      <td>False</td>\n",
       "      <td>False</td>\n",
       "      <td>False</td>\n",
       "      <td>False</td>\n",
       "      <td>False</td>\n",
       "      <td>False</td>\n",
       "      <td>False</td>\n",
       "      <td>False</td>\n",
       "      <td>False</td>\n",
       "    </tr>\n",
       "    <tr>\n",
       "      <th>1</th>\n",
       "      <td>False</td>\n",
       "      <td>False</td>\n",
       "      <td>False</td>\n",
       "      <td>False</td>\n",
       "      <td>False</td>\n",
       "      <td>False</td>\n",
       "      <td>False</td>\n",
       "      <td>False</td>\n",
       "      <td>False</td>\n",
       "      <td>False</td>\n",
       "      <td>False</td>\n",
       "      <td>False</td>\n",
       "      <td>False</td>\n",
       "      <td>False</td>\n",
       "      <td>False</td>\n",
       "      <td>False</td>\n",
       "    </tr>\n",
       "    <tr>\n",
       "      <th>2</th>\n",
       "      <td>False</td>\n",
       "      <td>False</td>\n",
       "      <td>False</td>\n",
       "      <td>False</td>\n",
       "      <td>False</td>\n",
       "      <td>False</td>\n",
       "      <td>False</td>\n",
       "      <td>False</td>\n",
       "      <td>False</td>\n",
       "      <td>False</td>\n",
       "      <td>False</td>\n",
       "      <td>False</td>\n",
       "      <td>False</td>\n",
       "      <td>False</td>\n",
       "      <td>False</td>\n",
       "      <td>False</td>\n",
       "    </tr>\n",
       "    <tr>\n",
       "      <th>3</th>\n",
       "      <td>False</td>\n",
       "      <td>False</td>\n",
       "      <td>False</td>\n",
       "      <td>False</td>\n",
       "      <td>False</td>\n",
       "      <td>False</td>\n",
       "      <td>False</td>\n",
       "      <td>False</td>\n",
       "      <td>False</td>\n",
       "      <td>False</td>\n",
       "      <td>False</td>\n",
       "      <td>False</td>\n",
       "      <td>False</td>\n",
       "      <td>False</td>\n",
       "      <td>False</td>\n",
       "      <td>False</td>\n",
       "    </tr>\n",
       "    <tr>\n",
       "      <th>4</th>\n",
       "      <td>False</td>\n",
       "      <td>False</td>\n",
       "      <td>False</td>\n",
       "      <td>False</td>\n",
       "      <td>False</td>\n",
       "      <td>False</td>\n",
       "      <td>False</td>\n",
       "      <td>False</td>\n",
       "      <td>False</td>\n",
       "      <td>False</td>\n",
       "      <td>False</td>\n",
       "      <td>False</td>\n",
       "      <td>False</td>\n",
       "      <td>False</td>\n",
       "      <td>False</td>\n",
       "      <td>False</td>\n",
       "    </tr>\n",
       "    <tr>\n",
       "      <th>...</th>\n",
       "      <td>...</td>\n",
       "      <td>...</td>\n",
       "      <td>...</td>\n",
       "      <td>...</td>\n",
       "      <td>...</td>\n",
       "      <td>...</td>\n",
       "      <td>...</td>\n",
       "      <td>...</td>\n",
       "      <td>...</td>\n",
       "      <td>...</td>\n",
       "      <td>...</td>\n",
       "      <td>...</td>\n",
       "      <td>...</td>\n",
       "      <td>...</td>\n",
       "      <td>...</td>\n",
       "      <td>...</td>\n",
       "    </tr>\n",
       "    <tr>\n",
       "      <th>99995</th>\n",
       "      <td>False</td>\n",
       "      <td>False</td>\n",
       "      <td>False</td>\n",
       "      <td>False</td>\n",
       "      <td>False</td>\n",
       "      <td>False</td>\n",
       "      <td>False</td>\n",
       "      <td>False</td>\n",
       "      <td>False</td>\n",
       "      <td>False</td>\n",
       "      <td>False</td>\n",
       "      <td>False</td>\n",
       "      <td>False</td>\n",
       "      <td>False</td>\n",
       "      <td>False</td>\n",
       "      <td>False</td>\n",
       "    </tr>\n",
       "    <tr>\n",
       "      <th>99996</th>\n",
       "      <td>False</td>\n",
       "      <td>False</td>\n",
       "      <td>False</td>\n",
       "      <td>False</td>\n",
       "      <td>False</td>\n",
       "      <td>False</td>\n",
       "      <td>False</td>\n",
       "      <td>False</td>\n",
       "      <td>False</td>\n",
       "      <td>False</td>\n",
       "      <td>False</td>\n",
       "      <td>False</td>\n",
       "      <td>False</td>\n",
       "      <td>False</td>\n",
       "      <td>False</td>\n",
       "      <td>False</td>\n",
       "    </tr>\n",
       "    <tr>\n",
       "      <th>99997</th>\n",
       "      <td>False</td>\n",
       "      <td>False</td>\n",
       "      <td>False</td>\n",
       "      <td>False</td>\n",
       "      <td>False</td>\n",
       "      <td>False</td>\n",
       "      <td>False</td>\n",
       "      <td>False</td>\n",
       "      <td>False</td>\n",
       "      <td>False</td>\n",
       "      <td>False</td>\n",
       "      <td>False</td>\n",
       "      <td>False</td>\n",
       "      <td>False</td>\n",
       "      <td>False</td>\n",
       "      <td>False</td>\n",
       "    </tr>\n",
       "    <tr>\n",
       "      <th>99998</th>\n",
       "      <td>False</td>\n",
       "      <td>False</td>\n",
       "      <td>False</td>\n",
       "      <td>False</td>\n",
       "      <td>False</td>\n",
       "      <td>False</td>\n",
       "      <td>False</td>\n",
       "      <td>False</td>\n",
       "      <td>False</td>\n",
       "      <td>False</td>\n",
       "      <td>False</td>\n",
       "      <td>False</td>\n",
       "      <td>False</td>\n",
       "      <td>False</td>\n",
       "      <td>False</td>\n",
       "      <td>False</td>\n",
       "    </tr>\n",
       "    <tr>\n",
       "      <th>99999</th>\n",
       "      <td>False</td>\n",
       "      <td>False</td>\n",
       "      <td>False</td>\n",
       "      <td>False</td>\n",
       "      <td>False</td>\n",
       "      <td>False</td>\n",
       "      <td>False</td>\n",
       "      <td>False</td>\n",
       "      <td>False</td>\n",
       "      <td>False</td>\n",
       "      <td>False</td>\n",
       "      <td>False</td>\n",
       "      <td>False</td>\n",
       "      <td>False</td>\n",
       "      <td>False</td>\n",
       "      <td>False</td>\n",
       "    </tr>\n",
       "  </tbody>\n",
       "</table>\n",
       "<p>99491 rows × 16 columns</p>\n",
       "</div>"
      ],
      "text/plain": [
       "       Transaction ID   Date  Day of Week   Time  Type of Card  Entry Mode  \\\n",
       "0               False  False        False  False         False       False   \n",
       "1               False  False        False  False         False       False   \n",
       "2               False  False        False  False         False       False   \n",
       "3               False  False        False  False         False       False   \n",
       "4               False  False        False  False         False       False   \n",
       "...               ...    ...          ...    ...           ...         ...   \n",
       "99995           False  False        False  False         False       False   \n",
       "99996           False  False        False  False         False       False   \n",
       "99997           False  False        False  False         False       False   \n",
       "99998           False  False        False  False         False       False   \n",
       "99999           False  False        False  False         False       False   \n",
       "\n",
       "       Amount  Type of Transaction  Merchant Group  Country of Transaction  \\\n",
       "0       False                False           False                   False   \n",
       "1       False                False           False                   False   \n",
       "2       False                False           False                   False   \n",
       "3       False                False           False                   False   \n",
       "4       False                False           False                   False   \n",
       "...       ...                  ...             ...                     ...   \n",
       "99995   False                False           False                   False   \n",
       "99996   False                False           False                   False   \n",
       "99997   False                False           False                   False   \n",
       "99998   False                False           False                   False   \n",
       "99999   False                False           False                   False   \n",
       "\n",
       "       Shipping Address  Country of Residence  Gender    Age   Bank  Fraud  \n",
       "0                 False                 False   False  False  False  False  \n",
       "1                 False                 False   False  False  False  False  \n",
       "2                 False                 False   False  False  False  False  \n",
       "3                 False                 False   False  False  False  False  \n",
       "4                 False                 False   False  False  False  False  \n",
       "...                 ...                   ...     ...    ...    ...    ...  \n",
       "99995             False                 False   False  False  False  False  \n",
       "99996             False                 False   False  False  False  False  \n",
       "99997             False                 False   False  False  False  False  \n",
       "99998             False                 False   False  False  False  False  \n",
       "99999             False                 False   False  False  False  False  \n",
       "\n",
       "[99491 rows x 16 columns]"
      ]
     },
     "execution_count": 14,
     "metadata": {},
     "output_type": "execute_result"
    }
   ],
   "source": [
    "# Checking data for nulls\n",
    "nulls = CreditCardData_df_clean.isnull()\n",
    "nulls"
   ]
  },
  {
   "cell_type": "code",
   "execution_count": 15,
   "metadata": {},
   "outputs": [
    {
     "data": {
      "text/plain": [
       "Transaction ID  Date   Day of Week  Time   Type of Card  Entry Mode  Amount  Type of Transaction  Merchant Group  Country of Transaction  Shipping Address  Country of Residence  Gender  Age    Bank   Fraud\n",
       "False           False  False        False  False         False       False   False                False           False                   False             False                 False   False  False  False    99491\n",
       "dtype: int64"
      ]
     },
     "execution_count": 15,
     "metadata": {},
     "output_type": "execute_result"
    }
   ],
   "source": [
    "nulls.value_counts()"
   ]
  },
  {
   "cell_type": "code",
   "execution_count": 16,
   "metadata": {},
   "outputs": [
    {
     "data": {
      "text/plain": [
       "Transaction ID            0\n",
       "Date                      0\n",
       "Day of Week               0\n",
       "Time                      0\n",
       "Type of Card              0\n",
       "Entry Mode                0\n",
       "Amount                    0\n",
       "Type of Transaction       0\n",
       "Merchant Group            0\n",
       "Country of Transaction    0\n",
       "Shipping Address          0\n",
       "Country of Residence      0\n",
       "Gender                    0\n",
       "Age                       0\n",
       "Bank                      0\n",
       "Fraud                     0\n",
       "dtype: int64"
      ]
     },
     "execution_count": 16,
     "metadata": {},
     "output_type": "execute_result"
    }
   ],
   "source": [
    "num_nulls = CreditCardData_df_clean.isnull().sum()\n",
    "num_nulls"
   ]
  },
  {
   "cell_type": "markdown",
   "metadata": {},
   "source": [
    "#### So no more nulls"
   ]
  },
  {
   "cell_type": "code",
   "execution_count": 17,
   "metadata": {},
   "outputs": [
    {
     "data": {
      "text/html": [
       "<div>\n",
       "<style scoped>\n",
       "    .dataframe tbody tr th:only-of-type {\n",
       "        vertical-align: middle;\n",
       "    }\n",
       "\n",
       "    .dataframe tbody tr th {\n",
       "        vertical-align: top;\n",
       "    }\n",
       "\n",
       "    .dataframe thead th {\n",
       "        text-align: right;\n",
       "    }\n",
       "</style>\n",
       "<table border=\"1\" class=\"dataframe\">\n",
       "  <thead>\n",
       "    <tr style=\"text-align: right;\">\n",
       "      <th></th>\n",
       "      <th>Transaction ID</th>\n",
       "      <th>Date</th>\n",
       "      <th>Day of Week</th>\n",
       "      <th>Time</th>\n",
       "      <th>Type of Card</th>\n",
       "      <th>Entry Mode</th>\n",
       "      <th>Amount</th>\n",
       "      <th>Type of Transaction</th>\n",
       "      <th>Merchant Group</th>\n",
       "      <th>Country of Transaction</th>\n",
       "      <th>Shipping Address</th>\n",
       "      <th>Country of Residence</th>\n",
       "      <th>Gender</th>\n",
       "      <th>Age</th>\n",
       "      <th>Bank</th>\n",
       "      <th>Fraud</th>\n",
       "    </tr>\n",
       "  </thead>\n",
       "  <tbody>\n",
       "    <tr>\n",
       "      <th>0</th>\n",
       "      <td>#3577 209</td>\n",
       "      <td>14-Oct-20</td>\n",
       "      <td>Wednesday</td>\n",
       "      <td>19</td>\n",
       "      <td>Visa</td>\n",
       "      <td>Tap</td>\n",
       "      <td>Â£5</td>\n",
       "      <td>POS</td>\n",
       "      <td>Entertainment</td>\n",
       "      <td>United Kingdom</td>\n",
       "      <td>United Kingdom</td>\n",
       "      <td>United Kingdom</td>\n",
       "      <td>M</td>\n",
       "      <td>25.2</td>\n",
       "      <td>RBS</td>\n",
       "      <td>0</td>\n",
       "    </tr>\n",
       "    <tr>\n",
       "      <th>1</th>\n",
       "      <td>#3039 221</td>\n",
       "      <td>14-Oct-20</td>\n",
       "      <td>Wednesday</td>\n",
       "      <td>17</td>\n",
       "      <td>MasterCard</td>\n",
       "      <td>PIN</td>\n",
       "      <td>Â£288</td>\n",
       "      <td>POS</td>\n",
       "      <td>Services</td>\n",
       "      <td>USA</td>\n",
       "      <td>USA</td>\n",
       "      <td>USA</td>\n",
       "      <td>F</td>\n",
       "      <td>49.6</td>\n",
       "      <td>Lloyds</td>\n",
       "      <td>0</td>\n",
       "    </tr>\n",
       "  </tbody>\n",
       "</table>\n",
       "</div>"
      ],
      "text/plain": [
       "  Transaction ID       Date Day of Week  Time Type of Card Entry Mode Amount  \\\n",
       "0      #3577 209  14-Oct-20   Wednesday    19         Visa        Tap    Â£5   \n",
       "1      #3039 221  14-Oct-20   Wednesday    17   MasterCard        PIN  Â£288   \n",
       "\n",
       "  Type of Transaction Merchant Group Country of Transaction Shipping Address  \\\n",
       "0                 POS  Entertainment         United Kingdom   United Kingdom   \n",
       "1                 POS       Services                    USA              USA   \n",
       "\n",
       "  Country of Residence Gender   Age    Bank Fraud  \n",
       "0       United Kingdom      M  25.2     RBS     0  \n",
       "1                  USA      F  49.6  Lloyds     0  "
      ]
     },
     "execution_count": 17,
     "metadata": {},
     "output_type": "execute_result"
    }
   ],
   "source": [
    "CreditCardData_df_clean.head(2)"
   ]
  },
  {
   "cell_type": "code",
   "execution_count": 18,
   "metadata": {},
   "outputs": [
    {
     "name": "stdout",
     "output_type": "stream",
     "text": [
      "<class 'pandas.core.frame.DataFrame'>\n",
      "Int64Index: 99491 entries, 0 to 99999\n",
      "Data columns (total 16 columns):\n",
      " #   Column                  Non-Null Count  Dtype \n",
      "---  ------                  --------------  ----- \n",
      " 0   Transaction ID          99491 non-null  object\n",
      " 1   Date                    99491 non-null  object\n",
      " 2   Day of Week             99491 non-null  object\n",
      " 3   Time                    99491 non-null  int64 \n",
      " 4   Type of Card            99491 non-null  object\n",
      " 5   Entry Mode              99491 non-null  object\n",
      " 6   Amount                  99491 non-null  object\n",
      " 7   Type of Transaction     99491 non-null  object\n",
      " 8   Merchant Group          99491 non-null  object\n",
      " 9   Country of Transaction  99491 non-null  object\n",
      " 10  Shipping Address        99491 non-null  object\n",
      " 11  Country of Residence    99491 non-null  object\n",
      " 12  Gender                  99491 non-null  object\n",
      " 13  Age                     99491 non-null  object\n",
      " 14  Bank                    99491 non-null  object\n",
      " 15  Fraud                   99491 non-null  object\n",
      "dtypes: int64(1), object(15)\n",
      "memory usage: 12.9+ MB\n"
     ]
    }
   ],
   "source": [
    "# Figuring out type of data these columns hold\n",
    "CreditCardData_df_clean.info()"
   ]
  },
  {
   "cell_type": "markdown",
   "metadata": {},
   "source": [
    "#### Now all columns hold equally same number of data"
   ]
  },
  {
   "cell_type": "code",
   "execution_count": 19,
   "metadata": {},
   "outputs": [
    {
     "data": {
      "text/plain": [
       "0    #3577 209\n",
       "1    #3039 221\n",
       "2    #2694 780\n",
       "3    #2640 960\n",
       "4    #2771 031\n",
       "Name: Transaction ID, dtype: object"
      ]
     },
     "execution_count": 19,
     "metadata": {},
     "output_type": "execute_result"
    }
   ],
   "source": [
    "# There is \"#\" next to each number, it should be removed 1st then converting column data type from Object to integer\n",
    "CreditCardData_df_clean[\"Transaction ID\"].head()"
   ]
  },
  {
   "cell_type": "markdown",
   "metadata": {},
   "source": [
    "----------------\n",
    "\n",
    "### 1- Fixing data in \"Transaction ID\" column\n",
    "\n",
    "----------------"
   ]
  },
  {
   "cell_type": "code",
   "execution_count": 20,
   "metadata": {},
   "outputs": [
    {
     "data": {
      "text/plain": [
       "0    3577 209\n",
       "1    3039 221\n",
       "2    2694 780\n",
       "3    2640 960\n",
       "4    2771 031\n",
       "Name: Transaction ID, dtype: object"
      ]
     },
     "execution_count": 20,
     "metadata": {},
     "output_type": "execute_result"
    }
   ],
   "source": [
    "# 1st getting rid of '#' in the \"Transaction ID\"\n",
    "CreditCardData_df_clean.loc[:, 'Transaction ID'] = CreditCardData_df_clean['Transaction ID'].str.replace('#', '')\n",
    "CreditCardData_df_clean['Transaction ID'].head()"
   ]
  },
  {
   "cell_type": "code",
   "execution_count": 21,
   "metadata": {},
   "outputs": [
    {
     "data": {
      "text/html": [
       "<div>\n",
       "<style scoped>\n",
       "    .dataframe tbody tr th:only-of-type {\n",
       "        vertical-align: middle;\n",
       "    }\n",
       "\n",
       "    .dataframe tbody tr th {\n",
       "        vertical-align: top;\n",
       "    }\n",
       "\n",
       "    .dataframe thead th {\n",
       "        text-align: right;\n",
       "    }\n",
       "</style>\n",
       "<table border=\"1\" class=\"dataframe\">\n",
       "  <thead>\n",
       "    <tr style=\"text-align: right;\">\n",
       "      <th></th>\n",
       "      <th>Transaction ID</th>\n",
       "      <th>Date</th>\n",
       "      <th>Day of Week</th>\n",
       "      <th>Time</th>\n",
       "      <th>Type of Card</th>\n",
       "      <th>Entry Mode</th>\n",
       "      <th>Amount</th>\n",
       "      <th>Type of Transaction</th>\n",
       "      <th>Merchant Group</th>\n",
       "      <th>Country of Transaction</th>\n",
       "      <th>Shipping Address</th>\n",
       "      <th>Country of Residence</th>\n",
       "      <th>Gender</th>\n",
       "      <th>Age</th>\n",
       "      <th>Bank</th>\n",
       "      <th>Fraud</th>\n",
       "    </tr>\n",
       "  </thead>\n",
       "  <tbody>\n",
       "    <tr>\n",
       "      <th>0</th>\n",
       "      <td>3577 209</td>\n",
       "      <td>14-Oct-20</td>\n",
       "      <td>Wednesday</td>\n",
       "      <td>19</td>\n",
       "      <td>Visa</td>\n",
       "      <td>Tap</td>\n",
       "      <td>Â£5</td>\n",
       "      <td>POS</td>\n",
       "      <td>Entertainment</td>\n",
       "      <td>United Kingdom</td>\n",
       "      <td>United Kingdom</td>\n",
       "      <td>United Kingdom</td>\n",
       "      <td>M</td>\n",
       "      <td>25.2</td>\n",
       "      <td>RBS</td>\n",
       "      <td>0</td>\n",
       "    </tr>\n",
       "    <tr>\n",
       "      <th>1</th>\n",
       "      <td>3039 221</td>\n",
       "      <td>14-Oct-20</td>\n",
       "      <td>Wednesday</td>\n",
       "      <td>17</td>\n",
       "      <td>MasterCard</td>\n",
       "      <td>PIN</td>\n",
       "      <td>Â£288</td>\n",
       "      <td>POS</td>\n",
       "      <td>Services</td>\n",
       "      <td>USA</td>\n",
       "      <td>USA</td>\n",
       "      <td>USA</td>\n",
       "      <td>F</td>\n",
       "      <td>49.6</td>\n",
       "      <td>Lloyds</td>\n",
       "      <td>0</td>\n",
       "    </tr>\n",
       "  </tbody>\n",
       "</table>\n",
       "</div>"
      ],
      "text/plain": [
       "  Transaction ID       Date Day of Week  Time Type of Card Entry Mode Amount  \\\n",
       "0       3577 209  14-Oct-20   Wednesday    19         Visa        Tap    Â£5   \n",
       "1       3039 221  14-Oct-20   Wednesday    17   MasterCard        PIN  Â£288   \n",
       "\n",
       "  Type of Transaction Merchant Group Country of Transaction Shipping Address  \\\n",
       "0                 POS  Entertainment         United Kingdom   United Kingdom   \n",
       "1                 POS       Services                    USA              USA   \n",
       "\n",
       "  Country of Residence Gender   Age    Bank Fraud  \n",
       "0       United Kingdom      M  25.2     RBS     0  \n",
       "1                  USA      F  49.6  Lloyds     0  "
      ]
     },
     "execution_count": 21,
     "metadata": {},
     "output_type": "execute_result"
    }
   ],
   "source": [
    "CreditCardData_df_clean.head(2)"
   ]
  },
  {
   "cell_type": "code",
   "execution_count": 22,
   "metadata": {},
   "outputs": [
    {
     "data": {
      "text/plain": [
       "dtype('O')"
      ]
     },
     "execution_count": 22,
     "metadata": {},
     "output_type": "execute_result"
    }
   ],
   "source": [
    "CreditCardData_df_clean['Transaction ID'].dtype"
   ]
  },
  {
   "cell_type": "code",
   "execution_count": 23,
   "metadata": {},
   "outputs": [
    {
     "data": {
      "text/plain": [
       "0    3577209\n",
       "1    3039221\n",
       "2    2694780\n",
       "3    2640960\n",
       "4    2771031\n",
       "Name: Transaction ID, dtype: object"
      ]
     },
     "execution_count": 23,
     "metadata": {},
     "output_type": "execute_result"
    }
   ],
   "source": [
    "# 2nd getting rid of 'space' in the \"Transaction ID\"\n",
    "CreditCardData_df_clean.loc[:, 'Transaction ID'] = CreditCardData_df_clean['Transaction ID'].str.replace(' ', '')\n",
    "CreditCardData_df_clean['Transaction ID'].head()"
   ]
  },
  {
   "cell_type": "code",
   "execution_count": 24,
   "metadata": {},
   "outputs": [
    {
     "data": {
      "text/plain": [
       "dtype('int64')"
      ]
     },
     "execution_count": 24,
     "metadata": {},
     "output_type": "execute_result"
    }
   ],
   "source": [
    "# 3rd converting the data in CreditCardData_df_clean['Transaction ID'] into integer\n",
    "CreditCardData_df_clean['Transaction ID'] = pd.to_numeric(CreditCardData_df_clean['Transaction ID'])\n",
    "CreditCardData_df_clean['Transaction ID'].dtype"
   ]
  },
  {
   "cell_type": "markdown",
   "metadata": {},
   "source": [
    "---------\n",
    "\n",
    "### 2- Fixing data in \"Date\" column\n",
    "\n",
    "_______"
   ]
  },
  {
   "cell_type": "code",
   "execution_count": 25,
   "metadata": {},
   "outputs": [
    {
     "data": {
      "text/plain": [
       "0   2020-10-14\n",
       "1   2020-10-14\n",
       "2   2020-10-14\n",
       "3   2020-10-13\n",
       "4   2020-10-13\n",
       "Name: Date, dtype: datetime64[ns]"
      ]
     },
     "execution_count": 25,
     "metadata": {},
     "output_type": "execute_result"
    }
   ],
   "source": [
    "# Converting \"Date\" column from object to date\n",
    "CreditCardData_df_clean['Date'] = pd.to_datetime(CreditCardData_df_clean['Date'], format='%d-%b-%y')\n",
    "CreditCardData_df_clean['Date'].head()"
   ]
  },
  {
   "cell_type": "code",
   "execution_count": 26,
   "metadata": {},
   "outputs": [
    {
     "data": {
      "text/plain": [
       "dtype('<M8[ns]')"
      ]
     },
     "execution_count": 26,
     "metadata": {},
     "output_type": "execute_result"
    }
   ],
   "source": [
    "# Now checking \"Date\" data type\n",
    "CreditCardData_df_clean['Date'].dtypes"
   ]
  },
  {
   "cell_type": "markdown",
   "metadata": {},
   "source": [
    "--------------\n",
    "\n",
    "### 3- Converting data type in column \"Amount\" from object to integer\n",
    "\n",
    "--------------"
   ]
  },
  {
   "cell_type": "code",
   "execution_count": 27,
   "metadata": {},
   "outputs": [
    {
     "data": {
      "text/plain": [
       "0      5\n",
       "1    288\n",
       "2      5\n",
       "3     28\n",
       "4     91\n",
       "Name: Amount, dtype: object"
      ]
     },
     "execution_count": 27,
     "metadata": {},
     "output_type": "execute_result"
    }
   ],
   "source": [
    "# a) Getting rid of \"£\" \n",
    "CreditCardData_df_clean['Amount'] = CreditCardData_df_clean['Amount'].str.replace('Â£', '')\n",
    "CreditCardData_df_clean['Amount'].head()"
   ]
  },
  {
   "cell_type": "code",
   "execution_count": 28,
   "metadata": {},
   "outputs": [
    {
     "data": {
      "text/plain": [
       "dtype('float64')"
      ]
     },
     "execution_count": 28,
     "metadata": {},
     "output_type": "execute_result"
    }
   ],
   "source": [
    "# b) Converting data type in column \"Amount\" to Integer from Object\n",
    "CreditCardData_df_clean['Amount'] = pd.to_numeric(CreditCardData_df_clean['Amount'])\n",
    "CreditCardData_df_clean['Amount'].dtype"
   ]
  },
  {
   "cell_type": "markdown",
   "metadata": {},
   "source": [
    "We can not convert data in column \"Amount\" into integer unless we get rid of non-finite and NaN values.\n"
   ]
  },
  {
   "cell_type": "code",
   "execution_count": 29,
   "metadata": {},
   "outputs": [
    {
     "name": "stdout",
     "output_type": "stream",
     "text": [
      "Transaction ID            0\n",
      "Date                      0\n",
      "Day of Week               0\n",
      "Time                      0\n",
      "Type of Card              0\n",
      "Entry Mode                0\n",
      "Amount                    6\n",
      "Type of Transaction       0\n",
      "Merchant Group            0\n",
      "Country of Transaction    0\n",
      "Shipping Address          0\n",
      "Country of Residence      0\n",
      "Gender                    0\n",
      "Age                       0\n",
      "Bank                      0\n",
      "Fraud                     0\n",
      "dtype: int64\n"
     ]
    }
   ],
   "source": [
    "# Figuring out if there is NaN values in colum \"Amount\"\n",
    "nan_count = CreditCardData_df_clean.isna().sum()\n",
    "print(nan_count)"
   ]
  },
  {
   "cell_type": "code",
   "execution_count": 30,
   "metadata": {},
   "outputs": [
    {
     "name": "stdout",
     "output_type": "stream",
     "text": [
      "Transaction ID            0\n",
      "Date                      0\n",
      "Day of Week               0\n",
      "Time                      0\n",
      "Type of Card              0\n",
      "Entry Mode                0\n",
      "Amount                    0\n",
      "Type of Transaction       0\n",
      "Merchant Group            0\n",
      "Country of Transaction    0\n",
      "Shipping Address          0\n",
      "Country of Residence      0\n",
      "Gender                    0\n",
      "Age                       0\n",
      "Bank                      0\n",
      "Fraud                     0\n",
      "dtype: int64\n"
     ]
    }
   ],
   "source": [
    "# Figuring out if there is non-finite values in colum \"Amount\"\n",
    "inf_count = CreditCardData_df_clean.isin([np.inf, -np.inf]).sum()\n",
    "print(inf_count)"
   ]
  },
  {
   "cell_type": "code",
   "execution_count": 31,
   "metadata": {},
   "outputs": [
    {
     "data": {
      "text/plain": [
       "(99485, 16)"
      ]
     },
     "execution_count": 31,
     "metadata": {},
     "output_type": "execute_result"
    }
   ],
   "source": [
    "# Getting rid of NA\n",
    "CreditCardData_df_clean = CreditCardData_df_clean.dropna()\n",
    "CreditCardData_df_clean.shape"
   ]
  },
  {
   "cell_type": "code",
   "execution_count": 32,
   "metadata": {},
   "outputs": [
    {
     "data": {
      "text/plain": [
       "dtype('int64')"
      ]
     },
     "execution_count": 32,
     "metadata": {},
     "output_type": "execute_result"
    }
   ],
   "source": [
    "CreditCardData_df_clean['Amount'] = CreditCardData_df_clean['Amount'].astype(np.int64)\n",
    "CreditCardData_df_clean['Amount'].dtype"
   ]
  },
  {
   "cell_type": "markdown",
   "metadata": {},
   "source": [
    "-----------\n",
    "\n",
    "### 4- Converting data type in \"Age\" into Integer from Float\n",
    "\n",
    "----------"
   ]
  },
  {
   "cell_type": "code",
   "execution_count": 33,
   "metadata": {},
   "outputs": [
    {
     "data": {
      "text/plain": [
       "0    25.0\n",
       "1    50.0\n",
       "2    42.0\n",
       "3    51.0\n",
       "4    38.0\n",
       "Name: Age, dtype: float64"
      ]
     },
     "execution_count": 33,
     "metadata": {},
     "output_type": "execute_result"
    }
   ],
   "source": [
    "# Rounding it 1st\n",
    "CreditCardData_df_clean['Age'] = CreditCardData_df_clean['Age'].astype(float)\n",
    "CreditCardData_df_clean['Age'] = round(CreditCardData_df_clean['Age'], 0)\n",
    "CreditCardData_df_clean['Age'].head()"
   ]
  },
  {
   "cell_type": "code",
   "execution_count": 34,
   "metadata": {},
   "outputs": [
    {
     "data": {
      "text/plain": [
       "dtype('float64')"
      ]
     },
     "execution_count": 34,
     "metadata": {},
     "output_type": "execute_result"
    }
   ],
   "source": [
    "# 2nd converting it\n",
    "CreditCardData_df_clean['Age'] = pd.to_numeric(CreditCardData_df_clean['Age'])\n",
    "CreditCardData_df_clean['Age'] .dtype"
   ]
  },
  {
   "cell_type": "code",
   "execution_count": 35,
   "metadata": {},
   "outputs": [
    {
     "data": {
      "text/plain": [
       "dtype('int64')"
      ]
     },
     "execution_count": 35,
     "metadata": {},
     "output_type": "execute_result"
    }
   ],
   "source": [
    "CreditCardData_df_clean['Age'] = CreditCardData_df_clean['Age'].astype(np.int64)\n",
    "CreditCardData_df_clean['Age'].dtype"
   ]
  },
  {
   "cell_type": "markdown",
   "metadata": {},
   "source": [
    "---------------------"
   ]
  },
  {
   "cell_type": "code",
   "execution_count": 36,
   "metadata": {},
   "outputs": [
    {
     "data": {
      "text/plain": [
       "Transaction ID                     int64\n",
       "Date                      datetime64[ns]\n",
       "Day of Week                       object\n",
       "Time                               int64\n",
       "Type of Card                      object\n",
       "Entry Mode                        object\n",
       "Amount                             int64\n",
       "Type of Transaction               object\n",
       "Merchant Group                    object\n",
       "Country of Transaction            object\n",
       "Shipping Address                  object\n",
       "Country of Residence              object\n",
       "Gender                            object\n",
       "Age                                int64\n",
       "Bank                              object\n",
       "Fraud                             object\n",
       "dtype: object"
      ]
     },
     "execution_count": 36,
     "metadata": {},
     "output_type": "execute_result"
    }
   ],
   "source": [
    "# Checking all the data types\n",
    "CreditCardData_df_clean.dtypes"
   ]
  },
  {
   "cell_type": "code",
   "execution_count": 37,
   "metadata": {},
   "outputs": [
    {
     "name": "stdout",
     "output_type": "stream",
     "text": [
      "<class 'pandas.core.frame.DataFrame'>\n",
      "Int64Index: 99485 entries, 0 to 99999\n",
      "Data columns (total 16 columns):\n",
      " #   Column                  Non-Null Count  Dtype         \n",
      "---  ------                  --------------  -----         \n",
      " 0   Transaction ID          99485 non-null  int64         \n",
      " 1   Date                    99485 non-null  datetime64[ns]\n",
      " 2   Day of Week             99485 non-null  object        \n",
      " 3   Time                    99485 non-null  int64         \n",
      " 4   Type of Card            99485 non-null  object        \n",
      " 5   Entry Mode              99485 non-null  object        \n",
      " 6   Amount                  99485 non-null  int64         \n",
      " 7   Type of Transaction     99485 non-null  object        \n",
      " 8   Merchant Group          99485 non-null  object        \n",
      " 9   Country of Transaction  99485 non-null  object        \n",
      " 10  Shipping Address        99485 non-null  object        \n",
      " 11  Country of Residence    99485 non-null  object        \n",
      " 12  Gender                  99485 non-null  object        \n",
      " 13  Age                     99485 non-null  int64         \n",
      " 14  Bank                    99485 non-null  object        \n",
      " 15  Fraud                   99485 non-null  object        \n",
      "dtypes: datetime64[ns](1), int64(4), object(11)\n",
      "memory usage: 12.9+ MB\n"
     ]
    }
   ],
   "source": [
    "# Or like this\n",
    "CreditCardData_df_clean.info()"
   ]
  },
  {
   "cell_type": "markdown",
   "metadata": {},
   "source": [
    "_________________"
   ]
  },
  {
   "cell_type": "markdown",
   "metadata": {},
   "source": [
    "### Total rows were removed"
   ]
  },
  {
   "cell_type": "code",
   "execution_count": 38,
   "metadata": {},
   "outputs": [
    {
     "name": "stdout",
     "output_type": "stream",
     "text": [
      "We've got ridden of 515 rows with NaN or nulls\n"
     ]
    }
   ],
   "source": [
    "print(\"We've got ridden of \" + str(CreditCardData_df.shape[0] - CreditCardData_df_clean.shape[0]) + \" rows with NaN or nulls\")"
   ]
  },
  {
   "cell_type": "markdown",
   "metadata": {},
   "source": [
    "-------------------\n",
    "\n",
    "### Data Conversion Done\n",
    "\n",
    "------------------------"
   ]
  },
  {
   "cell_type": "markdown",
   "metadata": {},
   "source": [
    "---------------\n",
    "\n",
    "## Creating Machine Learning Model\n",
    "\n",
    "--------------"
   ]
  },
  {
   "cell_type": "markdown",
   "metadata": {},
   "source": [
    "+++++++++++++++++++++++++++++++++++++++++++++++++++++++++++++++++\n",
    "\n",
    "### Logistical Regression 1st Model before Balancing the Training Data\n",
    "\n",
    "+++++++++++++++++++++++++++++++++++++++++++++++++++++++++++++++++"
   ]
  },
  {
   "cell_type": "code",
   "execution_count": 39,
   "metadata": {},
   "outputs": [
    {
     "data": {
      "text/plain": [
       "0    92802\n",
       "1     6683\n",
       "Name: Fraud, dtype: int64"
      ]
     },
     "execution_count": 39,
     "metadata": {},
     "output_type": "execute_result"
    }
   ],
   "source": [
    "CreditCardData_df_clean['Fraud'].value_counts()"
   ]
  },
  {
   "cell_type": "code",
   "execution_count": 40,
   "metadata": {},
   "outputs": [
    {
     "name": "stdout",
     "output_type": "stream",
     "text": [
      "No of samples belongs to Safe Transactions: 92802\n",
      "No of samples belongs to Fraudalent Transactions: 6683\n"
     ]
    }
   ],
   "source": [
    "print('No of samples belongs to Safe Transactions:', CreditCardData_df_clean['Fraud'].value_counts()[0])\n",
    "print('No of samples belongs to Fraudalent Transactions:', CreditCardData_df_clean['Fraud'].value_counts()[1])"
   ]
  },
  {
   "cell_type": "code",
   "execution_count": 41,
   "metadata": {},
   "outputs": [
    {
     "name": "stdout",
     "output_type": "stream",
     "text": [
      "7.2% of data is fraud so it's unbalanced\n"
     ]
    }
   ],
   "source": [
    "print( str(round(CreditCardData_df_clean['Fraud'].value_counts()[1] / CreditCardData_df_clean['Fraud'].value_counts()[0] * 100, 2)) + \"% of data is fraud so it's unbalanced\")"
   ]
  },
  {
   "cell_type": "markdown",
   "metadata": {},
   "source": [
    "##### It is clearly observed that the data is highly imbalanced. There are 92785 records belonging to one group and only 7192 records are belonging to other group."
   ]
  },
  {
   "cell_type": "markdown",
   "metadata": {},
   "source": [
    "### Split the Data into Training and Testing Sets"
   ]
  },
  {
   "cell_type": "code",
   "execution_count": 42,
   "metadata": {},
   "outputs": [
    {
     "data": {
      "text/html": [
       "<div>\n",
       "<style scoped>\n",
       "    .dataframe tbody tr th:only-of-type {\n",
       "        vertical-align: middle;\n",
       "    }\n",
       "\n",
       "    .dataframe tbody tr th {\n",
       "        vertical-align: top;\n",
       "    }\n",
       "\n",
       "    .dataframe thead th {\n",
       "        text-align: right;\n",
       "    }\n",
       "</style>\n",
       "<table border=\"1\" class=\"dataframe\">\n",
       "  <thead>\n",
       "    <tr style=\"text-align: right;\">\n",
       "      <th></th>\n",
       "      <th>Day of Week</th>\n",
       "      <th>Time</th>\n",
       "      <th>Type of Card</th>\n",
       "      <th>Entry Mode</th>\n",
       "      <th>Amount</th>\n",
       "      <th>Type of Transaction</th>\n",
       "      <th>Merchant Group</th>\n",
       "      <th>Country of Transaction</th>\n",
       "      <th>Shipping Address</th>\n",
       "      <th>Country of Residence</th>\n",
       "      <th>Gender</th>\n",
       "      <th>Age</th>\n",
       "      <th>Bank</th>\n",
       "      <th>Fraud</th>\n",
       "    </tr>\n",
       "  </thead>\n",
       "  <tbody>\n",
       "    <tr>\n",
       "      <th>0</th>\n",
       "      <td>Wednesday</td>\n",
       "      <td>19</td>\n",
       "      <td>Visa</td>\n",
       "      <td>Tap</td>\n",
       "      <td>5</td>\n",
       "      <td>POS</td>\n",
       "      <td>Entertainment</td>\n",
       "      <td>United Kingdom</td>\n",
       "      <td>United Kingdom</td>\n",
       "      <td>United Kingdom</td>\n",
       "      <td>M</td>\n",
       "      <td>25</td>\n",
       "      <td>RBS</td>\n",
       "      <td>0</td>\n",
       "    </tr>\n",
       "    <tr>\n",
       "      <th>1</th>\n",
       "      <td>Wednesday</td>\n",
       "      <td>17</td>\n",
       "      <td>MasterCard</td>\n",
       "      <td>PIN</td>\n",
       "      <td>288</td>\n",
       "      <td>POS</td>\n",
       "      <td>Services</td>\n",
       "      <td>USA</td>\n",
       "      <td>USA</td>\n",
       "      <td>USA</td>\n",
       "      <td>F</td>\n",
       "      <td>50</td>\n",
       "      <td>Lloyds</td>\n",
       "      <td>0</td>\n",
       "    </tr>\n",
       "    <tr>\n",
       "      <th>2</th>\n",
       "      <td>Wednesday</td>\n",
       "      <td>14</td>\n",
       "      <td>Visa</td>\n",
       "      <td>Tap</td>\n",
       "      <td>5</td>\n",
       "      <td>POS</td>\n",
       "      <td>Restaurant</td>\n",
       "      <td>India</td>\n",
       "      <td>India</td>\n",
       "      <td>India</td>\n",
       "      <td>F</td>\n",
       "      <td>42</td>\n",
       "      <td>Barclays</td>\n",
       "      <td>0</td>\n",
       "    </tr>\n",
       "    <tr>\n",
       "      <th>3</th>\n",
       "      <td>Tuesday</td>\n",
       "      <td>14</td>\n",
       "      <td>Visa</td>\n",
       "      <td>Tap</td>\n",
       "      <td>28</td>\n",
       "      <td>POS</td>\n",
       "      <td>Entertainment</td>\n",
       "      <td>United Kingdom</td>\n",
       "      <td>India</td>\n",
       "      <td>United Kingdom</td>\n",
       "      <td>F</td>\n",
       "      <td>51</td>\n",
       "      <td>Barclays</td>\n",
       "      <td>0</td>\n",
       "    </tr>\n",
       "    <tr>\n",
       "      <th>4</th>\n",
       "      <td>Tuesday</td>\n",
       "      <td>23</td>\n",
       "      <td>Visa</td>\n",
       "      <td>CVC</td>\n",
       "      <td>91</td>\n",
       "      <td>Online</td>\n",
       "      <td>Electronics</td>\n",
       "      <td>USA</td>\n",
       "      <td>USA</td>\n",
       "      <td>United Kingdom</td>\n",
       "      <td>M</td>\n",
       "      <td>38</td>\n",
       "      <td>Halifax</td>\n",
       "      <td>1</td>\n",
       "    </tr>\n",
       "  </tbody>\n",
       "</table>\n",
       "</div>"
      ],
      "text/plain": [
       "  Day of Week  Time Type of Card Entry Mode  Amount Type of Transaction  \\\n",
       "0   Wednesday    19         Visa        Tap       5                 POS   \n",
       "1   Wednesday    17   MasterCard        PIN     288                 POS   \n",
       "2   Wednesday    14         Visa        Tap       5                 POS   \n",
       "3     Tuesday    14         Visa        Tap      28                 POS   \n",
       "4     Tuesday    23         Visa        CVC      91              Online   \n",
       "\n",
       "  Merchant Group Country of Transaction Shipping Address Country of Residence  \\\n",
       "0  Entertainment         United Kingdom   United Kingdom       United Kingdom   \n",
       "1       Services                    USA              USA                  USA   \n",
       "2     Restaurant                  India            India                India   \n",
       "3  Entertainment         United Kingdom            India       United Kingdom   \n",
       "4    Electronics                    USA              USA       United Kingdom   \n",
       "\n",
       "  Gender  Age      Bank Fraud  \n",
       "0      M   25       RBS     0  \n",
       "1      F   50    Lloyds     0  \n",
       "2      F   42  Barclays     0  \n",
       "3      F   51  Barclays     0  \n",
       "4      M   38   Halifax     1  "
      ]
     },
     "execution_count": 42,
     "metadata": {},
     "output_type": "execute_result"
    }
   ],
   "source": [
    "# Getting necessary data.\n",
    "columns = list(CreditCardData_df_clean.columns[2:])\n",
    "df_unbalanced = CreditCardData_df_clean[columns]\n",
    "df_unbalanced.head()"
   ]
  },
  {
   "cell_type": "markdown",
   "metadata": {},
   "source": [
    "### Data Preprocessing and Encoding"
   ]
  },
  {
   "cell_type": "code",
   "execution_count": 43,
   "metadata": {},
   "outputs": [
    {
     "data": {
      "text/html": [
       "<div>\n",
       "<style scoped>\n",
       "    .dataframe tbody tr th:only-of-type {\n",
       "        vertical-align: middle;\n",
       "    }\n",
       "\n",
       "    .dataframe tbody tr th {\n",
       "        vertical-align: top;\n",
       "    }\n",
       "\n",
       "    .dataframe thead th {\n",
       "        text-align: right;\n",
       "    }\n",
       "</style>\n",
       "<table border=\"1\" class=\"dataframe\">\n",
       "  <thead>\n",
       "    <tr style=\"text-align: right;\">\n",
       "      <th></th>\n",
       "      <th>Day of Week</th>\n",
       "      <th>Time</th>\n",
       "      <th>Type of Card</th>\n",
       "      <th>Entry Mode</th>\n",
       "      <th>Amount</th>\n",
       "      <th>Type of Transaction</th>\n",
       "      <th>Merchant Group</th>\n",
       "      <th>Country of Transaction</th>\n",
       "      <th>Shipping Address</th>\n",
       "      <th>Country of Residence</th>\n",
       "      <th>Gender</th>\n",
       "      <th>Age</th>\n",
       "      <th>Bank</th>\n",
       "      <th>Fraud</th>\n",
       "    </tr>\n",
       "  </thead>\n",
       "  <tbody>\n",
       "    <tr>\n",
       "      <th>0</th>\n",
       "      <td>3</td>\n",
       "      <td>19</td>\n",
       "      <td>1</td>\n",
       "      <td>2</td>\n",
       "      <td>5</td>\n",
       "      <td>2</td>\n",
       "      <td>3</td>\n",
       "      <td>4</td>\n",
       "      <td>5</td>\n",
       "      <td>4</td>\n",
       "      <td>2</td>\n",
       "      <td>25</td>\n",
       "      <td>7</td>\n",
       "      <td>0</td>\n",
       "    </tr>\n",
       "    <tr>\n",
       "      <th>1</th>\n",
       "      <td>3</td>\n",
       "      <td>17</td>\n",
       "      <td>0</td>\n",
       "      <td>1</td>\n",
       "      <td>288</td>\n",
       "      <td>2</td>\n",
       "      <td>9</td>\n",
       "      <td>3</td>\n",
       "      <td>4</td>\n",
       "      <td>3</td>\n",
       "      <td>1</td>\n",
       "      <td>50</td>\n",
       "      <td>4</td>\n",
       "      <td>0</td>\n",
       "    </tr>\n",
       "    <tr>\n",
       "      <th>2</th>\n",
       "      <td>3</td>\n",
       "      <td>14</td>\n",
       "      <td>1</td>\n",
       "      <td>2</td>\n",
       "      <td>5</td>\n",
       "      <td>2</td>\n",
       "      <td>8</td>\n",
       "      <td>1</td>\n",
       "      <td>2</td>\n",
       "      <td>1</td>\n",
       "      <td>1</td>\n",
       "      <td>42</td>\n",
       "      <td>0</td>\n",
       "      <td>0</td>\n",
       "    </tr>\n",
       "    <tr>\n",
       "      <th>3</th>\n",
       "      <td>2</td>\n",
       "      <td>14</td>\n",
       "      <td>1</td>\n",
       "      <td>2</td>\n",
       "      <td>28</td>\n",
       "      <td>2</td>\n",
       "      <td>3</td>\n",
       "      <td>4</td>\n",
       "      <td>2</td>\n",
       "      <td>4</td>\n",
       "      <td>1</td>\n",
       "      <td>51</td>\n",
       "      <td>0</td>\n",
       "      <td>0</td>\n",
       "    </tr>\n",
       "    <tr>\n",
       "      <th>4</th>\n",
       "      <td>2</td>\n",
       "      <td>23</td>\n",
       "      <td>1</td>\n",
       "      <td>0</td>\n",
       "      <td>91</td>\n",
       "      <td>1</td>\n",
       "      <td>2</td>\n",
       "      <td>3</td>\n",
       "      <td>4</td>\n",
       "      <td>4</td>\n",
       "      <td>2</td>\n",
       "      <td>38</td>\n",
       "      <td>3</td>\n",
       "      <td>1</td>\n",
       "    </tr>\n",
       "  </tbody>\n",
       "</table>\n",
       "</div>"
      ],
      "text/plain": [
       "   Day of Week  Time  Type of Card  Entry Mode  Amount  Type of Transaction  \\\n",
       "0            3    19             1           2       5                    2   \n",
       "1            3    17             0           1     288                    2   \n",
       "2            3    14             1           2       5                    2   \n",
       "3            2    14             1           2      28                    2   \n",
       "4            2    23             1           0      91                    1   \n",
       "\n",
       "   Merchant Group  Country of Transaction  Shipping Address  \\\n",
       "0               3                       4                 5   \n",
       "1               9                       3                 4   \n",
       "2               8                       1                 2   \n",
       "3               3                       4                 2   \n",
       "4               2                       3                 4   \n",
       "\n",
       "   Country of Residence  Gender  Age  Bank  Fraud  \n",
       "0                     4       2   25     7      0  \n",
       "1                     3       1   50     4      0  \n",
       "2                     1       1   42     0      0  \n",
       "3                     4       1   51     0      0  \n",
       "4                     4       2   38     3      1  "
      ]
     },
     "execution_count": 43,
     "metadata": {},
     "output_type": "execute_result"
    }
   ],
   "source": [
    "# Encoding Categorical values\n",
    "df_string = df_unbalanced.select_dtypes(include=['object'])\n",
    "for i in df_string.columns:\n",
    "    df_unbalanced[i] = LabelEncoder().fit_transform(df_unbalanced[i])\n",
    "df_unbalanced.head()"
   ]
  },
  {
   "cell_type": "markdown",
   "metadata": {},
   "source": [
    "### Defining the target variable"
   ]
  },
  {
   "cell_type": "markdown",
   "metadata": {},
   "source": [
    "##### Creating the labels set (`y`)  from the “Fraud” column, and then create the features (`X`) DataFrame from the remaining columns."
   ]
  },
  {
   "cell_type": "code",
   "execution_count": 44,
   "metadata": {},
   "outputs": [
    {
     "name": "stdout",
     "output_type": "stream",
     "text": [
      "Day of Week               0\n",
      "Time                      0\n",
      "Type of Card              0\n",
      "Entry Mode                0\n",
      "Amount                    0\n",
      "Type of Transaction       0\n",
      "Merchant Group            0\n",
      "Country of Transaction    0\n",
      "Shipping Address          0\n",
      "Country of Residence      0\n",
      "Gender                    0\n",
      "Age                       0\n",
      "Bank                      0\n",
      "dtype: int64\n"
     ]
    }
   ],
   "source": [
    "# Separate the data into labels and features\n",
    "# Separate the X variable, the features\n",
    "features = list(df_unbalanced.columns[0:-1])\n",
    "x = df_unbalanced[features]\n",
    "\n",
    "print(x.isnull().sum())\n",
    "\n",
    "# Separate the y variable, the labels\n",
    "y = df_unbalanced['Fraud']"
   ]
  },
  {
   "cell_type": "markdown",
   "metadata": {},
   "source": [
    "### Spliting Imbalanced data"
   ]
  },
  {
   "cell_type": "code",
   "execution_count": 45,
   "metadata": {},
   "outputs": [
    {
     "name": "stdout",
     "output_type": "stream",
     "text": [
      "Number of Records in Traning data: 79588\n",
      "Number of columns in Traning data: 13\n",
      "Number of Records in Testing data: 19897\n",
      "Number of columns in Testing data: 13\n"
     ]
    }
   ],
   "source": [
    "x_train, x_test, y_train, y_test = train_test_split(x, y , \n",
    "                                                    test_size = 0.2, \n",
    "                                                    random_state=42)\n",
    "\n",
    "print('Number of Records in Traning data:', x_train.shape[0])\n",
    "print('Number of columns in Traning data:', x_train.shape[1])\n",
    "print('Number of Records in Testing data:', x_test.shape[0])\n",
    "print('Number of columns in Testing data:', x_test.shape[1])"
   ]
  },
  {
   "cell_type": "markdown",
   "metadata": {},
   "source": [
    "### Model Training on Imbalanced Data"
   ]
  },
  {
   "cell_type": "code",
   "execution_count": 46,
   "metadata": {},
   "outputs": [],
   "source": [
    "model = LogisticRegression()\n",
    "model.fit(x_train, y_train)\n",
    "y_predict = model.predict(x_test)"
   ]
  },
  {
   "cell_type": "markdown",
   "metadata": {},
   "source": [
    "### Model Evaluation on Imbalanced Data\n",
    "* Accuracy\n",
    "* Confusion matrix\n",
    "* Classification Report"
   ]
  },
  {
   "cell_type": "markdown",
   "metadata": {},
   "source": [
    "#### Accuracy"
   ]
  },
  {
   "cell_type": "code",
   "execution_count": 47,
   "metadata": {},
   "outputs": [
    {
     "name": "stdout",
     "output_type": "stream",
     "text": [
      "Accuracy of Model on Test data: 95%\n"
     ]
    }
   ],
   "source": [
    "acc  = round(100 * accuracy_score(y_test, y_predict))\n",
    "print(f'Accuracy of Model on Test data: {acc}%')"
   ]
  },
  {
   "cell_type": "markdown",
   "metadata": {},
   "source": [
    "#### Confusion matrix"
   ]
  },
  {
   "cell_type": "code",
   "execution_count": 48,
   "metadata": {},
   "outputs": [
    {
     "name": "stdout",
     "output_type": "stream",
     "text": [
      "\n",
      "The confusion matrix for unbalanced data is:\n",
      "\n",
      "[[18300   222]\n",
      " [  684   691]]\n"
     ]
    }
   ],
   "source": [
    "print('\\nThe confusion matrix for unbalanced data is:\\n')\n",
    "print(confusion_matrix(y_test, y_predict))"
   ]
  },
  {
   "cell_type": "markdown",
   "metadata": {},
   "source": [
    "#### Classification Report"
   ]
  },
  {
   "cell_type": "code",
   "execution_count": 49,
   "metadata": {},
   "outputs": [
    {
     "name": "stdout",
     "output_type": "stream",
     "text": [
      "\n",
      "Classification report on Unbalanced data:\n",
      "\n",
      "               precision    recall  f1-score   support\n",
      "\n",
      "           0       0.96      0.99      0.98     18522\n",
      "           1       0.76      0.50      0.60      1375\n",
      "\n",
      "    accuracy                           0.95     19897\n",
      "   macro avg       0.86      0.75      0.79     19897\n",
      "weighted avg       0.95      0.95      0.95     19897\n",
      "\n"
     ]
    }
   ],
   "source": [
    "print('\\nClassification report on Unbalanced data:\\n\\n',classification_report(y_test, y_predict))"
   ]
  },
  {
   "cell_type": "markdown",
   "metadata": {},
   "source": [
    "+++++++++++++++++++++++++++++++++++++++++++++++++++++++++++++++++\n",
    "\n",
    "### Logistical Regression 2nd Model after Balancing the Training Data\n",
    "\n",
    "+++++++++++++++++++++++++++++++++++++++++++++++++++++++++++++++++"
   ]
  },
  {
   "cell_type": "markdown",
   "metadata": {},
   "source": [
    "### Data Balancing"
   ]
  },
  {
   "cell_type": "markdown",
   "metadata": {},
   "source": [
    "#### Upsampling"
   ]
  },
  {
   "cell_type": "code",
   "execution_count": 50,
   "metadata": {},
   "outputs": [
    {
     "name": "stdout",
     "output_type": "stream",
     "text": [
      "No of samples Belongs to Safe Transactions: 74280\n",
      "No of samples Belongs to Fraudulent Transactions: 74280\n"
     ]
    }
   ],
   "source": [
    "# Define the oversampling method\n",
    "oversampler = RandomOverSampler()\n",
    "\n",
    "# oversample the data\n",
    "x_balanced, y_balanced = oversampler.fit_resample(x_train, y_train)\n",
    "print('No of samples Belongs to Safe Transactions:',y_balanced.value_counts()[0])\n",
    "print('No of samples Belongs to Fraudulent Transactions:', y_balanced.value_counts()[1])"
   ]
  },
  {
   "cell_type": "markdown",
   "metadata": {},
   "source": [
    "##### It is clearly shown that the number of records belongs to Safe Transactions is 74280 and Fraudulent Transactions is also 74280. It means that the data is in balanced state."
   ]
  },
  {
   "cell_type": "markdown",
   "metadata": {},
   "source": [
    "### 2nd Model Training on Balanced Data"
   ]
  },
  {
   "cell_type": "code",
   "execution_count": 51,
   "metadata": {},
   "outputs": [],
   "source": [
    "oversample_model = LogisticRegression()\n",
    "oversample_model.fit(x_balanced, y_balanced)\n",
    "y_balanced_predict = oversample_model.predict(x_test)"
   ]
  },
  {
   "cell_type": "markdown",
   "metadata": {},
   "source": [
    "### 2nd Model Evaluation on Balanced Data\n",
    "* Accuracy\n",
    "* Confusion matrix\n",
    "* Classification Report"
   ]
  },
  {
   "cell_type": "markdown",
   "metadata": {},
   "source": [
    "#### Accuracy"
   ]
  },
  {
   "cell_type": "code",
   "execution_count": 52,
   "metadata": {},
   "outputs": [
    {
     "name": "stdout",
     "output_type": "stream",
     "text": [
      "Accuracy of Model on Test data: 93%\n"
     ]
    }
   ],
   "source": [
    "acc  = round(100 * accuracy_score(y_test, y_balanced_predict))\n",
    "print(f'Accuracy of Model on Test data: {acc}%')"
   ]
  },
  {
   "cell_type": "markdown",
   "metadata": {},
   "source": [
    "#### Confusion matrix"
   ]
  },
  {
   "cell_type": "code",
   "execution_count": 53,
   "metadata": {},
   "outputs": [
    {
     "name": "stdout",
     "output_type": "stream",
     "text": [
      "\n",
      "The confusion matrix for balanced data is:\n",
      "\n",
      "[[17348  1174]\n",
      " [  164  1211]]\n"
     ]
    }
   ],
   "source": [
    "print('\\nThe confusion matrix for balanced data is:\\n')\n",
    "print(confusion_matrix(y_test, y_balanced_predict))"
   ]
  },
  {
   "cell_type": "markdown",
   "metadata": {},
   "source": [
    "#### Classification Report"
   ]
  },
  {
   "cell_type": "code",
   "execution_count": 54,
   "metadata": {},
   "outputs": [
    {
     "name": "stdout",
     "output_type": "stream",
     "text": [
      "\n",
      "Classification report on balanced data:\n",
      "\n",
      "               precision    recall  f1-score   support\n",
      "\n",
      "           0       0.99      0.94      0.96     18522\n",
      "           1       0.51      0.88      0.64      1375\n",
      "\n",
      "    accuracy                           0.93     19897\n",
      "   macro avg       0.75      0.91      0.80     19897\n",
      "weighted avg       0.96      0.93      0.94     19897\n",
      "\n"
     ]
    }
   ],
   "source": [
    "print('\\nClassification report on balanced data:\\n\\n',classification_report(y_test, y_balanced_predict))"
   ]
  },
  {
   "cell_type": "markdown",
   "metadata": {},
   "source": [
    "As it can be shown that the accuracy on imbalanced data is 95% and on balanced data after applying oversampling technique is 93%. The reason behind that the model was overfitted due to imbalanced data and predicting one class with high accuracy and other class with low accuracy which can be seen in confusion matrix. When the data is balanced, A Bias-Varience trade-off is established and the accuracy is reduced to 93% and the model is accurately predicting both classes rather than only a single class.\n",
    "But we have still got weak precision and f1-score for class 1 AKA fraudulent cases. This is not acceptable therefore we have to use Random Forest which is good for detecting non-linear data points."
   ]
  },
  {
   "cell_type": "markdown",
   "metadata": {},
   "source": [
    "++++++++++++++++++++++++++\n",
    "\n",
    "### Random Forest 3rd Model\n",
    "\n",
    "++++++++++++++++++++++++++"
   ]
  },
  {
   "cell_type": "code",
   "execution_count": 55,
   "metadata": {},
   "outputs": [
    {
     "data": {
      "text/plain": [
       "array([['0'],\n",
       "       ['0'],\n",
       "       ['0'],\n",
       "       ['0'],\n",
       "       ['1']], dtype=object)"
      ]
     },
     "execution_count": 55,
     "metadata": {},
     "output_type": "execute_result"
    }
   ],
   "source": [
    "# Define target vector\n",
    "y = CreditCardData_df_clean['Fraud'].values.reshape(-1, 1)\n",
    "y[:5]"
   ]
  },
  {
   "cell_type": "markdown",
   "metadata": {},
   "source": [
    "Split the data into training and testing sets."
   ]
  },
  {
   "cell_type": "code",
   "execution_count": 56,
   "metadata": {},
   "outputs": [],
   "source": [
    "# Splitting into Train and Test sets\n",
    "X_train, X_test, y_train, y_test = train_test_split(x, y, random_state=78)"
   ]
  },
  {
   "cell_type": "code",
   "execution_count": 57,
   "metadata": {},
   "outputs": [
    {
     "data": {
      "text/plain": [
       "(74613, 1)"
      ]
     },
     "execution_count": 57,
     "metadata": {},
     "output_type": "execute_result"
    }
   ],
   "source": [
    "y_train.shape"
   ]
  },
  {
   "cell_type": "code",
   "execution_count": 58,
   "metadata": {},
   "outputs": [],
   "source": [
    "# Create the StandardScaler instance\n",
    "scaler = StandardScaler()"
   ]
  },
  {
   "cell_type": "code",
   "execution_count": 59,
   "metadata": {},
   "outputs": [],
   "source": [
    "# Fit the Standard Scaler with the training data\n",
    "X_scaler = scaler.fit(X_train)"
   ]
  },
  {
   "cell_type": "code",
   "execution_count": 60,
   "metadata": {},
   "outputs": [],
   "source": [
    "# Scale the training data\n",
    "X_train_scaled = X_scaler.transform(X_train)\n",
    "X_test_scaled = X_scaler.transform(X_test)"
   ]
  },
  {
   "cell_type": "markdown",
   "metadata": {},
   "source": [
    "#### Fitting the Random Forest Model\n",
    "\n",
    "Once the data is scaled, we create a random forest instance and train it with the training data (`X_train_scaled` and `y_train`), define `n_estimators=500` and `random_state=78`."
   ]
  },
  {
   "cell_type": "code",
   "execution_count": 61,
   "metadata": {},
   "outputs": [],
   "source": [
    "# Create the random forest classifier instance\n",
    "rf_model = RandomForestClassifier(n_estimators=500, random_state=78)"
   ]
  },
  {
   "cell_type": "code",
   "execution_count": 62,
   "metadata": {},
   "outputs": [],
   "source": [
    "# Fit the model and use .ravel()on the \"y_train\" data. \n",
    "rf_model = rf_model.fit(X_train_scaled, y_train.ravel())"
   ]
  },
  {
   "cell_type": "markdown",
   "metadata": {},
   "source": [
    "#### Making Predictions Using the Random Forest Model\n",
    "\n",
    "We validate the trained model by predicting fraudulent transactions by using the testing data (`X_test_scaled`)."
   ]
  },
  {
   "cell_type": "code",
   "execution_count": 63,
   "metadata": {},
   "outputs": [],
   "source": [
    "# Making predictions using the testing data\n",
    "predictions = rf_model.predict(X_test_scaled)"
   ]
  },
  {
   "cell_type": "markdown",
   "metadata": {},
   "source": [
    "#### Model Evaluation\n",
    "\n",
    "Evaluate model's results, by using `sklearn` to calculate the confusion matrix, the accuracy score and to generate the classification report."
   ]
  },
  {
   "cell_type": "code",
   "execution_count": 64,
   "metadata": {},
   "outputs": [],
   "source": [
    "# Calculating the confusion matrix\n",
    "cm = confusion_matrix(y_test, predictions)\n",
    "cm_df = pd.DataFrame(\n",
    "    cm, index=[\"Actual 0\", \"Actual 1\"], columns=[\"Predicted 0 (Safe Transactions)\", \"Predicted 1 (Fraud Transactions)\"]\n",
    ")\n",
    "\n",
    "# Calculating the accuracy score\n",
    "acc_score = accuracy_score(y_test, predictions)"
   ]
  },
  {
   "cell_type": "code",
   "execution_count": 65,
   "metadata": {},
   "outputs": [
    {
     "name": "stdout",
     "output_type": "stream",
     "text": [
      "Accuracy Score : 98.7\n",
      "  \n",
      "Confusion Matrix\n"
     ]
    },
    {
     "data": {
      "text/html": [
       "<div>\n",
       "<style scoped>\n",
       "    .dataframe tbody tr th:only-of-type {\n",
       "        vertical-align: middle;\n",
       "    }\n",
       "\n",
       "    .dataframe tbody tr th {\n",
       "        vertical-align: top;\n",
       "    }\n",
       "\n",
       "    .dataframe thead th {\n",
       "        text-align: right;\n",
       "    }\n",
       "</style>\n",
       "<table border=\"1\" class=\"dataframe\">\n",
       "  <thead>\n",
       "    <tr style=\"text-align: right;\">\n",
       "      <th></th>\n",
       "      <th>Predicted 0 (Safe Transactions)</th>\n",
       "      <th>Predicted 1 (Fraud Transactions)</th>\n",
       "    </tr>\n",
       "  </thead>\n",
       "  <tbody>\n",
       "    <tr>\n",
       "      <th>Actual 0</th>\n",
       "      <td>23191</td>\n",
       "      <td>22</td>\n",
       "    </tr>\n",
       "    <tr>\n",
       "      <th>Actual 1</th>\n",
       "      <td>309</td>\n",
       "      <td>1350</td>\n",
       "    </tr>\n",
       "  </tbody>\n",
       "</table>\n",
       "</div>"
      ],
      "text/plain": [
       "          Predicted 0 (Safe Transactions)  Predicted 1 (Fraud Transactions)\n",
       "Actual 0                            23191                                22\n",
       "Actual 1                              309                              1350"
      ]
     },
     "metadata": {},
     "output_type": "display_data"
    },
    {
     "name": "stdout",
     "output_type": "stream",
     "text": [
      "Classification Report\n",
      "              precision    recall  f1-score   support\n",
      "\n",
      "           0       0.99      1.00      0.99     23213\n",
      "           1       0.98      0.81      0.89      1659\n",
      "\n",
      "    accuracy                           0.99     24872\n",
      "   macro avg       0.99      0.91      0.94     24872\n",
      "weighted avg       0.99      0.99      0.99     24872\n",
      "\n"
     ]
    }
   ],
   "source": [
    "# Displaying results\n",
    "print(f\"Accuracy Score : {round(acc_score*100,1)}\")\n",
    "\n",
    "print(\"  \")\n",
    "\n",
    "print(\"Confusion Matrix\")\n",
    "display(cm_df)\n",
    "\n",
    "print(\"Classification Report\")\n",
    "print(classification_report(y_test, predictions))"
   ]
  },
  {
   "cell_type": "markdown",
   "metadata": {},
   "source": [
    "### Conclusion"
   ]
  },
  {
   "cell_type": "markdown",
   "metadata": {},
   "source": [
    "Now with Rondom Forest model we got pretty good results both Accuracy (98.7%), precision, recall, and f1-score. We notice that pecision and f1-score have significantly improved for class 1 (fraudulent transactions) which is critical and most important for banks and their clients."
   ]
  }
 ],
 "metadata": {
  "kernelspec": {
   "display_name": "Python 3 (ipykernel)",
   "language": "python",
   "name": "python3"
  },
  "language_info": {
   "codemirror_mode": {
    "name": "ipython",
    "version": 3
   },
   "file_extension": ".py",
   "mimetype": "text/x-python",
   "name": "python",
   "nbconvert_exporter": "python",
   "pygments_lexer": "ipython3",
   "version": "3.10.9"
  }
 },
 "nbformat": 4,
 "nbformat_minor": 2
}
