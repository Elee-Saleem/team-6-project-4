{
 "cells": [
  {
   "cell_type": "code",
<<<<<<< HEAD
   "execution_count": 1,
   "metadata": {},
   "outputs": [],
   "source": [
    "# Dependencies\n",
    "import pandas as pd\n",
    "import numpy as np\n",
    "import warnings\n",
    "warnings.simplefilter(\"ignore\")\n",
    "import psycopg2\n",
    "from psycopg2 import sql\n",
    "\n",
    "from pathlib import Path\n",
    "from sklearn.metrics import balanced_accuracy_score, accuracy_score, confusion_matrix, classification_report\n",
    "from sklearn.preprocessing import LabelEncoder\n",
    "from sklearn.model_selection import train_test_split\n",
    "from sklearn.linear_model import LogisticRegression\n",
    "\n",
    "from imblearn.over_sampling import RandomOverSampler\n",
    "\n",
    "from sklearn.preprocessing import StandardScaler\n",
    "from sklearn.ensemble import RandomForestClassifier"
   ]
  },
  {
   "cell_type": "markdown",
   "metadata": {},
   "source": [
    "# READ Data from Database\n",
    "#### Here we are going to read data from the database and creating a Dataframe"
   ]
  },
  {
   "cell_type": "code",
   "execution_count": 2,
   "metadata": {},
   "outputs": [
    {
     "name": "stdout",
     "output_type": "stream",
     "text": [
      "Connected Successfully\n",
      "DataFrame Generated Successfully\n"
     ]
    }
   ],
   "source": [
    "# Define your PostgreSQL connection parameters\n",
    "db_params = {\n",
    "    \"host\": \"localhost\",\n",
    "    \"database\": \"credit_card_data\",\n",
    "    \"user\": \"postgres\",\n",
    "    \"password\": \"\"\n",
    "}\n",
    "\n",
    "cols = [\"Transaction ID\", \"Date\", \"Day of Week\", \"Time\", \"Type of Card\", \"Entry Mode\",\n",
    "        \"Amount\", \"Type of Transaction\", \"Merchant Group\", \"Country of Transaction\",\n",
    "        \"Shipping Address\", \"Country of Residence\", \"Gender\", \"Age\", \"Bank\", \"Fraud\"]\n",
    "column_list = [\n",
    "    ('transaction_id', 'varchar(9)'),\n",
    "    ('date', 'varchar(9)'),\n",
    "    ('day_of_week', 'varchar(9)'),\n",
    "    ('time', 'int4'),\n",
    "    ('type_of_card', 'varchar(10)'),\n",
    "    ('entry_mode', 'varchar(3)'),\n",
    "    ('amount', 'varchar'),\n",
    "    ('type_of_transaction', 'varchar(6)'),\n",
    "    ('merchant_group', 'varchar(13)'),\n",
    "    ('country_of_transaction', 'varchar(14)'),\n",
    "    ('shipping_address', 'varchar(14)'),\n",
    "    ('country_of_residence', 'varchar(14)'),\n",
    "    ('gender', 'varchar(1)'),\n",
    "    ('age', 'numeric(4,1)'),\n",
    "    ('bank', 'varchar(8)'),\n",
    "    ('fraud', 'bit(1)')\n",
    "]\n",
    "\n",
    "# Establish a connection to the database\n",
    "connection = psycopg2.connect(**db_params)\n",
    "print(\"Connected Successfully\")\n",
    "\n",
    "# Create a cursor object\n",
    "cursor = connection.cursor()\n",
    "\n",
    "# Generate a SQL query to select the desired columns\n",
    "select_columns = \", \".join([f'\"{col_name}\"' for col_name, _ in column_list])\n",
    "query = f\"SELECT {select_columns} FROM public.credit_card_data\"\n",
    "\n",
    "# Execute the query\n",
    "cursor.execute(query)\n",
    "\n",
    "# Fetch all rows from the result set\n",
    "rows = cursor.fetchall()\n",
    "\n",
    "# Create a DataFrame from the fetched data\n",
    "df = pd.DataFrame(rows, columns=[col_name for col_name in cols])\n",
    "\n",
    "# Close the cursor and the database connection\n",
    "cursor.close()\n",
    "connection.close()\n",
    "print(\"DataFrame Generated Successfully\")\n",
    "\n"
   ]
  },
  {
   "cell_type": "code",
   "execution_count": 3,
   "metadata": {},
   "outputs": [
    {
     "data": {
      "text/html": [
       "<div>\n",
       "<style scoped>\n",
       "    .dataframe tbody tr th:only-of-type {\n",
       "        vertical-align: middle;\n",
       "    }\n",
       "\n",
       "    .dataframe tbody tr th {\n",
       "        vertical-align: top;\n",
       "    }\n",
       "\n",
       "    .dataframe thead th {\n",
       "        text-align: right;\n",
       "    }\n",
       "</style>\n",
       "<table border=\"1\" class=\"dataframe\">\n",
       "  <thead>\n",
       "    <tr style=\"text-align: right;\">\n",
       "      <th></th>\n",
       "      <th>Transaction ID</th>\n",
       "      <th>Date</th>\n",
       "      <th>Day of Week</th>\n",
       "      <th>Time</th>\n",
       "      <th>Type of Card</th>\n",
       "      <th>Entry Mode</th>\n",
       "      <th>Amount</th>\n",
       "      <th>Type of Transaction</th>\n",
       "      <th>Merchant Group</th>\n",
       "      <th>Country of Transaction</th>\n",
       "      <th>Shipping Address</th>\n",
       "      <th>Country of Residence</th>\n",
       "      <th>Gender</th>\n",
       "      <th>Age</th>\n",
       "      <th>Bank</th>\n",
       "      <th>Fraud</th>\n",
       "    </tr>\n",
       "  </thead>\n",
       "  <tbody>\n",
       "    <tr>\n",
       "      <th>0</th>\n",
       "      <td>#3577 209</td>\n",
       "      <td>14-Oct-20</td>\n",
       "      <td>Wednesday</td>\n",
       "      <td>19</td>\n",
       "      <td>Visa</td>\n",
       "      <td>Tap</td>\n",
       "      <td>Â£5</td>\n",
       "      <td>POS</td>\n",
       "      <td>Entertainment</td>\n",
       "      <td>United Kingdom</td>\n",
       "      <td>United Kingdom</td>\n",
       "      <td>United Kingdom</td>\n",
       "      <td>M</td>\n",
       "      <td>25.2</td>\n",
       "      <td>RBS</td>\n",
       "      <td>0</td>\n",
       "    </tr>\n",
       "    <tr>\n",
       "      <th>1</th>\n",
       "      <td>#3039 221</td>\n",
       "      <td>14-Oct-20</td>\n",
       "      <td>Wednesday</td>\n",
       "      <td>17</td>\n",
       "      <td>MasterCard</td>\n",
       "      <td>PIN</td>\n",
       "      <td>Â£288</td>\n",
       "      <td>POS</td>\n",
       "      <td>Services</td>\n",
       "      <td>USA</td>\n",
       "      <td>USA</td>\n",
       "      <td>USA</td>\n",
       "      <td>F</td>\n",
       "      <td>49.6</td>\n",
       "      <td>Lloyds</td>\n",
       "      <td>0</td>\n",
       "    </tr>\n",
       "    <tr>\n",
       "      <th>2</th>\n",
       "      <td>#2694 780</td>\n",
       "      <td>14-Oct-20</td>\n",
       "      <td>Wednesday</td>\n",
       "      <td>14</td>\n",
       "      <td>Visa</td>\n",
       "      <td>Tap</td>\n",
       "      <td>Â£5</td>\n",
       "      <td>POS</td>\n",
       "      <td>Restaurant</td>\n",
       "      <td>India</td>\n",
       "      <td>India</td>\n",
       "      <td>India</td>\n",
       "      <td>F</td>\n",
       "      <td>42.2</td>\n",
       "      <td>Barclays</td>\n",
       "      <td>0</td>\n",
       "    </tr>\n",
       "    <tr>\n",
       "      <th>3</th>\n",
       "      <td>#2640 960</td>\n",
       "      <td>13-Oct-20</td>\n",
       "      <td>Tuesday</td>\n",
       "      <td>14</td>\n",
       "      <td>Visa</td>\n",
       "      <td>Tap</td>\n",
       "      <td>Â£28</td>\n",
       "      <td>POS</td>\n",
       "      <td>Entertainment</td>\n",
       "      <td>United Kingdom</td>\n",
       "      <td>India</td>\n",
       "      <td>United Kingdom</td>\n",
       "      <td>F</td>\n",
       "      <td>51.0</td>\n",
       "      <td>Barclays</td>\n",
       "      <td>0</td>\n",
       "    </tr>\n",
       "    <tr>\n",
       "      <th>4</th>\n",
       "      <td>#2771 031</td>\n",
       "      <td>13-Oct-20</td>\n",
       "      <td>Tuesday</td>\n",
       "      <td>23</td>\n",
       "      <td>Visa</td>\n",
       "      <td>CVC</td>\n",
       "      <td>Â£91</td>\n",
       "      <td>Online</td>\n",
       "      <td>Electronics</td>\n",
       "      <td>USA</td>\n",
       "      <td>USA</td>\n",
       "      <td>United Kingdom</td>\n",
       "      <td>M</td>\n",
       "      <td>38.0</td>\n",
       "      <td>Halifax</td>\n",
       "      <td>1</td>\n",
       "    </tr>\n",
       "  </tbody>\n",
       "</table>\n",
       "</div>"
      ],
      "text/plain": [
       "  Transaction ID       Date Day of Week  Time Type of Card Entry Mode Amount  \\\n",
       "0      #3577 209  14-Oct-20   Wednesday    19         Visa        Tap    Â£5   \n",
       "1      #3039 221  14-Oct-20   Wednesday    17   MasterCard        PIN  Â£288   \n",
       "2      #2694 780  14-Oct-20   Wednesday    14         Visa        Tap    Â£5   \n",
       "3      #2640 960  13-Oct-20     Tuesday    14         Visa        Tap   Â£28   \n",
       "4      #2771 031  13-Oct-20     Tuesday    23         Visa        CVC   Â£91   \n",
       "\n",
       "  Type of Transaction Merchant Group Country of Transaction Shipping Address  \\\n",
       "0                 POS  Entertainment         United Kingdom   United Kingdom   \n",
       "1                 POS       Services                    USA              USA   \n",
       "2                 POS     Restaurant                  India            India   \n",
       "3                 POS  Entertainment         United Kingdom            India   \n",
       "4              Online    Electronics                    USA              USA   \n",
       "\n",
       "  Country of Residence Gender   Age      Bank Fraud  \n",
       "0       United Kingdom      M  25.2       RBS     0  \n",
       "1                  USA      F  49.6    Lloyds     0  \n",
       "2                India      F  42.2  Barclays     0  \n",
       "3       United Kingdom      F  51.0  Barclays     0  \n",
       "4       United Kingdom      M  38.0   Halifax     1  "
      ]
     },
     "execution_count": 3,
     "metadata": {},
     "output_type": "execute_result"
    }
   ],
   "source": [
    "df.head()"
=======
   "execution_count": 3,
   "metadata": {},
   "outputs": [],
   "source": [
    "# Deendencies\n",
    "import pandas as pd\n",
    "import numpy as np\n",
    "import warnings\n",
    "warnings.simplefilter(\"ignore\")\n"
>>>>>>> 36f6b845ae7c5d794a8c16946a0fea2b43e26233
   ]
  },
  {
   "cell_type": "code",
   "execution_count": 4,
   "metadata": {},
   "outputs": [
    {
<<<<<<< HEAD
     "data": {
      "text/html": [
       "<div>\n",
       "<style scoped>\n",
       "    .dataframe tbody tr th:only-of-type {\n",
       "        vertical-align: middle;\n",
       "    }\n",
       "\n",
       "    .dataframe tbody tr th {\n",
       "        vertical-align: top;\n",
       "    }\n",
       "\n",
       "    .dataframe thead th {\n",
       "        text-align: right;\n",
       "    }\n",
       "</style>\n",
       "<table border=\"1\" class=\"dataframe\">\n",
       "  <thead>\n",
       "    <tr style=\"text-align: right;\">\n",
       "      <th></th>\n",
       "      <th>Transaction ID</th>\n",
       "      <th>Date</th>\n",
       "      <th>Day of Week</th>\n",
       "      <th>Time</th>\n",
       "      <th>Type of Card</th>\n",
       "      <th>Entry Mode</th>\n",
       "      <th>Amount</th>\n",
       "      <th>Type of Transaction</th>\n",
       "      <th>Merchant Group</th>\n",
       "      <th>Country of Transaction</th>\n",
       "      <th>Shipping Address</th>\n",
       "      <th>Country of Residence</th>\n",
       "      <th>Gender</th>\n",
       "      <th>Age</th>\n",
       "      <th>Bank</th>\n",
       "      <th>Fraud</th>\n",
       "    </tr>\n",
       "  </thead>\n",
       "  <tbody>\n",
       "    <tr>\n",
       "      <th>0</th>\n",
       "      <td>#3577 209</td>\n",
       "      <td>14-Oct-20</td>\n",
       "      <td>Wednesday</td>\n",
       "      <td>19</td>\n",
       "      <td>Visa</td>\n",
       "      <td>Tap</td>\n",
       "      <td>Â£5</td>\n",
       "      <td>POS</td>\n",
       "      <td>Entertainment</td>\n",
       "      <td>United Kingdom</td>\n",
       "      <td>United Kingdom</td>\n",
       "      <td>United Kingdom</td>\n",
       "      <td>M</td>\n",
       "      <td>25.2</td>\n",
       "      <td>RBS</td>\n",
       "      <td>0</td>\n",
       "    </tr>\n",
       "    <tr>\n",
       "      <th>1</th>\n",
       "      <td>#3039 221</td>\n",
       "      <td>14-Oct-20</td>\n",
       "      <td>Wednesday</td>\n",
       "      <td>17</td>\n",
       "      <td>MasterCard</td>\n",
       "      <td>PIN</td>\n",
       "      <td>Â£288</td>\n",
       "      <td>POS</td>\n",
       "      <td>Services</td>\n",
       "      <td>USA</td>\n",
       "      <td>USA</td>\n",
       "      <td>USA</td>\n",
       "      <td>F</td>\n",
       "      <td>49.6</td>\n",
       "      <td>Lloyds</td>\n",
       "      <td>0</td>\n",
       "    </tr>\n",
       "    <tr>\n",
       "      <th>2</th>\n",
       "      <td>#2694 780</td>\n",
       "      <td>14-Oct-20</td>\n",
       "      <td>Wednesday</td>\n",
       "      <td>14</td>\n",
       "      <td>Visa</td>\n",
       "      <td>Tap</td>\n",
       "      <td>Â£5</td>\n",
       "      <td>POS</td>\n",
       "      <td>Restaurant</td>\n",
       "      <td>India</td>\n",
       "      <td>India</td>\n",
       "      <td>India</td>\n",
       "      <td>F</td>\n",
       "      <td>42.2</td>\n",
       "      <td>Barclays</td>\n",
       "      <td>0</td>\n",
       "    </tr>\n",
       "    <tr>\n",
       "      <th>3</th>\n",
       "      <td>#2640 960</td>\n",
       "      <td>13-Oct-20</td>\n",
       "      <td>Tuesday</td>\n",
       "      <td>14</td>\n",
       "      <td>Visa</td>\n",
       "      <td>Tap</td>\n",
       "      <td>Â£28</td>\n",
       "      <td>POS</td>\n",
       "      <td>Entertainment</td>\n",
       "      <td>United Kingdom</td>\n",
       "      <td>India</td>\n",
       "      <td>United Kingdom</td>\n",
       "      <td>F</td>\n",
       "      <td>51.0</td>\n",
       "      <td>Barclays</td>\n",
       "      <td>0</td>\n",
       "    </tr>\n",
       "    <tr>\n",
       "      <th>4</th>\n",
       "      <td>#2771 031</td>\n",
       "      <td>13-Oct-20</td>\n",
       "      <td>Tuesday</td>\n",
       "      <td>23</td>\n",
       "      <td>Visa</td>\n",
       "      <td>CVC</td>\n",
       "      <td>Â£91</td>\n",
       "      <td>Online</td>\n",
       "      <td>Electronics</td>\n",
       "      <td>USA</td>\n",
       "      <td>USA</td>\n",
       "      <td>United Kingdom</td>\n",
       "      <td>M</td>\n",
       "      <td>38.0</td>\n",
       "      <td>Halifax</td>\n",
       "      <td>1</td>\n",
       "    </tr>\n",
       "  </tbody>\n",
       "</table>\n",
       "</div>"
      ],
      "text/plain": [
       "  Transaction ID       Date Day of Week  Time Type of Card Entry Mode Amount  \\\n",
       "0      #3577 209  14-Oct-20   Wednesday    19         Visa        Tap    Â£5   \n",
       "1      #3039 221  14-Oct-20   Wednesday    17   MasterCard        PIN  Â£288   \n",
       "2      #2694 780  14-Oct-20   Wednesday    14         Visa        Tap    Â£5   \n",
       "3      #2640 960  13-Oct-20     Tuesday    14         Visa        Tap   Â£28   \n",
       "4      #2771 031  13-Oct-20     Tuesday    23         Visa        CVC   Â£91   \n",
       "\n",
       "  Type of Transaction Merchant Group Country of Transaction Shipping Address  \\\n",
       "0                 POS  Entertainment         United Kingdom   United Kingdom   \n",
       "1                 POS       Services                    USA              USA   \n",
       "2                 POS     Restaurant                  India            India   \n",
       "3                 POS  Entertainment         United Kingdom            India   \n",
       "4              Online    Electronics                    USA              USA   \n",
       "\n",
       "  Country of Residence Gender   Age      Bank Fraud  \n",
       "0       United Kingdom      M  25.2       RBS     0  \n",
       "1                  USA      F  49.6    Lloyds     0  \n",
       "2                India      F  42.2  Barclays     0  \n",
       "3       United Kingdom      F  51.0  Barclays     0  \n",
       "4       United Kingdom      M  38.0   Halifax     1  "
      ]
     },
     "execution_count": 4,
     "metadata": {},
     "output_type": "execute_result"
    }
   ],
   "source": [
    "# Reading and importing data from postgres database table\n",
    "CreditCardData_df = df\n",
=======
     "ename": "FileNotFoundError",
     "evalue": "[Errno 2] No such file or directory: './Resources/CreditCardData.csv'",
     "output_type": "error",
     "traceback": [
      "\u001b[0;31m---------------------------------------------------------------------------\u001b[0m",
      "\u001b[0;31mFileNotFoundError\u001b[0m                         Traceback (most recent call last)",
      "\u001b[1;32m/Users/ismailellahi/Downloads/credit_card_fraud.ipynb Cell 2\u001b[0m line \u001b[0;36m2\n\u001b[1;32m      <a href='vscode-notebook-cell:/Users/ismailellahi/Downloads/credit_card_fraud.ipynb#W1sZmlsZQ%3D%3D?line=0'>1</a>\u001b[0m \u001b[39m# Reading and importing data from csv file\u001b[39;00m\n\u001b[0;32m----> <a href='vscode-notebook-cell:/Users/ismailellahi/Downloads/credit_card_fraud.ipynb#W1sZmlsZQ%3D%3D?line=1'>2</a>\u001b[0m CreditCardData_df \u001b[39m=\u001b[39m pd\u001b[39m.\u001b[39;49mread_csv(\u001b[39m\"\u001b[39;49m\u001b[39m./Resources/CreditCardData.csv\u001b[39;49m\u001b[39m\"\u001b[39;49m)\n\u001b[1;32m      <a href='vscode-notebook-cell:/Users/ismailellahi/Downloads/credit_card_fraud.ipynb#W1sZmlsZQ%3D%3D?line=2'>3</a>\u001b[0m CreditCardData_df\u001b[39m.\u001b[39mhead()\n",
      "File \u001b[0;32m~/anaconda3/envs/dev/lib/python3.10/site-packages/pandas/util/_decorators.py:311\u001b[0m, in \u001b[0;36mdeprecate_nonkeyword_arguments.<locals>.decorate.<locals>.wrapper\u001b[0;34m(*args, **kwargs)\u001b[0m\n\u001b[1;32m    305\u001b[0m \u001b[39mif\u001b[39;00m \u001b[39mlen\u001b[39m(args) \u001b[39m>\u001b[39m num_allow_args:\n\u001b[1;32m    306\u001b[0m     warnings\u001b[39m.\u001b[39mwarn(\n\u001b[1;32m    307\u001b[0m         msg\u001b[39m.\u001b[39mformat(arguments\u001b[39m=\u001b[39marguments),\n\u001b[1;32m    308\u001b[0m         \u001b[39mFutureWarning\u001b[39;00m,\n\u001b[1;32m    309\u001b[0m         stacklevel\u001b[39m=\u001b[39mstacklevel,\n\u001b[1;32m    310\u001b[0m     )\n\u001b[0;32m--> 311\u001b[0m \u001b[39mreturn\u001b[39;00m func(\u001b[39m*\u001b[39;49margs, \u001b[39m*\u001b[39;49m\u001b[39m*\u001b[39;49mkwargs)\n",
      "File \u001b[0;32m~/anaconda3/envs/dev/lib/python3.10/site-packages/pandas/io/parsers/readers.py:680\u001b[0m, in \u001b[0;36mread_csv\u001b[0;34m(filepath_or_buffer, sep, delimiter, header, names, index_col, usecols, squeeze, prefix, mangle_dupe_cols, dtype, engine, converters, true_values, false_values, skipinitialspace, skiprows, skipfooter, nrows, na_values, keep_default_na, na_filter, verbose, skip_blank_lines, parse_dates, infer_datetime_format, keep_date_col, date_parser, dayfirst, cache_dates, iterator, chunksize, compression, thousands, decimal, lineterminator, quotechar, quoting, doublequote, escapechar, comment, encoding, encoding_errors, dialect, error_bad_lines, warn_bad_lines, on_bad_lines, delim_whitespace, low_memory, memory_map, float_precision, storage_options)\u001b[0m\n\u001b[1;32m    665\u001b[0m kwds_defaults \u001b[39m=\u001b[39m _refine_defaults_read(\n\u001b[1;32m    666\u001b[0m     dialect,\n\u001b[1;32m    667\u001b[0m     delimiter,\n\u001b[0;32m   (...)\u001b[0m\n\u001b[1;32m    676\u001b[0m     defaults\u001b[39m=\u001b[39m{\u001b[39m\"\u001b[39m\u001b[39mdelimiter\u001b[39m\u001b[39m\"\u001b[39m: \u001b[39m\"\u001b[39m\u001b[39m,\u001b[39m\u001b[39m\"\u001b[39m},\n\u001b[1;32m    677\u001b[0m )\n\u001b[1;32m    678\u001b[0m kwds\u001b[39m.\u001b[39mupdate(kwds_defaults)\n\u001b[0;32m--> 680\u001b[0m \u001b[39mreturn\u001b[39;00m _read(filepath_or_buffer, kwds)\n",
      "File \u001b[0;32m~/anaconda3/envs/dev/lib/python3.10/site-packages/pandas/io/parsers/readers.py:575\u001b[0m, in \u001b[0;36m_read\u001b[0;34m(filepath_or_buffer, kwds)\u001b[0m\n\u001b[1;32m    572\u001b[0m _validate_names(kwds\u001b[39m.\u001b[39mget(\u001b[39m\"\u001b[39m\u001b[39mnames\u001b[39m\u001b[39m\"\u001b[39m, \u001b[39mNone\u001b[39;00m))\n\u001b[1;32m    574\u001b[0m \u001b[39m# Create the parser.\u001b[39;00m\n\u001b[0;32m--> 575\u001b[0m parser \u001b[39m=\u001b[39m TextFileReader(filepath_or_buffer, \u001b[39m*\u001b[39;49m\u001b[39m*\u001b[39;49mkwds)\n\u001b[1;32m    577\u001b[0m \u001b[39mif\u001b[39;00m chunksize \u001b[39mor\u001b[39;00m iterator:\n\u001b[1;32m    578\u001b[0m     \u001b[39mreturn\u001b[39;00m parser\n",
      "File \u001b[0;32m~/anaconda3/envs/dev/lib/python3.10/site-packages/pandas/io/parsers/readers.py:933\u001b[0m, in \u001b[0;36mTextFileReader.__init__\u001b[0;34m(self, f, engine, **kwds)\u001b[0m\n\u001b[1;32m    930\u001b[0m     \u001b[39mself\u001b[39m\u001b[39m.\u001b[39moptions[\u001b[39m\"\u001b[39m\u001b[39mhas_index_names\u001b[39m\u001b[39m\"\u001b[39m] \u001b[39m=\u001b[39m kwds[\u001b[39m\"\u001b[39m\u001b[39mhas_index_names\u001b[39m\u001b[39m\"\u001b[39m]\n\u001b[1;32m    932\u001b[0m \u001b[39mself\u001b[39m\u001b[39m.\u001b[39mhandles: IOHandles \u001b[39m|\u001b[39m \u001b[39mNone\u001b[39;00m \u001b[39m=\u001b[39m \u001b[39mNone\u001b[39;00m\n\u001b[0;32m--> 933\u001b[0m \u001b[39mself\u001b[39m\u001b[39m.\u001b[39m_engine \u001b[39m=\u001b[39m \u001b[39mself\u001b[39;49m\u001b[39m.\u001b[39;49m_make_engine(f, \u001b[39mself\u001b[39;49m\u001b[39m.\u001b[39;49mengine)\n",
      "File \u001b[0;32m~/anaconda3/envs/dev/lib/python3.10/site-packages/pandas/io/parsers/readers.py:1217\u001b[0m, in \u001b[0;36mTextFileReader._make_engine\u001b[0;34m(self, f, engine)\u001b[0m\n\u001b[1;32m   1213\u001b[0m     mode \u001b[39m=\u001b[39m \u001b[39m\"\u001b[39m\u001b[39mrb\u001b[39m\u001b[39m\"\u001b[39m\n\u001b[1;32m   1214\u001b[0m \u001b[39m# error: No overload variant of \"get_handle\" matches argument types\u001b[39;00m\n\u001b[1;32m   1215\u001b[0m \u001b[39m# \"Union[str, PathLike[str], ReadCsvBuffer[bytes], ReadCsvBuffer[str]]\"\u001b[39;00m\n\u001b[1;32m   1216\u001b[0m \u001b[39m# , \"str\", \"bool\", \"Any\", \"Any\", \"Any\", \"Any\", \"Any\"\u001b[39;00m\n\u001b[0;32m-> 1217\u001b[0m \u001b[39mself\u001b[39m\u001b[39m.\u001b[39mhandles \u001b[39m=\u001b[39m get_handle(  \u001b[39m# type: ignore[call-overload]\u001b[39;49;00m\n\u001b[1;32m   1218\u001b[0m     f,\n\u001b[1;32m   1219\u001b[0m     mode,\n\u001b[1;32m   1220\u001b[0m     encoding\u001b[39m=\u001b[39;49m\u001b[39mself\u001b[39;49m\u001b[39m.\u001b[39;49moptions\u001b[39m.\u001b[39;49mget(\u001b[39m\"\u001b[39;49m\u001b[39mencoding\u001b[39;49m\u001b[39m\"\u001b[39;49m, \u001b[39mNone\u001b[39;49;00m),\n\u001b[1;32m   1221\u001b[0m     compression\u001b[39m=\u001b[39;49m\u001b[39mself\u001b[39;49m\u001b[39m.\u001b[39;49moptions\u001b[39m.\u001b[39;49mget(\u001b[39m\"\u001b[39;49m\u001b[39mcompression\u001b[39;49m\u001b[39m\"\u001b[39;49m, \u001b[39mNone\u001b[39;49;00m),\n\u001b[1;32m   1222\u001b[0m     memory_map\u001b[39m=\u001b[39;49m\u001b[39mself\u001b[39;49m\u001b[39m.\u001b[39;49moptions\u001b[39m.\u001b[39;49mget(\u001b[39m\"\u001b[39;49m\u001b[39mmemory_map\u001b[39;49m\u001b[39m\"\u001b[39;49m, \u001b[39mFalse\u001b[39;49;00m),\n\u001b[1;32m   1223\u001b[0m     is_text\u001b[39m=\u001b[39;49mis_text,\n\u001b[1;32m   1224\u001b[0m     errors\u001b[39m=\u001b[39;49m\u001b[39mself\u001b[39;49m\u001b[39m.\u001b[39;49moptions\u001b[39m.\u001b[39;49mget(\u001b[39m\"\u001b[39;49m\u001b[39mencoding_errors\u001b[39;49m\u001b[39m\"\u001b[39;49m, \u001b[39m\"\u001b[39;49m\u001b[39mstrict\u001b[39;49m\u001b[39m\"\u001b[39;49m),\n\u001b[1;32m   1225\u001b[0m     storage_options\u001b[39m=\u001b[39;49m\u001b[39mself\u001b[39;49m\u001b[39m.\u001b[39;49moptions\u001b[39m.\u001b[39;49mget(\u001b[39m\"\u001b[39;49m\u001b[39mstorage_options\u001b[39;49m\u001b[39m\"\u001b[39;49m, \u001b[39mNone\u001b[39;49;00m),\n\u001b[1;32m   1226\u001b[0m )\n\u001b[1;32m   1227\u001b[0m \u001b[39massert\u001b[39;00m \u001b[39mself\u001b[39m\u001b[39m.\u001b[39mhandles \u001b[39mis\u001b[39;00m \u001b[39mnot\u001b[39;00m \u001b[39mNone\u001b[39;00m\n\u001b[1;32m   1228\u001b[0m f \u001b[39m=\u001b[39m \u001b[39mself\u001b[39m\u001b[39m.\u001b[39mhandles\u001b[39m.\u001b[39mhandle\n",
      "File \u001b[0;32m~/anaconda3/envs/dev/lib/python3.10/site-packages/pandas/io/common.py:789\u001b[0m, in \u001b[0;36mget_handle\u001b[0;34m(path_or_buf, mode, encoding, compression, memory_map, is_text, errors, storage_options)\u001b[0m\n\u001b[1;32m    784\u001b[0m \u001b[39melif\u001b[39;00m \u001b[39misinstance\u001b[39m(handle, \u001b[39mstr\u001b[39m):\n\u001b[1;32m    785\u001b[0m     \u001b[39m# Check whether the filename is to be opened in binary mode.\u001b[39;00m\n\u001b[1;32m    786\u001b[0m     \u001b[39m# Binary mode does not support 'encoding' and 'newline'.\u001b[39;00m\n\u001b[1;32m    787\u001b[0m     \u001b[39mif\u001b[39;00m ioargs\u001b[39m.\u001b[39mencoding \u001b[39mand\u001b[39;00m \u001b[39m\"\u001b[39m\u001b[39mb\u001b[39m\u001b[39m\"\u001b[39m \u001b[39mnot\u001b[39;00m \u001b[39min\u001b[39;00m ioargs\u001b[39m.\u001b[39mmode:\n\u001b[1;32m    788\u001b[0m         \u001b[39m# Encoding\u001b[39;00m\n\u001b[0;32m--> 789\u001b[0m         handle \u001b[39m=\u001b[39m \u001b[39mopen\u001b[39;49m(\n\u001b[1;32m    790\u001b[0m             handle,\n\u001b[1;32m    791\u001b[0m             ioargs\u001b[39m.\u001b[39;49mmode,\n\u001b[1;32m    792\u001b[0m             encoding\u001b[39m=\u001b[39;49mioargs\u001b[39m.\u001b[39;49mencoding,\n\u001b[1;32m    793\u001b[0m             errors\u001b[39m=\u001b[39;49merrors,\n\u001b[1;32m    794\u001b[0m             newline\u001b[39m=\u001b[39;49m\u001b[39m\"\u001b[39;49m\u001b[39m\"\u001b[39;49m,\n\u001b[1;32m    795\u001b[0m         )\n\u001b[1;32m    796\u001b[0m     \u001b[39melse\u001b[39;00m:\n\u001b[1;32m    797\u001b[0m         \u001b[39m# Binary mode\u001b[39;00m\n\u001b[1;32m    798\u001b[0m         handle \u001b[39m=\u001b[39m \u001b[39mopen\u001b[39m(handle, ioargs\u001b[39m.\u001b[39mmode)\n",
      "\u001b[0;31mFileNotFoundError\u001b[0m: [Errno 2] No such file or directory: './Resources/CreditCardData.csv'"
     ]
    }
   ],
   "source": [
    "# Reading and importing data from csv file\n",
    "CreditCardData_df = pd.read_csv(\"./Resources/CreditCardData.csv\")\n",
>>>>>>> 36f6b845ae7c5d794a8c16946a0fea2b43e26233
    "CreditCardData_df.head()"
   ]
  },
  {
   "cell_type": "markdown",
   "metadata": {},
   "source": [
    "---------------\n",
    "\n",
    "## Cleaning and Preparation\n",
    "\n",
    "--------------"
   ]
  },
  {
   "cell_type": "code",
<<<<<<< HEAD
   "execution_count": 5,
=======
   "execution_count": null,
>>>>>>> 36f6b845ae7c5d794a8c16946a0fea2b43e26233
   "metadata": {},
   "outputs": [
    {
     "name": "stdout",
     "output_type": "stream",
     "text": [
      "<class 'pandas.core.frame.DataFrame'>\n",
      "RangeIndex: 100000 entries, 0 to 99999\n",
      "Data columns (total 16 columns):\n",
<<<<<<< HEAD
      " #   Column                  Non-Null Count   Dtype \n",
      "---  ------                  --------------   ----- \n",
      " 0   Transaction ID          100000 non-null  object\n",
      " 1   Date                    100000 non-null  object\n",
      " 2   Day of Week             100000 non-null  object\n",
      " 3   Time                    100000 non-null  int64 \n",
      " 4   Type of Card            100000 non-null  object\n",
      " 5   Entry Mode              100000 non-null  object\n",
      " 6   Amount                  100000 non-null  object\n",
      " 7   Type of Transaction     100000 non-null  object\n",
      " 8   Merchant Group          100000 non-null  object\n",
      " 9   Country of Transaction  100000 non-null  object\n",
      " 10  Shipping Address        100000 non-null  object\n",
      " 11  Country of Residence    100000 non-null  object\n",
      " 12  Gender                  100000 non-null  object\n",
      " 13  Age                     100000 non-null  object\n",
      " 14  Bank                    100000 non-null  object\n",
      " 15  Fraud                   100000 non-null  object\n",
      "dtypes: int64(1), object(15)\n",
=======
      " #   Column                  Non-Null Count   Dtype  \n",
      "---  ------                  --------------   -----  \n",
      " 0   Transaction ID          100000 non-null  object \n",
      " 1   Date                    100000 non-null  object \n",
      " 2   Day of Week             100000 non-null  object \n",
      " 3   Time                    100000 non-null  int64  \n",
      " 4   Type of Card            100000 non-null  object \n",
      " 5   Entry Mode              100000 non-null  object \n",
      " 6   Amount                  99994 non-null   object \n",
      " 7   Type of Transaction     100000 non-null  object \n",
      " 8   Merchant Group          99990 non-null   object \n",
      " 9   Country of Transaction  100000 non-null  object \n",
      " 10  Shipping Address        99995 non-null   object \n",
      " 11  Country of Residence    100000 non-null  object \n",
      " 12  Gender                  99996 non-null   object \n",
      " 13  Age                     100000 non-null  float64\n",
      " 14  Bank                    100000 non-null  object \n",
      " 15  Fraud                   100000 non-null  int64  \n",
      "dtypes: float64(1), int64(2), object(13)\n",
>>>>>>> 36f6b845ae7c5d794a8c16946a0fea2b43e26233
      "memory usage: 12.2+ MB\n"
     ]
    }
   ],
   "source": [
    "# Figuring out the type of info in this data\n",
    "CreditCardData_df.info()"
   ]
  },
  {
<<<<<<< HEAD
   "cell_type": "code",
   "execution_count": 6,
=======
   "cell_type": "markdown",
   "metadata": {},
   "source": [
    "#### Some columns contain less number of rows than others"
   ]
  },
  {
   "cell_type": "code",
   "execution_count": null,
>>>>>>> 36f6b845ae7c5d794a8c16946a0fea2b43e26233
   "metadata": {},
   "outputs": [
    {
     "data": {
      "text/plain": [
       "(100000, 16)"
      ]
     },
<<<<<<< HEAD
     "execution_count": 6,
=======
     "execution_count": 4,
>>>>>>> 36f6b845ae7c5d794a8c16946a0fea2b43e26233
     "metadata": {},
     "output_type": "execute_result"
    }
   ],
   "source": [
    "# Number of rows and columns before cleaning\n",
    "CreditCardData_df.shape"
   ]
  },
  {
   "cell_type": "code",
<<<<<<< HEAD
   "execution_count": 7,
   "metadata": {},
   "outputs": [],
   "source": [
    "# Remove rows with zero values\n",
    "CreditCardData_df_clean = CreditCardData_df[(CreditCardData_df['Transaction ID'] != 0) & (CreditCardData_df['Date'] != 0) & (CreditCardData_df['Day of Week'] != 0) & (CreditCardData_df['Time'] != 0) &\n",
    "                                            (CreditCardData_df['Type of Card'] != 0) & (CreditCardData_df['Entry Mode'] != 0) & (CreditCardData_df['Amount'] != 0) & (CreditCardData_df['Type of Transaction'] != 0) &\n",
    "                                            (CreditCardData_df['Merchant Group'] != 0) & (CreditCardData_df['Country of Transaction'] != 0) & (CreditCardData_df['Shipping Address'] != 0) &\n",
    "                                            (CreditCardData_df['Country of Residence'] != 0) & (CreditCardData_df['Gender'] != 0) & (CreditCardData_df['Age'] != 0) & (CreditCardData_df['Bank'] != 0)]"
=======
   "execution_count": null,
   "metadata": {},
   "outputs": [],
   "source": [
    "# Getting rid of NA\n",
    "CreditCardData_df_clean = CreditCardData_df.dropna()"
>>>>>>> 36f6b845ae7c5d794a8c16946a0fea2b43e26233
   ]
  },
  {
   "cell_type": "code",
<<<<<<< HEAD
   "execution_count": 8,
=======
   "execution_count": null,
>>>>>>> 36f6b845ae7c5d794a8c16946a0fea2b43e26233
   "metadata": {},
   "outputs": [
    {
     "data": {
      "text/plain": [
<<<<<<< HEAD
       "(99491, 16)"
      ]
     },
     "execution_count": 8,
     "metadata": {},
     "output_type": "execute_result"
    }
   ],
   "source": [
    "CreditCardData_df_clean.shape"
   ]
  },
  {
   "cell_type": "code",
   "execution_count": 9,
   "metadata": {},
   "outputs": [
    {
     "data": {
      "text/plain": [
       "(99491, 16)"
      ]
     },
     "execution_count": 9,
     "metadata": {},
     "output_type": "execute_result"
    }
   ],
   "source": [
    "CreditCardData_df_clean = CreditCardData_df_clean.replace([np.inf, -np.inf], np.nan).dropna()\n",
    "CreditCardData_df_clean.shape"
   ]
  },
  {
   "cell_type": "code",
   "execution_count": 10,
   "metadata": {},
   "outputs": [
    {
     "name": "stdout",
     "output_type": "stream",
     "text": [
      "<class 'pandas.core.frame.DataFrame'>\n",
      "Int64Index: 99491 entries, 0 to 99999\n",
      "Data columns (total 16 columns):\n",
      " #   Column                  Non-Null Count  Dtype \n",
      "---  ------                  --------------  ----- \n",
      " 0   Transaction ID          99491 non-null  object\n",
      " 1   Date                    99491 non-null  object\n",
      " 2   Day of Week             99491 non-null  object\n",
      " 3   Time                    99491 non-null  int64 \n",
      " 4   Type of Card            99491 non-null  object\n",
      " 5   Entry Mode              99491 non-null  object\n",
      " 6   Amount                  99491 non-null  object\n",
      " 7   Type of Transaction     99491 non-null  object\n",
      " 8   Merchant Group          99491 non-null  object\n",
      " 9   Country of Transaction  99491 non-null  object\n",
      " 10  Shipping Address        99491 non-null  object\n",
      " 11  Country of Residence    99491 non-null  object\n",
      " 12  Gender                  99491 non-null  object\n",
      " 13  Age                     99491 non-null  object\n",
      " 14  Bank                    99491 non-null  object\n",
      " 15  Fraud                   99491 non-null  object\n",
      "dtypes: int64(1), object(15)\n",
      "memory usage: 12.9+ MB\n"
     ]
    }
   ],
   "source": [
    "# Figuring out the type of info in this data\n",
    "CreditCardData_df_clean.info()"
   ]
  },
  {
   "cell_type": "code",
   "execution_count": 11,
   "metadata": {},
   "outputs": [
    {
     "data": {
      "text/plain": [
       "(99491, 16)"
      ]
     },
     "execution_count": 11,
=======
       "(99977, 16)"
      ]
     },
     "execution_count": 6,
>>>>>>> 36f6b845ae7c5d794a8c16946a0fea2b43e26233
     "metadata": {},
     "output_type": "execute_result"
    }
   ],
   "source": [
    "# Number of rows and columns after cleaning\n",
    "CreditCardData_df_clean.shape"
   ]
  },
  {
   "cell_type": "code",
<<<<<<< HEAD
   "execution_count": 12,
=======
   "execution_count": null,
>>>>>>> 36f6b845ae7c5d794a8c16946a0fea2b43e26233
   "metadata": {},
   "outputs": [
    {
     "data": {
      "text/plain": [
<<<<<<< HEAD
       "99491"
      ]
     },
     "execution_count": 12,
=======
       "99977"
      ]
     },
     "execution_count": 7,
>>>>>>> 36f6b845ae7c5d794a8c16946a0fea2b43e26233
     "metadata": {},
     "output_type": "execute_result"
    }
   ],
   "source": [
    "CreditCardData_df_clean.shape[0]"
   ]
  },
  {
   "cell_type": "code",
<<<<<<< HEAD
   "execution_count": 13,
=======
   "execution_count": null,
>>>>>>> 36f6b845ae7c5d794a8c16946a0fea2b43e26233
   "metadata": {},
   "outputs": [
    {
     "name": "stdout",
     "output_type": "stream",
     "text": [
<<<<<<< HEAD
      "We've got rid of 509 rows with NaN or nulls\n"
=======
      "We've got rid of 23 rows with NaN or nulls\n"
>>>>>>> 36f6b845ae7c5d794a8c16946a0fea2b43e26233
     ]
    }
   ],
   "source": [
    "print(\"We've got rid of \" + str(CreditCardData_df.shape[0] - CreditCardData_df_clean.shape[0]) + \" rows with NaN or nulls\")"
   ]
  },
  {
   "cell_type": "code",
<<<<<<< HEAD
   "execution_count": 14,
=======
   "execution_count": null,
>>>>>>> 36f6b845ae7c5d794a8c16946a0fea2b43e26233
   "metadata": {},
   "outputs": [
    {
     "data": {
      "text/html": [
       "<div>\n",
       "<style scoped>\n",
       "    .dataframe tbody tr th:only-of-type {\n",
       "        vertical-align: middle;\n",
       "    }\n",
       "\n",
       "    .dataframe tbody tr th {\n",
       "        vertical-align: top;\n",
       "    }\n",
       "\n",
       "    .dataframe thead th {\n",
       "        text-align: right;\n",
       "    }\n",
       "</style>\n",
       "<table border=\"1\" class=\"dataframe\">\n",
       "  <thead>\n",
       "    <tr style=\"text-align: right;\">\n",
       "      <th></th>\n",
       "      <th>Transaction ID</th>\n",
       "      <th>Date</th>\n",
       "      <th>Day of Week</th>\n",
       "      <th>Time</th>\n",
       "      <th>Type of Card</th>\n",
       "      <th>Entry Mode</th>\n",
       "      <th>Amount</th>\n",
       "      <th>Type of Transaction</th>\n",
       "      <th>Merchant Group</th>\n",
       "      <th>Country of Transaction</th>\n",
       "      <th>Shipping Address</th>\n",
       "      <th>Country of Residence</th>\n",
       "      <th>Gender</th>\n",
       "      <th>Age</th>\n",
       "      <th>Bank</th>\n",
       "      <th>Fraud</th>\n",
       "    </tr>\n",
       "  </thead>\n",
       "  <tbody>\n",
       "    <tr>\n",
       "      <th>0</th>\n",
       "      <td>False</td>\n",
       "      <td>False</td>\n",
       "      <td>False</td>\n",
       "      <td>False</td>\n",
       "      <td>False</td>\n",
       "      <td>False</td>\n",
       "      <td>False</td>\n",
       "      <td>False</td>\n",
       "      <td>False</td>\n",
       "      <td>False</td>\n",
       "      <td>False</td>\n",
       "      <td>False</td>\n",
       "      <td>False</td>\n",
       "      <td>False</td>\n",
       "      <td>False</td>\n",
       "      <td>False</td>\n",
       "    </tr>\n",
       "    <tr>\n",
       "      <th>1</th>\n",
       "      <td>False</td>\n",
       "      <td>False</td>\n",
       "      <td>False</td>\n",
       "      <td>False</td>\n",
       "      <td>False</td>\n",
       "      <td>False</td>\n",
       "      <td>False</td>\n",
       "      <td>False</td>\n",
       "      <td>False</td>\n",
       "      <td>False</td>\n",
       "      <td>False</td>\n",
       "      <td>False</td>\n",
       "      <td>False</td>\n",
       "      <td>False</td>\n",
       "      <td>False</td>\n",
       "      <td>False</td>\n",
       "    </tr>\n",
       "    <tr>\n",
       "      <th>2</th>\n",
       "      <td>False</td>\n",
       "      <td>False</td>\n",
       "      <td>False</td>\n",
       "      <td>False</td>\n",
       "      <td>False</td>\n",
       "      <td>False</td>\n",
       "      <td>False</td>\n",
       "      <td>False</td>\n",
       "      <td>False</td>\n",
       "      <td>False</td>\n",
       "      <td>False</td>\n",
       "      <td>False</td>\n",
       "      <td>False</td>\n",
       "      <td>False</td>\n",
       "      <td>False</td>\n",
       "      <td>False</td>\n",
       "    </tr>\n",
       "    <tr>\n",
       "      <th>3</th>\n",
       "      <td>False</td>\n",
       "      <td>False</td>\n",
       "      <td>False</td>\n",
       "      <td>False</td>\n",
       "      <td>False</td>\n",
       "      <td>False</td>\n",
       "      <td>False</td>\n",
       "      <td>False</td>\n",
       "      <td>False</td>\n",
       "      <td>False</td>\n",
       "      <td>False</td>\n",
       "      <td>False</td>\n",
       "      <td>False</td>\n",
       "      <td>False</td>\n",
       "      <td>False</td>\n",
       "      <td>False</td>\n",
       "    </tr>\n",
       "    <tr>\n",
       "      <th>4</th>\n",
       "      <td>False</td>\n",
       "      <td>False</td>\n",
       "      <td>False</td>\n",
       "      <td>False</td>\n",
       "      <td>False</td>\n",
       "      <td>False</td>\n",
       "      <td>False</td>\n",
       "      <td>False</td>\n",
       "      <td>False</td>\n",
       "      <td>False</td>\n",
       "      <td>False</td>\n",
       "      <td>False</td>\n",
       "      <td>False</td>\n",
       "      <td>False</td>\n",
       "      <td>False</td>\n",
       "      <td>False</td>\n",
       "    </tr>\n",
       "    <tr>\n",
       "      <th>...</th>\n",
       "      <td>...</td>\n",
       "      <td>...</td>\n",
       "      <td>...</td>\n",
       "      <td>...</td>\n",
       "      <td>...</td>\n",
       "      <td>...</td>\n",
       "      <td>...</td>\n",
       "      <td>...</td>\n",
       "      <td>...</td>\n",
       "      <td>...</td>\n",
       "      <td>...</td>\n",
       "      <td>...</td>\n",
       "      <td>...</td>\n",
       "      <td>...</td>\n",
       "      <td>...</td>\n",
       "      <td>...</td>\n",
       "    </tr>\n",
       "    <tr>\n",
       "      <th>99995</th>\n",
       "      <td>False</td>\n",
       "      <td>False</td>\n",
       "      <td>False</td>\n",
       "      <td>False</td>\n",
       "      <td>False</td>\n",
       "      <td>False</td>\n",
       "      <td>False</td>\n",
       "      <td>False</td>\n",
       "      <td>False</td>\n",
       "      <td>False</td>\n",
       "      <td>False</td>\n",
       "      <td>False</td>\n",
       "      <td>False</td>\n",
       "      <td>False</td>\n",
       "      <td>False</td>\n",
       "      <td>False</td>\n",
       "    </tr>\n",
       "    <tr>\n",
       "      <th>99996</th>\n",
       "      <td>False</td>\n",
       "      <td>False</td>\n",
       "      <td>False</td>\n",
       "      <td>False</td>\n",
       "      <td>False</td>\n",
       "      <td>False</td>\n",
       "      <td>False</td>\n",
       "      <td>False</td>\n",
       "      <td>False</td>\n",
       "      <td>False</td>\n",
       "      <td>False</td>\n",
       "      <td>False</td>\n",
       "      <td>False</td>\n",
       "      <td>False</td>\n",
       "      <td>False</td>\n",
       "      <td>False</td>\n",
       "    </tr>\n",
       "    <tr>\n",
       "      <th>99997</th>\n",
       "      <td>False</td>\n",
       "      <td>False</td>\n",
       "      <td>False</td>\n",
       "      <td>False</td>\n",
       "      <td>False</td>\n",
       "      <td>False</td>\n",
       "      <td>False</td>\n",
       "      <td>False</td>\n",
       "      <td>False</td>\n",
       "      <td>False</td>\n",
       "      <td>False</td>\n",
       "      <td>False</td>\n",
       "      <td>False</td>\n",
       "      <td>False</td>\n",
       "      <td>False</td>\n",
       "      <td>False</td>\n",
       "    </tr>\n",
       "    <tr>\n",
       "      <th>99998</th>\n",
       "      <td>False</td>\n",
       "      <td>False</td>\n",
       "      <td>False</td>\n",
       "      <td>False</td>\n",
       "      <td>False</td>\n",
       "      <td>False</td>\n",
       "      <td>False</td>\n",
       "      <td>False</td>\n",
       "      <td>False</td>\n",
       "      <td>False</td>\n",
       "      <td>False</td>\n",
       "      <td>False</td>\n",
       "      <td>False</td>\n",
       "      <td>False</td>\n",
       "      <td>False</td>\n",
       "      <td>False</td>\n",
       "    </tr>\n",
       "    <tr>\n",
       "      <th>99999</th>\n",
       "      <td>False</td>\n",
       "      <td>False</td>\n",
       "      <td>False</td>\n",
       "      <td>False</td>\n",
       "      <td>False</td>\n",
       "      <td>False</td>\n",
       "      <td>False</td>\n",
       "      <td>False</td>\n",
       "      <td>False</td>\n",
       "      <td>False</td>\n",
       "      <td>False</td>\n",
       "      <td>False</td>\n",
       "      <td>False</td>\n",
       "      <td>False</td>\n",
       "      <td>False</td>\n",
       "      <td>False</td>\n",
       "    </tr>\n",
       "  </tbody>\n",
       "</table>\n",
<<<<<<< HEAD
       "<p>99491 rows × 16 columns</p>\n",
=======
       "<p>99977 rows × 16 columns</p>\n",
>>>>>>> 36f6b845ae7c5d794a8c16946a0fea2b43e26233
       "</div>"
      ],
      "text/plain": [
       "       Transaction ID   Date  Day of Week   Time  Type of Card  Entry Mode  \\\n",
       "0               False  False        False  False         False       False   \n",
       "1               False  False        False  False         False       False   \n",
       "2               False  False        False  False         False       False   \n",
       "3               False  False        False  False         False       False   \n",
       "4               False  False        False  False         False       False   \n",
       "...               ...    ...          ...    ...           ...         ...   \n",
       "99995           False  False        False  False         False       False   \n",
       "99996           False  False        False  False         False       False   \n",
       "99997           False  False        False  False         False       False   \n",
       "99998           False  False        False  False         False       False   \n",
       "99999           False  False        False  False         False       False   \n",
       "\n",
       "       Amount  Type of Transaction  Merchant Group  Country of Transaction  \\\n",
       "0       False                False           False                   False   \n",
       "1       False                False           False                   False   \n",
       "2       False                False           False                   False   \n",
       "3       False                False           False                   False   \n",
       "4       False                False           False                   False   \n",
       "...       ...                  ...             ...                     ...   \n",
       "99995   False                False           False                   False   \n",
       "99996   False                False           False                   False   \n",
       "99997   False                False           False                   False   \n",
       "99998   False                False           False                   False   \n",
       "99999   False                False           False                   False   \n",
       "\n",
       "       Shipping Address  Country of Residence  Gender    Age   Bank  Fraud  \n",
       "0                 False                 False   False  False  False  False  \n",
       "1                 False                 False   False  False  False  False  \n",
       "2                 False                 False   False  False  False  False  \n",
       "3                 False                 False   False  False  False  False  \n",
       "4                 False                 False   False  False  False  False  \n",
       "...                 ...                   ...     ...    ...    ...    ...  \n",
       "99995             False                 False   False  False  False  False  \n",
       "99996             False                 False   False  False  False  False  \n",
       "99997             False                 False   False  False  False  False  \n",
       "99998             False                 False   False  False  False  False  \n",
       "99999             False                 False   False  False  False  False  \n",
       "\n",
<<<<<<< HEAD
       "[99491 rows x 16 columns]"
      ]
     },
     "execution_count": 14,
=======
       "[99977 rows x 16 columns]"
      ]
     },
     "execution_count": 9,
>>>>>>> 36f6b845ae7c5d794a8c16946a0fea2b43e26233
     "metadata": {},
     "output_type": "execute_result"
    }
   ],
   "source": [
    "# Checking data for nulls\n",
    "nulls = CreditCardData_df_clean.isnull()\n",
    "nulls"
   ]
  },
  {
   "cell_type": "code",
<<<<<<< HEAD
   "execution_count": 15,
=======
   "execution_count": null,
>>>>>>> 36f6b845ae7c5d794a8c16946a0fea2b43e26233
   "metadata": {},
   "outputs": [
    {
     "data": {
      "text/plain": [
       "Transaction ID  Date   Day of Week  Time   Type of Card  Entry Mode  Amount  Type of Transaction  Merchant Group  Country of Transaction  Shipping Address  Country of Residence  Gender  Age    Bank   Fraud\n",
<<<<<<< HEAD
       "False           False  False        False  False         False       False   False                False           False                   False             False                 False   False  False  False    99491\n",
       "dtype: int64"
      ]
     },
     "execution_count": 15,
=======
       "False           False  False        False  False         False       False   False                False           False                   False             False                 False   False  False  False    99977\n",
       "dtype: int64"
      ]
     },
     "execution_count": 10,
>>>>>>> 36f6b845ae7c5d794a8c16946a0fea2b43e26233
     "metadata": {},
     "output_type": "execute_result"
    }
   ],
   "source": [
    "nulls.value_counts()"
   ]
  },
  {
   "cell_type": "code",
<<<<<<< HEAD
   "execution_count": 16,
=======
   "execution_count": null,
>>>>>>> 36f6b845ae7c5d794a8c16946a0fea2b43e26233
   "metadata": {},
   "outputs": [
    {
     "data": {
      "text/plain": [
       "Transaction ID            0\n",
       "Date                      0\n",
       "Day of Week               0\n",
       "Time                      0\n",
       "Type of Card              0\n",
       "Entry Mode                0\n",
       "Amount                    0\n",
       "Type of Transaction       0\n",
       "Merchant Group            0\n",
       "Country of Transaction    0\n",
       "Shipping Address          0\n",
       "Country of Residence      0\n",
       "Gender                    0\n",
       "Age                       0\n",
       "Bank                      0\n",
       "Fraud                     0\n",
       "dtype: int64"
      ]
     },
<<<<<<< HEAD
     "execution_count": 16,
=======
     "execution_count": 11,
>>>>>>> 36f6b845ae7c5d794a8c16946a0fea2b43e26233
     "metadata": {},
     "output_type": "execute_result"
    }
   ],
   "source": [
    "num_nulls = CreditCardData_df_clean.isnull().sum()\n",
    "num_nulls"
   ]
  },
  {
   "cell_type": "markdown",
   "metadata": {},
   "source": [
    "#### So no more nulls"
   ]
  },
  {
   "cell_type": "code",
<<<<<<< HEAD
   "execution_count": 17,
=======
   "execution_count": null,
>>>>>>> 36f6b845ae7c5d794a8c16946a0fea2b43e26233
   "metadata": {},
   "outputs": [
    {
     "data": {
      "text/html": [
       "<div>\n",
       "<style scoped>\n",
       "    .dataframe tbody tr th:only-of-type {\n",
       "        vertical-align: middle;\n",
       "    }\n",
       "\n",
       "    .dataframe tbody tr th {\n",
       "        vertical-align: top;\n",
       "    }\n",
       "\n",
       "    .dataframe thead th {\n",
       "        text-align: right;\n",
       "    }\n",
       "</style>\n",
       "<table border=\"1\" class=\"dataframe\">\n",
       "  <thead>\n",
       "    <tr style=\"text-align: right;\">\n",
       "      <th></th>\n",
       "      <th>Transaction ID</th>\n",
       "      <th>Date</th>\n",
       "      <th>Day of Week</th>\n",
       "      <th>Time</th>\n",
       "      <th>Type of Card</th>\n",
       "      <th>Entry Mode</th>\n",
       "      <th>Amount</th>\n",
       "      <th>Type of Transaction</th>\n",
       "      <th>Merchant Group</th>\n",
       "      <th>Country of Transaction</th>\n",
       "      <th>Shipping Address</th>\n",
       "      <th>Country of Residence</th>\n",
       "      <th>Gender</th>\n",
       "      <th>Age</th>\n",
       "      <th>Bank</th>\n",
       "      <th>Fraud</th>\n",
       "    </tr>\n",
       "  </thead>\n",
       "  <tbody>\n",
       "    <tr>\n",
       "      <th>0</th>\n",
       "      <td>#3577 209</td>\n",
       "      <td>14-Oct-20</td>\n",
       "      <td>Wednesday</td>\n",
       "      <td>19</td>\n",
       "      <td>Visa</td>\n",
       "      <td>Tap</td>\n",
<<<<<<< HEAD
       "      <td>Â£5</td>\n",
=======
       "      <td>£5</td>\n",
>>>>>>> 36f6b845ae7c5d794a8c16946a0fea2b43e26233
       "      <td>POS</td>\n",
       "      <td>Entertainment</td>\n",
       "      <td>United Kingdom</td>\n",
       "      <td>United Kingdom</td>\n",
       "      <td>United Kingdom</td>\n",
       "      <td>M</td>\n",
       "      <td>25.2</td>\n",
       "      <td>RBS</td>\n",
       "      <td>0</td>\n",
       "    </tr>\n",
       "    <tr>\n",
       "      <th>1</th>\n",
       "      <td>#3039 221</td>\n",
       "      <td>14-Oct-20</td>\n",
       "      <td>Wednesday</td>\n",
       "      <td>17</td>\n",
       "      <td>MasterCard</td>\n",
       "      <td>PIN</td>\n",
<<<<<<< HEAD
       "      <td>Â£288</td>\n",
=======
       "      <td>£288</td>\n",
>>>>>>> 36f6b845ae7c5d794a8c16946a0fea2b43e26233
       "      <td>POS</td>\n",
       "      <td>Services</td>\n",
       "      <td>USA</td>\n",
       "      <td>USA</td>\n",
       "      <td>USA</td>\n",
       "      <td>F</td>\n",
       "      <td>49.6</td>\n",
       "      <td>Lloyds</td>\n",
       "      <td>0</td>\n",
       "    </tr>\n",
       "  </tbody>\n",
       "</table>\n",
       "</div>"
      ],
      "text/plain": [
       "  Transaction ID       Date Day of Week  Time Type of Card Entry Mode Amount  \\\n",
<<<<<<< HEAD
       "0      #3577 209  14-Oct-20   Wednesday    19         Visa        Tap    Â£5   \n",
       "1      #3039 221  14-Oct-20   Wednesday    17   MasterCard        PIN  Â£288   \n",
=======
       "0      #3577 209  14-Oct-20   Wednesday    19         Visa        Tap     £5   \n",
       "1      #3039 221  14-Oct-20   Wednesday    17   MasterCard        PIN   £288   \n",
>>>>>>> 36f6b845ae7c5d794a8c16946a0fea2b43e26233
       "\n",
       "  Type of Transaction Merchant Group Country of Transaction Shipping Address  \\\n",
       "0                 POS  Entertainment         United Kingdom   United Kingdom   \n",
       "1                 POS       Services                    USA              USA   \n",
       "\n",
<<<<<<< HEAD
       "  Country of Residence Gender   Age    Bank Fraud  \n",
       "0       United Kingdom      M  25.2     RBS     0  \n",
       "1                  USA      F  49.6  Lloyds     0  "
      ]
     },
     "execution_count": 17,
=======
       "  Country of Residence Gender   Age    Bank  Fraud  \n",
       "0       United Kingdom      M  25.2     RBS      0  \n",
       "1                  USA      F  49.6  Lloyds      0  "
      ]
     },
     "execution_count": 12,
>>>>>>> 36f6b845ae7c5d794a8c16946a0fea2b43e26233
     "metadata": {},
     "output_type": "execute_result"
    }
   ],
   "source": [
    "CreditCardData_df_clean.head(2)"
   ]
  },
  {
   "cell_type": "code",
<<<<<<< HEAD
   "execution_count": 18,
=======
   "execution_count": null,
>>>>>>> 36f6b845ae7c5d794a8c16946a0fea2b43e26233
   "metadata": {},
   "outputs": [
    {
     "name": "stdout",
     "output_type": "stream",
     "text": [
      "<class 'pandas.core.frame.DataFrame'>\n",
<<<<<<< HEAD
      "Int64Index: 99491 entries, 0 to 99999\n",
      "Data columns (total 16 columns):\n",
      " #   Column                  Non-Null Count  Dtype \n",
      "---  ------                  --------------  ----- \n",
      " 0   Transaction ID          99491 non-null  object\n",
      " 1   Date                    99491 non-null  object\n",
      " 2   Day of Week             99491 non-null  object\n",
      " 3   Time                    99491 non-null  int64 \n",
      " 4   Type of Card            99491 non-null  object\n",
      " 5   Entry Mode              99491 non-null  object\n",
      " 6   Amount                  99491 non-null  object\n",
      " 7   Type of Transaction     99491 non-null  object\n",
      " 8   Merchant Group          99491 non-null  object\n",
      " 9   Country of Transaction  99491 non-null  object\n",
      " 10  Shipping Address        99491 non-null  object\n",
      " 11  Country of Residence    99491 non-null  object\n",
      " 12  Gender                  99491 non-null  object\n",
      " 13  Age                     99491 non-null  object\n",
      " 14  Bank                    99491 non-null  object\n",
      " 15  Fraud                   99491 non-null  object\n",
      "dtypes: int64(1), object(15)\n",
      "memory usage: 12.9+ MB\n"
=======
      "Int64Index: 99977 entries, 0 to 99999\n",
      "Data columns (total 16 columns):\n",
      " #   Column                  Non-Null Count  Dtype  \n",
      "---  ------                  --------------  -----  \n",
      " 0   Transaction ID          99977 non-null  object \n",
      " 1   Date                    99977 non-null  object \n",
      " 2   Day of Week             99977 non-null  object \n",
      " 3   Time                    99977 non-null  int64  \n",
      " 4   Type of Card            99977 non-null  object \n",
      " 5   Entry Mode              99977 non-null  object \n",
      " 6   Amount                  99977 non-null  object \n",
      " 7   Type of Transaction     99977 non-null  object \n",
      " 8   Merchant Group          99977 non-null  object \n",
      " 9   Country of Transaction  99977 non-null  object \n",
      " 10  Shipping Address        99977 non-null  object \n",
      " 11  Country of Residence    99977 non-null  object \n",
      " 12  Gender                  99977 non-null  object \n",
      " 13  Age                     99977 non-null  float64\n",
      " 14  Bank                    99977 non-null  object \n",
      " 15  Fraud                   99977 non-null  int64  \n",
      "dtypes: float64(1), int64(2), object(13)\n",
      "memory usage: 13.0+ MB\n"
>>>>>>> 36f6b845ae7c5d794a8c16946a0fea2b43e26233
     ]
    }
   ],
   "source": [
    "# Figuring out type of data these columns hold\n",
    "CreditCardData_df_clean.info()"
   ]
  },
  {
   "cell_type": "markdown",
   "metadata": {},
   "source": [
    "#### Now all columns hold equally same number of data"
   ]
  },
  {
   "cell_type": "code",
<<<<<<< HEAD
   "execution_count": 19,
=======
   "execution_count": null,
>>>>>>> 36f6b845ae7c5d794a8c16946a0fea2b43e26233
   "metadata": {},
   "outputs": [
    {
     "data": {
      "text/plain": [
       "0    #3577 209\n",
       "1    #3039 221\n",
       "2    #2694 780\n",
       "3    #2640 960\n",
       "4    #2771 031\n",
       "Name: Transaction ID, dtype: object"
      ]
     },
<<<<<<< HEAD
     "execution_count": 19,
=======
     "execution_count": 14,
>>>>>>> 36f6b845ae7c5d794a8c16946a0fea2b43e26233
     "metadata": {},
     "output_type": "execute_result"
    }
   ],
   "source": [
    "# There is \"#\" next to each number, it should be removed 1st then converting column data type from Object to integer\n",
    "CreditCardData_df_clean[\"Transaction ID\"].head()"
   ]
  },
  {
   "cell_type": "markdown",
   "metadata": {},
   "source": [
    "----------------\n",
    "\n",
    "### 1- Fixing data in \"Transaction ID\" column\n",
    "\n",
    "----------------"
   ]
  },
  {
   "cell_type": "code",
<<<<<<< HEAD
   "execution_count": 20,
=======
   "execution_count": null,
>>>>>>> 36f6b845ae7c5d794a8c16946a0fea2b43e26233
   "metadata": {},
   "outputs": [
    {
     "data": {
      "text/plain": [
       "0    3577 209\n",
       "1    3039 221\n",
       "2    2694 780\n",
       "3    2640 960\n",
       "4    2771 031\n",
       "Name: Transaction ID, dtype: object"
      ]
     },
<<<<<<< HEAD
     "execution_count": 20,
=======
     "execution_count": 15,
>>>>>>> 36f6b845ae7c5d794a8c16946a0fea2b43e26233
     "metadata": {},
     "output_type": "execute_result"
    }
   ],
   "source": [
    "# 1st getting rid of '#' in the \"Transaction ID\"\n",
    "CreditCardData_df_clean.loc[:, 'Transaction ID'] = CreditCardData_df_clean['Transaction ID'].str.replace('#', '')\n",
    "CreditCardData_df_clean['Transaction ID'].head()"
   ]
  },
  {
   "cell_type": "code",
<<<<<<< HEAD
   "execution_count": 21,
=======
   "execution_count": null,
>>>>>>> 36f6b845ae7c5d794a8c16946a0fea2b43e26233
   "metadata": {},
   "outputs": [
    {
     "data": {
      "text/html": [
       "<div>\n",
       "<style scoped>\n",
       "    .dataframe tbody tr th:only-of-type {\n",
       "        vertical-align: middle;\n",
       "    }\n",
       "\n",
       "    .dataframe tbody tr th {\n",
       "        vertical-align: top;\n",
       "    }\n",
       "\n",
       "    .dataframe thead th {\n",
       "        text-align: right;\n",
       "    }\n",
       "</style>\n",
       "<table border=\"1\" class=\"dataframe\">\n",
       "  <thead>\n",
       "    <tr style=\"text-align: right;\">\n",
       "      <th></th>\n",
       "      <th>Transaction ID</th>\n",
       "      <th>Date</th>\n",
       "      <th>Day of Week</th>\n",
       "      <th>Time</th>\n",
       "      <th>Type of Card</th>\n",
       "      <th>Entry Mode</th>\n",
       "      <th>Amount</th>\n",
       "      <th>Type of Transaction</th>\n",
       "      <th>Merchant Group</th>\n",
       "      <th>Country of Transaction</th>\n",
       "      <th>Shipping Address</th>\n",
       "      <th>Country of Residence</th>\n",
       "      <th>Gender</th>\n",
       "      <th>Age</th>\n",
       "      <th>Bank</th>\n",
       "      <th>Fraud</th>\n",
       "    </tr>\n",
       "  </thead>\n",
       "  <tbody>\n",
       "    <tr>\n",
       "      <th>0</th>\n",
       "      <td>3577 209</td>\n",
       "      <td>14-Oct-20</td>\n",
       "      <td>Wednesday</td>\n",
       "      <td>19</td>\n",
       "      <td>Visa</td>\n",
       "      <td>Tap</td>\n",
<<<<<<< HEAD
       "      <td>Â£5</td>\n",
=======
       "      <td>£5</td>\n",
>>>>>>> 36f6b845ae7c5d794a8c16946a0fea2b43e26233
       "      <td>POS</td>\n",
       "      <td>Entertainment</td>\n",
       "      <td>United Kingdom</td>\n",
       "      <td>United Kingdom</td>\n",
       "      <td>United Kingdom</td>\n",
       "      <td>M</td>\n",
       "      <td>25.2</td>\n",
       "      <td>RBS</td>\n",
       "      <td>0</td>\n",
       "    </tr>\n",
       "    <tr>\n",
       "      <th>1</th>\n",
       "      <td>3039 221</td>\n",
       "      <td>14-Oct-20</td>\n",
       "      <td>Wednesday</td>\n",
       "      <td>17</td>\n",
       "      <td>MasterCard</td>\n",
       "      <td>PIN</td>\n",
<<<<<<< HEAD
       "      <td>Â£288</td>\n",
=======
       "      <td>£288</td>\n",
>>>>>>> 36f6b845ae7c5d794a8c16946a0fea2b43e26233
       "      <td>POS</td>\n",
       "      <td>Services</td>\n",
       "      <td>USA</td>\n",
       "      <td>USA</td>\n",
       "      <td>USA</td>\n",
       "      <td>F</td>\n",
       "      <td>49.6</td>\n",
       "      <td>Lloyds</td>\n",
       "      <td>0</td>\n",
       "    </tr>\n",
       "  </tbody>\n",
       "</table>\n",
       "</div>"
      ],
      "text/plain": [
       "  Transaction ID       Date Day of Week  Time Type of Card Entry Mode Amount  \\\n",
<<<<<<< HEAD
       "0       3577 209  14-Oct-20   Wednesday    19         Visa        Tap    Â£5   \n",
       "1       3039 221  14-Oct-20   Wednesday    17   MasterCard        PIN  Â£288   \n",
=======
       "0       3577 209  14-Oct-20   Wednesday    19         Visa        Tap     £5   \n",
       "1       3039 221  14-Oct-20   Wednesday    17   MasterCard        PIN   £288   \n",
>>>>>>> 36f6b845ae7c5d794a8c16946a0fea2b43e26233
       "\n",
       "  Type of Transaction Merchant Group Country of Transaction Shipping Address  \\\n",
       "0                 POS  Entertainment         United Kingdom   United Kingdom   \n",
       "1                 POS       Services                    USA              USA   \n",
       "\n",
<<<<<<< HEAD
       "  Country of Residence Gender   Age    Bank Fraud  \n",
       "0       United Kingdom      M  25.2     RBS     0  \n",
       "1                  USA      F  49.6  Lloyds     0  "
      ]
     },
     "execution_count": 21,
=======
       "  Country of Residence Gender   Age    Bank  Fraud  \n",
       "0       United Kingdom      M  25.2     RBS      0  \n",
       "1                  USA      F  49.6  Lloyds      0  "
      ]
     },
     "execution_count": 16,
>>>>>>> 36f6b845ae7c5d794a8c16946a0fea2b43e26233
     "metadata": {},
     "output_type": "execute_result"
    }
   ],
   "source": [
    "CreditCardData_df_clean.head(2)"
   ]
  },
  {
   "cell_type": "code",
<<<<<<< HEAD
   "execution_count": 22,
=======
   "execution_count": null,
>>>>>>> 36f6b845ae7c5d794a8c16946a0fea2b43e26233
   "metadata": {},
   "outputs": [
    {
     "data": {
      "text/plain": [
       "dtype('O')"
      ]
     },
<<<<<<< HEAD
     "execution_count": 22,
=======
     "execution_count": 17,
>>>>>>> 36f6b845ae7c5d794a8c16946a0fea2b43e26233
     "metadata": {},
     "output_type": "execute_result"
    }
   ],
   "source": [
    "CreditCardData_df_clean['Transaction ID'].dtype"
   ]
  },
  {
   "cell_type": "code",
<<<<<<< HEAD
   "execution_count": 23,
=======
   "execution_count": null,
>>>>>>> 36f6b845ae7c5d794a8c16946a0fea2b43e26233
   "metadata": {},
   "outputs": [
    {
     "data": {
      "text/plain": [
       "0    3577209\n",
       "1    3039221\n",
       "2    2694780\n",
       "3    2640960\n",
       "4    2771031\n",
       "Name: Transaction ID, dtype: object"
      ]
     },
<<<<<<< HEAD
     "execution_count": 23,
=======
     "execution_count": 18,
>>>>>>> 36f6b845ae7c5d794a8c16946a0fea2b43e26233
     "metadata": {},
     "output_type": "execute_result"
    }
   ],
   "source": [
    "# 2nd getting rid of 'space' in the \"Transaction ID\"\n",
    "CreditCardData_df_clean.loc[:, 'Transaction ID'] = CreditCardData_df_clean['Transaction ID'].str.replace(' ', '')\n",
    "CreditCardData_df_clean['Transaction ID'].head()"
   ]
  },
  {
   "cell_type": "code",
<<<<<<< HEAD
   "execution_count": 24,
=======
   "execution_count": null,
>>>>>>> 36f6b845ae7c5d794a8c16946a0fea2b43e26233
   "metadata": {},
   "outputs": [
    {
     "data": {
      "text/plain": [
       "dtype('int64')"
      ]
     },
<<<<<<< HEAD
     "execution_count": 24,
=======
     "execution_count": 19,
>>>>>>> 36f6b845ae7c5d794a8c16946a0fea2b43e26233
     "metadata": {},
     "output_type": "execute_result"
    }
   ],
   "source": [
    "# 3rd converting the data in CreditCardData_df_clean['Transaction ID'] into integer\n",
    "CreditCardData_df_clean['Transaction ID'] = pd.to_numeric(CreditCardData_df_clean['Transaction ID'])\n",
    "CreditCardData_df_clean['Transaction ID'].dtype"
   ]
  },
  {
   "cell_type": "markdown",
   "metadata": {},
   "source": [
    "---------\n",
    "\n",
    "### 2- Fixing data in \"Date\" column\n",
    "\n",
    "_______"
   ]
  },
  {
   "cell_type": "code",
<<<<<<< HEAD
   "execution_count": 25,
=======
   "execution_count": null,
>>>>>>> 36f6b845ae7c5d794a8c16946a0fea2b43e26233
   "metadata": {},
   "outputs": [
    {
     "data": {
      "text/plain": [
       "0   2020-10-14\n",
       "1   2020-10-14\n",
       "2   2020-10-14\n",
       "3   2020-10-13\n",
       "4   2020-10-13\n",
       "Name: Date, dtype: datetime64[ns]"
      ]
     },
<<<<<<< HEAD
     "execution_count": 25,
=======
     "execution_count": 20,
>>>>>>> 36f6b845ae7c5d794a8c16946a0fea2b43e26233
     "metadata": {},
     "output_type": "execute_result"
    }
   ],
   "source": [
    "# Converting \"Date\" column from object to date\n",
    "CreditCardData_df_clean['Date'] = pd.to_datetime(CreditCardData_df_clean['Date'], format='%d-%b-%y')\n",
    "CreditCardData_df_clean['Date'].head()"
   ]
  },
  {
   "cell_type": "code",
<<<<<<< HEAD
   "execution_count": 26,
=======
   "execution_count": null,
>>>>>>> 36f6b845ae7c5d794a8c16946a0fea2b43e26233
   "metadata": {},
   "outputs": [
    {
     "data": {
      "text/plain": [
       "dtype('<M8[ns]')"
      ]
     },
<<<<<<< HEAD
     "execution_count": 26,
=======
     "execution_count": 21,
>>>>>>> 36f6b845ae7c5d794a8c16946a0fea2b43e26233
     "metadata": {},
     "output_type": "execute_result"
    }
   ],
   "source": [
    "# Now checking \"Date\" data type\n",
    "CreditCardData_df_clean['Date'].dtypes"
   ]
  },
  {
   "cell_type": "markdown",
   "metadata": {},
   "source": [
    "--------------\n",
    "\n",
    "### 3- Converting data type in column \"Amount\" from object to integer\n",
    "\n",
    "--------------"
   ]
  },
  {
   "cell_type": "code",
<<<<<<< HEAD
   "execution_count": 27,
=======
   "execution_count": null,
>>>>>>> 36f6b845ae7c5d794a8c16946a0fea2b43e26233
   "metadata": {},
   "outputs": [
    {
     "data": {
      "text/plain": [
       "0      5\n",
       "1    288\n",
       "2      5\n",
       "3     28\n",
       "4     91\n",
       "Name: Amount, dtype: object"
      ]
     },
<<<<<<< HEAD
     "execution_count": 27,
=======
     "execution_count": 22,
>>>>>>> 36f6b845ae7c5d794a8c16946a0fea2b43e26233
     "metadata": {},
     "output_type": "execute_result"
    }
   ],
   "source": [
    "# a) Getting rid of \"£\" \n",
<<<<<<< HEAD
    "CreditCardData_df_clean['Amount'] = CreditCardData_df_clean['Amount'].str.replace('Â£', '')\n",
=======
    "CreditCardData_df_clean['Amount'] = CreditCardData_df_clean['Amount'].str.replace('£', '')\n",
>>>>>>> 36f6b845ae7c5d794a8c16946a0fea2b43e26233
    "CreditCardData_df_clean['Amount'].head()"
   ]
  },
  {
   "cell_type": "code",
<<<<<<< HEAD
   "execution_count": 28,
   "metadata": {},
   "outputs": [
    {
     "data": {
      "text/plain": [
       "dtype('float64')"
      ]
     },
     "execution_count": 28,
     "metadata": {},
     "output_type": "execute_result"
    }
   ],
   "source": [
    "# b) Converting data type in column \"Amount\" to Integer from Object\n",
    "CreditCardData_df_clean['Amount'] = pd.to_numeric(CreditCardData_df_clean['Amount'])\n",
    "CreditCardData_df_clean['Amount'].dtype"
   ]
  },
  {
   "cell_type": "markdown",
   "metadata": {},
   "source": [
    "We can not convert data in column \"Amount\" into integer unless we get rid of non-finite and NaN values.\n"
   ]
  },
  {
   "cell_type": "code",
   "execution_count": 29,
   "metadata": {},
   "outputs": [
    {
     "name": "stdout",
     "output_type": "stream",
     "text": [
      "Transaction ID            0\n",
      "Date                      0\n",
      "Day of Week               0\n",
      "Time                      0\n",
      "Type of Card              0\n",
      "Entry Mode                0\n",
      "Amount                    6\n",
      "Type of Transaction       0\n",
      "Merchant Group            0\n",
      "Country of Transaction    0\n",
      "Shipping Address          0\n",
      "Country of Residence      0\n",
      "Gender                    0\n",
      "Age                       0\n",
      "Bank                      0\n",
      "Fraud                     0\n",
      "dtype: int64\n"
     ]
    }
   ],
   "source": [
    "# Figuring out if there is NaN values in colum \"Amount\"\n",
    "nan_count = CreditCardData_df_clean.isna().sum()\n",
    "print(nan_count)"
   ]
  },
  {
   "cell_type": "code",
   "execution_count": 30,
   "metadata": {},
   "outputs": [
    {
     "name": "stdout",
     "output_type": "stream",
     "text": [
      "Transaction ID            0\n",
      "Date                      0\n",
      "Day of Week               0\n",
      "Time                      0\n",
      "Type of Card              0\n",
      "Entry Mode                0\n",
      "Amount                    0\n",
      "Type of Transaction       0\n",
      "Merchant Group            0\n",
      "Country of Transaction    0\n",
      "Shipping Address          0\n",
      "Country of Residence      0\n",
      "Gender                    0\n",
      "Age                       0\n",
      "Bank                      0\n",
      "Fraud                     0\n",
      "dtype: int64\n"
     ]
    }
   ],
   "source": [
    "# Figuring out if there is non-finite values in colum \"Amount\"\n",
    "inf_count = CreditCardData_df_clean.isin([np.inf, -np.inf]).sum()\n",
    "print(inf_count)"
   ]
  },
  {
   "cell_type": "code",
   "execution_count": 31,
   "metadata": {},
   "outputs": [
    {
     "data": {
      "text/plain": [
       "(99485, 16)"
      ]
     },
     "execution_count": 31,
     "metadata": {},
     "output_type": "execute_result"
    }
   ],
   "source": [
    "# Getting rid of NA\n",
    "CreditCardData_df_clean = CreditCardData_df_clean.dropna()\n",
    "CreditCardData_df_clean.shape"
   ]
  },
  {
   "cell_type": "code",
   "execution_count": 32,
=======
   "execution_count": null,
>>>>>>> 36f6b845ae7c5d794a8c16946a0fea2b43e26233
   "metadata": {},
   "outputs": [
    {
     "data": {
      "text/plain": [
       "dtype('int64')"
      ]
     },
<<<<<<< HEAD
     "execution_count": 32,
=======
     "execution_count": 23,
>>>>>>> 36f6b845ae7c5d794a8c16946a0fea2b43e26233
     "metadata": {},
     "output_type": "execute_result"
    }
   ],
   "source": [
<<<<<<< HEAD
    "CreditCardData_df_clean['Amount'] = CreditCardData_df_clean['Amount'].astype(np.int64)\n",
=======
    "# b) Converting data type in column \"Amount\" to Integer from Object\n",
    "CreditCardData_df_clean['Amount'] = pd.to_numeric(CreditCardData_df_clean['Amount'])\n",
>>>>>>> 36f6b845ae7c5d794a8c16946a0fea2b43e26233
    "CreditCardData_df_clean['Amount'].dtype"
   ]
  },
  {
   "cell_type": "markdown",
   "metadata": {},
   "source": [
    "-----------\n",
    "\n",
    "### 4- Converting data type in \"Age\" into Integer from Float\n",
    "\n",
    "----------"
   ]
  },
  {
   "cell_type": "code",
<<<<<<< HEAD
   "execution_count": 33,
=======
   "execution_count": null,
>>>>>>> 36f6b845ae7c5d794a8c16946a0fea2b43e26233
   "metadata": {},
   "outputs": [
    {
     "data": {
      "text/plain": [
       "0    25.0\n",
       "1    50.0\n",
       "2    42.0\n",
       "3    51.0\n",
       "4    38.0\n",
       "Name: Age, dtype: float64"
      ]
     },
<<<<<<< HEAD
     "execution_count": 33,
=======
     "execution_count": 24,
>>>>>>> 36f6b845ae7c5d794a8c16946a0fea2b43e26233
     "metadata": {},
     "output_type": "execute_result"
    }
   ],
   "source": [
    "# Rounding it 1st\n",
<<<<<<< HEAD
    "CreditCardData_df_clean['Age'] = CreditCardData_df_clean['Age'].astype(float)\n",
    "CreditCardData_df_clean['Age'] = round(CreditCardData_df_clean['Age'], 0)\n",
=======
    "CreditCardData_df_clean['Age'] = round(CreditCardData_df_clean['Age'] , 0)\n",
>>>>>>> 36f6b845ae7c5d794a8c16946a0fea2b43e26233
    "CreditCardData_df_clean['Age'].head()"
   ]
  },
  {
   "cell_type": "code",
<<<<<<< HEAD
   "execution_count": 34,
=======
   "execution_count": null,
>>>>>>> 36f6b845ae7c5d794a8c16946a0fea2b43e26233
   "metadata": {},
   "outputs": [
    {
     "data": {
      "text/plain": [
       "dtype('float64')"
      ]
     },
<<<<<<< HEAD
     "execution_count": 34,
=======
     "execution_count": 25,
>>>>>>> 36f6b845ae7c5d794a8c16946a0fea2b43e26233
     "metadata": {},
     "output_type": "execute_result"
    }
   ],
   "source": [
    "# 2nd converting it\n",
    "CreditCardData_df_clean['Age'] = pd.to_numeric(CreditCardData_df_clean['Age'])\n",
    "CreditCardData_df_clean['Age'] .dtype"
   ]
  },
  {
   "cell_type": "code",
<<<<<<< HEAD
   "execution_count": 35,
=======
   "execution_count": null,
>>>>>>> 36f6b845ae7c5d794a8c16946a0fea2b43e26233
   "metadata": {},
   "outputs": [
    {
     "data": {
      "text/plain": [
       "dtype('int64')"
      ]
     },
<<<<<<< HEAD
     "execution_count": 35,
=======
     "execution_count": 26,
>>>>>>> 36f6b845ae7c5d794a8c16946a0fea2b43e26233
     "metadata": {},
     "output_type": "execute_result"
    }
   ],
   "source": [
    "CreditCardData_df_clean['Age'] = CreditCardData_df_clean['Age'].astype(np.int64)\n",
    "CreditCardData_df_clean['Age'].dtype"
   ]
  },
  {
   "cell_type": "markdown",
   "metadata": {},
   "source": [
    "---------------------"
   ]
  },
  {
   "cell_type": "code",
<<<<<<< HEAD
   "execution_count": 36,
=======
   "execution_count": null,
>>>>>>> 36f6b845ae7c5d794a8c16946a0fea2b43e26233
   "metadata": {},
   "outputs": [
    {
     "data": {
      "text/plain": [
       "Transaction ID                     int64\n",
       "Date                      datetime64[ns]\n",
       "Day of Week                       object\n",
       "Time                               int64\n",
       "Type of Card                      object\n",
       "Entry Mode                        object\n",
       "Amount                             int64\n",
       "Type of Transaction               object\n",
       "Merchant Group                    object\n",
       "Country of Transaction            object\n",
       "Shipping Address                  object\n",
       "Country of Residence              object\n",
       "Gender                            object\n",
       "Age                                int64\n",
       "Bank                              object\n",
<<<<<<< HEAD
       "Fraud                             object\n",
       "dtype: object"
      ]
     },
     "execution_count": 36,
=======
       "Fraud                              int64\n",
       "dtype: object"
      ]
     },
     "execution_count": 27,
>>>>>>> 36f6b845ae7c5d794a8c16946a0fea2b43e26233
     "metadata": {},
     "output_type": "execute_result"
    }
   ],
   "source": [
    "# Checking all the data types\n",
    "CreditCardData_df_clean.dtypes"
   ]
  },
  {
   "cell_type": "code",
<<<<<<< HEAD
   "execution_count": 37,
=======
   "execution_count": null,
>>>>>>> 36f6b845ae7c5d794a8c16946a0fea2b43e26233
   "metadata": {},
   "outputs": [
    {
     "name": "stdout",
     "output_type": "stream",
     "text": [
      "<class 'pandas.core.frame.DataFrame'>\n",
<<<<<<< HEAD
      "Int64Index: 99485 entries, 0 to 99999\n",
      "Data columns (total 16 columns):\n",
      " #   Column                  Non-Null Count  Dtype         \n",
      "---  ------                  --------------  -----         \n",
      " 0   Transaction ID          99485 non-null  int64         \n",
      " 1   Date                    99485 non-null  datetime64[ns]\n",
      " 2   Day of Week             99485 non-null  object        \n",
      " 3   Time                    99485 non-null  int64         \n",
      " 4   Type of Card            99485 non-null  object        \n",
      " 5   Entry Mode              99485 non-null  object        \n",
      " 6   Amount                  99485 non-null  int64         \n",
      " 7   Type of Transaction     99485 non-null  object        \n",
      " 8   Merchant Group          99485 non-null  object        \n",
      " 9   Country of Transaction  99485 non-null  object        \n",
      " 10  Shipping Address        99485 non-null  object        \n",
      " 11  Country of Residence    99485 non-null  object        \n",
      " 12  Gender                  99485 non-null  object        \n",
      " 13  Age                     99485 non-null  int64         \n",
      " 14  Bank                    99485 non-null  object        \n",
      " 15  Fraud                   99485 non-null  object        \n",
      "dtypes: datetime64[ns](1), int64(4), object(11)\n",
      "memory usage: 12.9+ MB\n"
=======
      "Int64Index: 99977 entries, 0 to 99999\n",
      "Data columns (total 16 columns):\n",
      " #   Column                  Non-Null Count  Dtype         \n",
      "---  ------                  --------------  -----         \n",
      " 0   Transaction ID          99977 non-null  int64         \n",
      " 1   Date                    99977 non-null  datetime64[ns]\n",
      " 2   Day of Week             99977 non-null  object        \n",
      " 3   Time                    99977 non-null  int64         \n",
      " 4   Type of Card            99977 non-null  object        \n",
      " 5   Entry Mode              99977 non-null  object        \n",
      " 6   Amount                  99977 non-null  int64         \n",
      " 7   Type of Transaction     99977 non-null  object        \n",
      " 8   Merchant Group          99977 non-null  object        \n",
      " 9   Country of Transaction  99977 non-null  object        \n",
      " 10  Shipping Address        99977 non-null  object        \n",
      " 11  Country of Residence    99977 non-null  object        \n",
      " 12  Gender                  99977 non-null  object        \n",
      " 13  Age                     99977 non-null  int64         \n",
      " 14  Bank                    99977 non-null  object        \n",
      " 15  Fraud                   99977 non-null  int64         \n",
      "dtypes: datetime64[ns](1), int64(5), object(10)\n",
      "memory usage: 13.0+ MB\n"
>>>>>>> 36f6b845ae7c5d794a8c16946a0fea2b43e26233
     ]
    }
   ],
   "source": [
    "# Or like this\n",
    "CreditCardData_df_clean.info()"
   ]
  },
  {
   "cell_type": "markdown",
   "metadata": {},
   "source": [
<<<<<<< HEAD
    "_________________"
   ]
  },
  {
   "cell_type": "markdown",
   "metadata": {},
   "source": [
    "### Total rows were removed"
   ]
  },
  {
   "cell_type": "code",
   "execution_count": 38,
   "metadata": {},
   "outputs": [
    {
     "name": "stdout",
     "output_type": "stream",
     "text": [
      "We've got ridden of 515 rows with NaN or nulls\n"
     ]
    }
   ],
   "source": [
    "print(\"We've got ridden of \" + str(CreditCardData_df.shape[0] - CreditCardData_df_clean.shape[0]) + \" rows with NaN or nulls\")"
   ]
  },
  {
   "cell_type": "markdown",
   "metadata": {},
   "source": [
=======
>>>>>>> 36f6b845ae7c5d794a8c16946a0fea2b43e26233
    "-------------------\n",
    "\n",
    "### Data Conversion Done\n",
    "\n",
    "------------------------"
   ]
  },
  {
   "cell_type": "markdown",
   "metadata": {},
   "source": [
    "---------------\n",
    "\n",
    "## Creating Machine Learning Model\n",
    "\n",
    "--------------"
   ]
  },
  {
<<<<<<< HEAD
   "cell_type": "markdown",
   "metadata": {},
   "source": [
    "+++++++++++++++++++++++++++++++++++++++++++++++++++++++++++++++++\n",
    "\n",
    "### Logistical Regression 1st Model before Balancing the Training Data\n",
    "\n",
    "+++++++++++++++++++++++++++++++++++++++++++++++++++++++++++++++++"
=======
   "cell_type": "code",
   "execution_count": null,
   "metadata": {},
   "outputs": [],
   "source": [
    "# Import the modules\n",
    "import numpy as np\n",
    "import pandas as pd\n",
    "from pathlib import Path\n",
    "from sklearn.metrics import balanced_accuracy_score, accuracy_score, confusion_matrix, classification_report\n",
    "from sklearn.preprocessing import LabelEncoder\n",
    "from sklearn.model_selection import train_test_split\n",
    "from sklearn.linear_model import LogisticRegression"
>>>>>>> 36f6b845ae7c5d794a8c16946a0fea2b43e26233
   ]
  },
  {
   "cell_type": "code",
<<<<<<< HEAD
   "execution_count": 39,
=======
   "execution_count": null,
>>>>>>> 36f6b845ae7c5d794a8c16946a0fea2b43e26233
   "metadata": {},
   "outputs": [
    {
     "data": {
      "text/plain": [
<<<<<<< HEAD
       "0    92802\n",
       "1     6683\n",
       "Name: Fraud, dtype: int64"
      ]
     },
     "execution_count": 39,
=======
       "0    92785\n",
       "1     7192\n",
       "Name: Fraud, dtype: int64"
      ]
     },
     "execution_count": 30,
>>>>>>> 36f6b845ae7c5d794a8c16946a0fea2b43e26233
     "metadata": {},
     "output_type": "execute_result"
    }
   ],
   "source": [
    "CreditCardData_df_clean['Fraud'].value_counts()"
   ]
  },
  {
   "cell_type": "code",
<<<<<<< HEAD
   "execution_count": 40,
=======
   "execution_count": null,
>>>>>>> 36f6b845ae7c5d794a8c16946a0fea2b43e26233
   "metadata": {},
   "outputs": [
    {
     "name": "stdout",
     "output_type": "stream",
     "text": [
<<<<<<< HEAD
      "No of samples belongs to Safe Transactions: 92802\n",
      "No of samples belongs to Fraudalent Transactions: 6683\n"
=======
      "No of samples belongs to Safe Transactions: 92785\n",
      "No of samples belongs to Fraudalent Transaction: 7192\n"
>>>>>>> 36f6b845ae7c5d794a8c16946a0fea2b43e26233
     ]
    }
   ],
   "source": [
    "print('No of samples belongs to Safe Transactions:', CreditCardData_df_clean['Fraud'].value_counts()[0])\n",
<<<<<<< HEAD
    "print('No of samples belongs to Fraudalent Transactions:', CreditCardData_df_clean['Fraud'].value_counts()[1])"
=======
    "print('No of samples belongs to Fraudalent Transaction:', CreditCardData_df_clean['Fraud'].value_counts()[1])"
>>>>>>> 36f6b845ae7c5d794a8c16946a0fea2b43e26233
   ]
  },
  {
   "cell_type": "code",
<<<<<<< HEAD
   "execution_count": 41,
=======
   "execution_count": null,
>>>>>>> 36f6b845ae7c5d794a8c16946a0fea2b43e26233
   "metadata": {},
   "outputs": [
    {
     "name": "stdout",
     "output_type": "stream",
     "text": [
<<<<<<< HEAD
      "7.2% of data is fraud so it's unbalanced\n"
=======
      "7.75% of data is fraud so it's unbalanced\n"
>>>>>>> 36f6b845ae7c5d794a8c16946a0fea2b43e26233
     ]
    }
   ],
   "source": [
    "print( str(round(CreditCardData_df_clean['Fraud'].value_counts()[1] / CreditCardData_df_clean['Fraud'].value_counts()[0] * 100, 2)) + \"% of data is fraud so it's unbalanced\")"
   ]
  },
  {
   "cell_type": "markdown",
   "metadata": {},
   "source": [
<<<<<<< HEAD
    "##### It is clearly observed that the data is highly imbalanced. There are 92785 records belonging to one group and only 7192 records are belonging to other group."
=======
    "##### It is clearly observed that the data is highly imbalanced. There are 92785 records belonging to one class and only 7192 records are belonging to other class."
>>>>>>> 36f6b845ae7c5d794a8c16946a0fea2b43e26233
   ]
  },
  {
   "cell_type": "markdown",
   "metadata": {},
   "source": [
    "### Split the Data into Training and Testing Sets"
   ]
  },
  {
   "cell_type": "code",
<<<<<<< HEAD
   "execution_count": 42,
=======
   "execution_count": null,
   "metadata": {},
   "outputs": [
    {
     "data": {
      "text/plain": [
       "['Day of Week',\n",
       " 'Time',\n",
       " 'Type of Card',\n",
       " 'Entry Mode',\n",
       " 'Amount',\n",
       " 'Type of Transaction',\n",
       " 'Merchant Group',\n",
       " 'Country of Transaction',\n",
       " 'Shipping Address',\n",
       " 'Country of Residence',\n",
       " 'Gender',\n",
       " 'Age',\n",
       " 'Bank',\n",
       " 'Fraud']"
      ]
     },
     "execution_count": 33,
     "metadata": {},
     "output_type": "execute_result"
    }
   ],
   "source": [
    "# Getting necessary data.\n",
    "columns = list(CreditCardData_df_clean.columns[2:])\n",
    "columns"
   ]
  },
  {
   "cell_type": "code",
   "execution_count": null,
>>>>>>> 36f6b845ae7c5d794a8c16946a0fea2b43e26233
   "metadata": {},
   "outputs": [
    {
     "data": {
      "text/html": [
       "<div>\n",
       "<style scoped>\n",
       "    .dataframe tbody tr th:only-of-type {\n",
       "        vertical-align: middle;\n",
       "    }\n",
       "\n",
       "    .dataframe tbody tr th {\n",
       "        vertical-align: top;\n",
       "    }\n",
       "\n",
       "    .dataframe thead th {\n",
       "        text-align: right;\n",
       "    }\n",
       "</style>\n",
       "<table border=\"1\" class=\"dataframe\">\n",
       "  <thead>\n",
       "    <tr style=\"text-align: right;\">\n",
       "      <th></th>\n",
       "      <th>Day of Week</th>\n",
       "      <th>Time</th>\n",
       "      <th>Type of Card</th>\n",
       "      <th>Entry Mode</th>\n",
       "      <th>Amount</th>\n",
       "      <th>Type of Transaction</th>\n",
       "      <th>Merchant Group</th>\n",
       "      <th>Country of Transaction</th>\n",
       "      <th>Shipping Address</th>\n",
       "      <th>Country of Residence</th>\n",
       "      <th>Gender</th>\n",
       "      <th>Age</th>\n",
       "      <th>Bank</th>\n",
       "      <th>Fraud</th>\n",
       "    </tr>\n",
       "  </thead>\n",
       "  <tbody>\n",
       "    <tr>\n",
       "      <th>0</th>\n",
       "      <td>Wednesday</td>\n",
       "      <td>19</td>\n",
       "      <td>Visa</td>\n",
       "      <td>Tap</td>\n",
       "      <td>5</td>\n",
       "      <td>POS</td>\n",
       "      <td>Entertainment</td>\n",
       "      <td>United Kingdom</td>\n",
       "      <td>United Kingdom</td>\n",
       "      <td>United Kingdom</td>\n",
       "      <td>M</td>\n",
       "      <td>25</td>\n",
       "      <td>RBS</td>\n",
       "      <td>0</td>\n",
       "    </tr>\n",
       "    <tr>\n",
       "      <th>1</th>\n",
       "      <td>Wednesday</td>\n",
       "      <td>17</td>\n",
       "      <td>MasterCard</td>\n",
       "      <td>PIN</td>\n",
       "      <td>288</td>\n",
       "      <td>POS</td>\n",
       "      <td>Services</td>\n",
       "      <td>USA</td>\n",
       "      <td>USA</td>\n",
       "      <td>USA</td>\n",
       "      <td>F</td>\n",
       "      <td>50</td>\n",
       "      <td>Lloyds</td>\n",
       "      <td>0</td>\n",
       "    </tr>\n",
       "    <tr>\n",
       "      <th>2</th>\n",
       "      <td>Wednesday</td>\n",
       "      <td>14</td>\n",
       "      <td>Visa</td>\n",
       "      <td>Tap</td>\n",
       "      <td>5</td>\n",
       "      <td>POS</td>\n",
       "      <td>Restaurant</td>\n",
       "      <td>India</td>\n",
       "      <td>India</td>\n",
       "      <td>India</td>\n",
       "      <td>F</td>\n",
       "      <td>42</td>\n",
       "      <td>Barclays</td>\n",
       "      <td>0</td>\n",
       "    </tr>\n",
       "    <tr>\n",
       "      <th>3</th>\n",
       "      <td>Tuesday</td>\n",
       "      <td>14</td>\n",
       "      <td>Visa</td>\n",
       "      <td>Tap</td>\n",
       "      <td>28</td>\n",
       "      <td>POS</td>\n",
       "      <td>Entertainment</td>\n",
       "      <td>United Kingdom</td>\n",
       "      <td>India</td>\n",
       "      <td>United Kingdom</td>\n",
       "      <td>F</td>\n",
       "      <td>51</td>\n",
       "      <td>Barclays</td>\n",
       "      <td>0</td>\n",
       "    </tr>\n",
       "    <tr>\n",
       "      <th>4</th>\n",
       "      <td>Tuesday</td>\n",
       "      <td>23</td>\n",
       "      <td>Visa</td>\n",
       "      <td>CVC</td>\n",
       "      <td>91</td>\n",
       "      <td>Online</td>\n",
       "      <td>Electronics</td>\n",
       "      <td>USA</td>\n",
       "      <td>USA</td>\n",
       "      <td>United Kingdom</td>\n",
       "      <td>M</td>\n",
       "      <td>38</td>\n",
       "      <td>Halifax</td>\n",
       "      <td>1</td>\n",
       "    </tr>\n",
       "  </tbody>\n",
       "</table>\n",
       "</div>"
      ],
      "text/plain": [
       "  Day of Week  Time Type of Card Entry Mode  Amount Type of Transaction  \\\n",
       "0   Wednesday    19         Visa        Tap       5                 POS   \n",
       "1   Wednesday    17   MasterCard        PIN     288                 POS   \n",
       "2   Wednesday    14         Visa        Tap       5                 POS   \n",
       "3     Tuesday    14         Visa        Tap      28                 POS   \n",
       "4     Tuesday    23         Visa        CVC      91              Online   \n",
       "\n",
       "  Merchant Group Country of Transaction Shipping Address Country of Residence  \\\n",
       "0  Entertainment         United Kingdom   United Kingdom       United Kingdom   \n",
       "1       Services                    USA              USA                  USA   \n",
       "2     Restaurant                  India            India                India   \n",
       "3  Entertainment         United Kingdom            India       United Kingdom   \n",
       "4    Electronics                    USA              USA       United Kingdom   \n",
       "\n",
<<<<<<< HEAD
       "  Gender  Age      Bank Fraud  \n",
       "0      M   25       RBS     0  \n",
       "1      F   50    Lloyds     0  \n",
       "2      F   42  Barclays     0  \n",
       "3      F   51  Barclays     0  \n",
       "4      M   38   Halifax     1  "
      ]
     },
     "execution_count": 42,
=======
       "  Gender  Age      Bank  Fraud  \n",
       "0      M   25       RBS      0  \n",
       "1      F   50    Lloyds      0  \n",
       "2      F   42  Barclays      0  \n",
       "3      F   51  Barclays      0  \n",
       "4      M   38   Halifax      1  "
      ]
     },
     "execution_count": 34,
>>>>>>> 36f6b845ae7c5d794a8c16946a0fea2b43e26233
     "metadata": {},
     "output_type": "execute_result"
    }
   ],
   "source": [
<<<<<<< HEAD
    "# Getting necessary data.\n",
    "columns = list(CreditCardData_df_clean.columns[2:])\n",
=======
>>>>>>> 36f6b845ae7c5d794a8c16946a0fea2b43e26233
    "df_unbalanced = CreditCardData_df_clean[columns]\n",
    "df_unbalanced.head()"
   ]
  },
  {
   "cell_type": "markdown",
   "metadata": {},
   "source": [
    "### Data Preprocessing and Encoding"
   ]
  },
  {
   "cell_type": "code",
<<<<<<< HEAD
   "execution_count": 43,
=======
   "execution_count": null,
>>>>>>> 36f6b845ae7c5d794a8c16946a0fea2b43e26233
   "metadata": {},
   "outputs": [
    {
     "data": {
      "text/html": [
       "<div>\n",
       "<style scoped>\n",
       "    .dataframe tbody tr th:only-of-type {\n",
       "        vertical-align: middle;\n",
       "    }\n",
       "\n",
       "    .dataframe tbody tr th {\n",
       "        vertical-align: top;\n",
       "    }\n",
       "\n",
       "    .dataframe thead th {\n",
       "        text-align: right;\n",
       "    }\n",
       "</style>\n",
       "<table border=\"1\" class=\"dataframe\">\n",
       "  <thead>\n",
       "    <tr style=\"text-align: right;\">\n",
       "      <th></th>\n",
       "      <th>Day of Week</th>\n",
       "      <th>Time</th>\n",
       "      <th>Type of Card</th>\n",
       "      <th>Entry Mode</th>\n",
       "      <th>Amount</th>\n",
       "      <th>Type of Transaction</th>\n",
       "      <th>Merchant Group</th>\n",
       "      <th>Country of Transaction</th>\n",
       "      <th>Shipping Address</th>\n",
       "      <th>Country of Residence</th>\n",
       "      <th>Gender</th>\n",
       "      <th>Age</th>\n",
       "      <th>Bank</th>\n",
       "      <th>Fraud</th>\n",
       "    </tr>\n",
       "  </thead>\n",
       "  <tbody>\n",
       "    <tr>\n",
       "      <th>0</th>\n",
       "      <td>3</td>\n",
       "      <td>19</td>\n",
       "      <td>1</td>\n",
       "      <td>2</td>\n",
       "      <td>5</td>\n",
       "      <td>2</td>\n",
<<<<<<< HEAD
       "      <td>3</td>\n",
       "      <td>4</td>\n",
       "      <td>5</td>\n",
       "      <td>4</td>\n",
       "      <td>2</td>\n",
=======
       "      <td>2</td>\n",
       "      <td>4</td>\n",
       "      <td>4</td>\n",
       "      <td>4</td>\n",
       "      <td>1</td>\n",
>>>>>>> 36f6b845ae7c5d794a8c16946a0fea2b43e26233
       "      <td>25</td>\n",
       "      <td>7</td>\n",
       "      <td>0</td>\n",
       "    </tr>\n",
       "    <tr>\n",
       "      <th>1</th>\n",
       "      <td>3</td>\n",
       "      <td>17</td>\n",
       "      <td>0</td>\n",
       "      <td>1</td>\n",
       "      <td>288</td>\n",
       "      <td>2</td>\n",
<<<<<<< HEAD
       "      <td>9</td>\n",
       "      <td>3</td>\n",
       "      <td>4</td>\n",
       "      <td>3</td>\n",
       "      <td>1</td>\n",
=======
       "      <td>8</td>\n",
       "      <td>3</td>\n",
       "      <td>3</td>\n",
       "      <td>3</td>\n",
       "      <td>0</td>\n",
>>>>>>> 36f6b845ae7c5d794a8c16946a0fea2b43e26233
       "      <td>50</td>\n",
       "      <td>4</td>\n",
       "      <td>0</td>\n",
       "    </tr>\n",
       "    <tr>\n",
       "      <th>2</th>\n",
       "      <td>3</td>\n",
       "      <td>14</td>\n",
       "      <td>1</td>\n",
       "      <td>2</td>\n",
       "      <td>5</td>\n",
       "      <td>2</td>\n",
<<<<<<< HEAD
       "      <td>8</td>\n",
       "      <td>1</td>\n",
       "      <td>2</td>\n",
       "      <td>1</td>\n",
       "      <td>1</td>\n",
=======
       "      <td>7</td>\n",
       "      <td>1</td>\n",
       "      <td>1</td>\n",
       "      <td>1</td>\n",
       "      <td>0</td>\n",
>>>>>>> 36f6b845ae7c5d794a8c16946a0fea2b43e26233
       "      <td>42</td>\n",
       "      <td>0</td>\n",
       "      <td>0</td>\n",
       "    </tr>\n",
       "    <tr>\n",
       "      <th>3</th>\n",
       "      <td>2</td>\n",
       "      <td>14</td>\n",
       "      <td>1</td>\n",
       "      <td>2</td>\n",
       "      <td>28</td>\n",
       "      <td>2</td>\n",
<<<<<<< HEAD
       "      <td>3</td>\n",
       "      <td>4</td>\n",
       "      <td>2</td>\n",
       "      <td>4</td>\n",
       "      <td>1</td>\n",
=======
       "      <td>2</td>\n",
       "      <td>4</td>\n",
       "      <td>1</td>\n",
       "      <td>4</td>\n",
       "      <td>0</td>\n",
>>>>>>> 36f6b845ae7c5d794a8c16946a0fea2b43e26233
       "      <td>51</td>\n",
       "      <td>0</td>\n",
       "      <td>0</td>\n",
       "    </tr>\n",
       "    <tr>\n",
       "      <th>4</th>\n",
       "      <td>2</td>\n",
       "      <td>23</td>\n",
       "      <td>1</td>\n",
       "      <td>0</td>\n",
       "      <td>91</td>\n",
       "      <td>1</td>\n",
<<<<<<< HEAD
       "      <td>2</td>\n",
       "      <td>3</td>\n",
       "      <td>4</td>\n",
       "      <td>4</td>\n",
       "      <td>2</td>\n",
=======
       "      <td>1</td>\n",
       "      <td>3</td>\n",
       "      <td>3</td>\n",
       "      <td>4</td>\n",
       "      <td>1</td>\n",
>>>>>>> 36f6b845ae7c5d794a8c16946a0fea2b43e26233
       "      <td>38</td>\n",
       "      <td>3</td>\n",
       "      <td>1</td>\n",
       "    </tr>\n",
       "  </tbody>\n",
       "</table>\n",
       "</div>"
      ],
      "text/plain": [
       "   Day of Week  Time  Type of Card  Entry Mode  Amount  Type of Transaction  \\\n",
       "0            3    19             1           2       5                    2   \n",
       "1            3    17             0           1     288                    2   \n",
       "2            3    14             1           2       5                    2   \n",
       "3            2    14             1           2      28                    2   \n",
       "4            2    23             1           0      91                    1   \n",
       "\n",
       "   Merchant Group  Country of Transaction  Shipping Address  \\\n",
<<<<<<< HEAD
       "0               3                       4                 5   \n",
       "1               9                       3                 4   \n",
       "2               8                       1                 2   \n",
       "3               3                       4                 2   \n",
       "4               2                       3                 4   \n",
       "\n",
       "   Country of Residence  Gender  Age  Bank  Fraud  \n",
       "0                     4       2   25     7      0  \n",
       "1                     3       1   50     4      0  \n",
       "2                     1       1   42     0      0  \n",
       "3                     4       1   51     0      0  \n",
       "4                     4       2   38     3      1  "
      ]
     },
     "execution_count": 43,
=======
       "0               2                       4                 4   \n",
       "1               8                       3                 3   \n",
       "2               7                       1                 1   \n",
       "3               2                       4                 1   \n",
       "4               1                       3                 3   \n",
       "\n",
       "   Country of Residence  Gender  Age  Bank  Fraud  \n",
       "0                     4       1   25     7      0  \n",
       "1                     3       0   50     4      0  \n",
       "2                     1       0   42     0      0  \n",
       "3                     4       0   51     0      0  \n",
       "4                     4       1   38     3      1  "
      ]
     },
     "execution_count": 35,
>>>>>>> 36f6b845ae7c5d794a8c16946a0fea2b43e26233
     "metadata": {},
     "output_type": "execute_result"
    }
   ],
   "source": [
    "# Encoding Categorical values\n",
    "df_string = df_unbalanced.select_dtypes(include=['object'])\n",
    "for i in df_string.columns:\n",
    "    df_unbalanced[i] = LabelEncoder().fit_transform(df_unbalanced[i])\n",
    "df_unbalanced.head()"
   ]
  },
  {
   "cell_type": "markdown",
   "metadata": {},
   "source": [
    "### Defining the target variable"
   ]
  },
  {
   "cell_type": "markdown",
   "metadata": {},
   "source": [
    "##### Creating the labels set (`y`)  from the “Fraud” column, and then create the features (`X`) DataFrame from the remaining columns."
   ]
  },
  {
   "cell_type": "code",
<<<<<<< HEAD
   "execution_count": 44,
   "metadata": {},
   "outputs": [
    {
     "name": "stdout",
     "output_type": "stream",
     "text": [
      "Day of Week               0\n",
      "Time                      0\n",
      "Type of Card              0\n",
      "Entry Mode                0\n",
      "Amount                    0\n",
      "Type of Transaction       0\n",
      "Merchant Group            0\n",
      "Country of Transaction    0\n",
      "Shipping Address          0\n",
      "Country of Residence      0\n",
      "Gender                    0\n",
      "Age                       0\n",
      "Bank                      0\n",
      "dtype: int64\n"
     ]
    }
   ],
=======
   "execution_count": null,
   "metadata": {},
   "outputs": [],
>>>>>>> 36f6b845ae7c5d794a8c16946a0fea2b43e26233
   "source": [
    "# Separate the data into labels and features\n",
    "# Separate the X variable, the features\n",
    "features = list(df_unbalanced.columns[0:-1])\n",
    "x = df_unbalanced[features]\n",
    "\n",
<<<<<<< HEAD
    "print(x.isnull().sum())\n",
    "\n",
=======
>>>>>>> 36f6b845ae7c5d794a8c16946a0fea2b43e26233
    "# Separate the y variable, the labels\n",
    "y = df_unbalanced['Fraud']"
   ]
  },
  {
<<<<<<< HEAD
=======
   "cell_type": "code",
   "execution_count": null,
   "metadata": {},
   "outputs": [
    {
     "data": {
      "text/html": [
       "<div>\n",
       "<style scoped>\n",
       "    .dataframe tbody tr th:only-of-type {\n",
       "        vertical-align: middle;\n",
       "    }\n",
       "\n",
       "    .dataframe tbody tr th {\n",
       "        vertical-align: top;\n",
       "    }\n",
       "\n",
       "    .dataframe thead th {\n",
       "        text-align: right;\n",
       "    }\n",
       "</style>\n",
       "<table border=\"1\" class=\"dataframe\">\n",
       "  <thead>\n",
       "    <tr style=\"text-align: right;\">\n",
       "      <th></th>\n",
       "      <th>Day of Week</th>\n",
       "      <th>Time</th>\n",
       "      <th>Type of Card</th>\n",
       "      <th>Entry Mode</th>\n",
       "      <th>Amount</th>\n",
       "      <th>Type of Transaction</th>\n",
       "      <th>Merchant Group</th>\n",
       "      <th>Country of Transaction</th>\n",
       "      <th>Shipping Address</th>\n",
       "      <th>Country of Residence</th>\n",
       "      <th>Gender</th>\n",
       "      <th>Age</th>\n",
       "      <th>Bank</th>\n",
       "    </tr>\n",
       "  </thead>\n",
       "  <tbody>\n",
       "    <tr>\n",
       "      <th>0</th>\n",
       "      <td>3</td>\n",
       "      <td>19</td>\n",
       "      <td>1</td>\n",
       "      <td>2</td>\n",
       "      <td>5</td>\n",
       "      <td>2</td>\n",
       "      <td>2</td>\n",
       "      <td>4</td>\n",
       "      <td>4</td>\n",
       "      <td>4</td>\n",
       "      <td>1</td>\n",
       "      <td>25</td>\n",
       "      <td>7</td>\n",
       "    </tr>\n",
       "    <tr>\n",
       "      <th>1</th>\n",
       "      <td>3</td>\n",
       "      <td>17</td>\n",
       "      <td>0</td>\n",
       "      <td>1</td>\n",
       "      <td>288</td>\n",
       "      <td>2</td>\n",
       "      <td>8</td>\n",
       "      <td>3</td>\n",
       "      <td>3</td>\n",
       "      <td>3</td>\n",
       "      <td>0</td>\n",
       "      <td>50</td>\n",
       "      <td>4</td>\n",
       "    </tr>\n",
       "    <tr>\n",
       "      <th>2</th>\n",
       "      <td>3</td>\n",
       "      <td>14</td>\n",
       "      <td>1</td>\n",
       "      <td>2</td>\n",
       "      <td>5</td>\n",
       "      <td>2</td>\n",
       "      <td>7</td>\n",
       "      <td>1</td>\n",
       "      <td>1</td>\n",
       "      <td>1</td>\n",
       "      <td>0</td>\n",
       "      <td>42</td>\n",
       "      <td>0</td>\n",
       "    </tr>\n",
       "    <tr>\n",
       "      <th>3</th>\n",
       "      <td>2</td>\n",
       "      <td>14</td>\n",
       "      <td>1</td>\n",
       "      <td>2</td>\n",
       "      <td>28</td>\n",
       "      <td>2</td>\n",
       "      <td>2</td>\n",
       "      <td>4</td>\n",
       "      <td>1</td>\n",
       "      <td>4</td>\n",
       "      <td>0</td>\n",
       "      <td>51</td>\n",
       "      <td>0</td>\n",
       "    </tr>\n",
       "    <tr>\n",
       "      <th>4</th>\n",
       "      <td>2</td>\n",
       "      <td>23</td>\n",
       "      <td>1</td>\n",
       "      <td>0</td>\n",
       "      <td>91</td>\n",
       "      <td>1</td>\n",
       "      <td>1</td>\n",
       "      <td>3</td>\n",
       "      <td>3</td>\n",
       "      <td>4</td>\n",
       "      <td>1</td>\n",
       "      <td>38</td>\n",
       "      <td>3</td>\n",
       "    </tr>\n",
       "  </tbody>\n",
       "</table>\n",
       "</div>"
      ],
      "text/plain": [
       "   Day of Week  Time  Type of Card  Entry Mode  Amount  Type of Transaction  \\\n",
       "0            3    19             1           2       5                    2   \n",
       "1            3    17             0           1     288                    2   \n",
       "2            3    14             1           2       5                    2   \n",
       "3            2    14             1           2      28                    2   \n",
       "4            2    23             1           0      91                    1   \n",
       "\n",
       "   Merchant Group  Country of Transaction  Shipping Address  \\\n",
       "0               2                       4                 4   \n",
       "1               8                       3                 3   \n",
       "2               7                       1                 1   \n",
       "3               2                       4                 1   \n",
       "4               1                       3                 3   \n",
       "\n",
       "   Country of Residence  Gender  Age  Bank  \n",
       "0                     4       1   25     7  \n",
       "1                     3       0   50     4  \n",
       "2                     1       0   42     0  \n",
       "3                     4       0   51     0  \n",
       "4                     4       1   38     3  "
      ]
     },
     "execution_count": 37,
     "metadata": {},
     "output_type": "execute_result"
    }
   ],
   "source": [
    "x.head()"
   ]
  },
  {
>>>>>>> 36f6b845ae7c5d794a8c16946a0fea2b43e26233
   "cell_type": "markdown",
   "metadata": {},
   "source": [
    "### Spliting Imbalanced data"
   ]
  },
  {
   "cell_type": "code",
<<<<<<< HEAD
   "execution_count": 45,
=======
   "execution_count": null,
>>>>>>> 36f6b845ae7c5d794a8c16946a0fea2b43e26233
   "metadata": {},
   "outputs": [
    {
     "name": "stdout",
     "output_type": "stream",
     "text": [
<<<<<<< HEAD
      "Number of Records in Traning data: 79588\n",
      "Number of columns in Traning data: 13\n",
      "Number of Records in Testing data: 19897\n",
=======
      "Number of Records in Traning data: 79981\n",
      "Number of columns in Traning data: 13\n",
      "Number of Records in Testing data: 19996\n",
>>>>>>> 36f6b845ae7c5d794a8c16946a0fea2b43e26233
      "Number of columns in Testing data: 13\n"
     ]
    }
   ],
   "source": [
    "x_train, x_test, y_train, y_test = train_test_split(x, y , \n",
    "                                                    test_size = 0.2, \n",
    "                                                    random_state=42)\n",
    "\n",
    "print('Number of Records in Traning data:', x_train.shape[0])\n",
    "print('Number of columns in Traning data:', x_train.shape[1])\n",
    "print('Number of Records in Testing data:', x_test.shape[0])\n",
    "print('Number of columns in Testing data:', x_test.shape[1])"
   ]
  },
  {
   "cell_type": "markdown",
   "metadata": {},
   "source": [
    "### Model Training on Imbalanced Data"
   ]
  },
  {
   "cell_type": "code",
<<<<<<< HEAD
   "execution_count": 46,
=======
   "execution_count": null,
>>>>>>> 36f6b845ae7c5d794a8c16946a0fea2b43e26233
   "metadata": {},
   "outputs": [],
   "source": [
    "model = LogisticRegression()\n",
    "model.fit(x_train, y_train)\n",
    "y_predict = model.predict(x_test)"
   ]
  },
  {
   "cell_type": "markdown",
   "metadata": {},
   "source": [
    "### Model Evaluation on Imbalanced Data\n",
    "* Accuracy\n",
    "* Confusion matrix\n",
    "* Classification Report"
   ]
  },
  {
   "cell_type": "markdown",
   "metadata": {},
   "source": [
    "#### Accuracy"
   ]
  },
  {
   "cell_type": "code",
<<<<<<< HEAD
   "execution_count": 47,
=======
   "execution_count": null,
>>>>>>> 36f6b845ae7c5d794a8c16946a0fea2b43e26233
   "metadata": {},
   "outputs": [
    {
     "name": "stdout",
     "output_type": "stream",
     "text": [
      "Accuracy of Model on Test data: 95%\n"
     ]
    }
   ],
   "source": [
    "acc  = round(100 * accuracy_score(y_test, y_predict))\n",
    "print(f'Accuracy of Model on Test data: {acc}%')"
   ]
  },
  {
   "cell_type": "markdown",
   "metadata": {},
   "source": [
    "#### Confusion matrix"
   ]
  },
  {
   "cell_type": "code",
<<<<<<< HEAD
   "execution_count": 48,
=======
   "execution_count": null,
>>>>>>> 36f6b845ae7c5d794a8c16946a0fea2b43e26233
   "metadata": {},
   "outputs": [
    {
     "name": "stdout",
     "output_type": "stream",
     "text": [
      "\n",
      "The confusion matrix for unbalanced data is:\n",
      "\n",
<<<<<<< HEAD
      "[[18300   222]\n",
      " [  684   691]]\n"
=======
      "[[18299   236]\n",
      " [  669   792]]\n"
>>>>>>> 36f6b845ae7c5d794a8c16946a0fea2b43e26233
     ]
    }
   ],
   "source": [
    "print('\\nThe confusion matrix for unbalanced data is:\\n')\n",
    "print(confusion_matrix(y_test, y_predict))"
   ]
  },
  {
   "cell_type": "markdown",
   "metadata": {},
   "source": [
    "#### Classification Report"
   ]
  },
  {
   "cell_type": "code",
<<<<<<< HEAD
   "execution_count": 49,
=======
   "execution_count": null,
>>>>>>> 36f6b845ae7c5d794a8c16946a0fea2b43e26233
   "metadata": {},
   "outputs": [
    {
     "name": "stdout",
     "output_type": "stream",
     "text": [
      "\n",
      "Classification report on Unbalanced data:\n",
      "\n",
      "               precision    recall  f1-score   support\n",
      "\n",
<<<<<<< HEAD
      "           0       0.96      0.99      0.98     18522\n",
      "           1       0.76      0.50      0.60      1375\n",
      "\n",
      "    accuracy                           0.95     19897\n",
      "   macro avg       0.86      0.75      0.79     19897\n",
      "weighted avg       0.95      0.95      0.95     19897\n",
=======
      "           0       0.96      0.99      0.98     18535\n",
      "           1       0.77      0.54      0.64      1461\n",
      "\n",
      "    accuracy                           0.95     19996\n",
      "   macro avg       0.87      0.76      0.81     19996\n",
      "weighted avg       0.95      0.95      0.95     19996\n",
>>>>>>> 36f6b845ae7c5d794a8c16946a0fea2b43e26233
      "\n"
     ]
    }
   ],
   "source": [
    "print('\\nClassification report on Unbalanced data:\\n\\n',classification_report(y_test, y_predict))"
   ]
  },
  {
   "cell_type": "markdown",
   "metadata": {},
   "source": [
<<<<<<< HEAD
    "+++++++++++++++++++++++++++++++++++++++++++++++++++++++++++++++++\n",
    "\n",
    "### Logistical Regression 2nd Model after Balancing the Training Data\n",
    "\n",
    "+++++++++++++++++++++++++++++++++++++++++++++++++++++++++++++++++"
=======
    "## Data Balancing"
>>>>>>> 36f6b845ae7c5d794a8c16946a0fea2b43e26233
   ]
  },
  {
   "cell_type": "markdown",
   "metadata": {},
   "source": [
<<<<<<< HEAD
    "### Data Balancing"
   ]
  },
  {
   "cell_type": "markdown",
   "metadata": {},
   "source": [
    "#### Upsampling"
=======
    "### Upsampling"
>>>>>>> 36f6b845ae7c5d794a8c16946a0fea2b43e26233
   ]
  },
  {
   "cell_type": "code",
<<<<<<< HEAD
   "execution_count": 50,
=======
   "execution_count": null,
>>>>>>> 36f6b845ae7c5d794a8c16946a0fea2b43e26233
   "metadata": {},
   "outputs": [
    {
     "name": "stdout",
     "output_type": "stream",
     "text": [
<<<<<<< HEAD
      "No of samples Belongs to Safe Transactions: 74280\n",
      "No of samples Belongs to Fraudulent Transactions: 74280\n"
=======
      "No of samples Belongs to Honest Persons: 5731\n",
      "No of samples Belongs to Fraud Persons: 5731\n"
>>>>>>> 36f6b845ae7c5d794a8c16946a0fea2b43e26233
     ]
    }
   ],
   "source": [
<<<<<<< HEAD
    "# Define the oversampling method\n",
    "oversampler = RandomOverSampler()\n",
    "\n",
    "# oversample the data\n",
    "x_balanced, y_balanced = oversampler.fit_resample(x_train, y_train)\n",
    "print('No of samples Belongs to Safe Transactions:',y_balanced.value_counts()[0])\n",
    "print('No of samples Belongs to Fraudulent Transactions:', y_balanced.value_counts()[1])"
=======
    "from imblearn.under_sampling import RandomUnderSampler\n",
    "# Define the oversampling method\n",
    "oversampler = RandomUnderSampler()\n",
    "\n",
    "# oversample the data\n",
    "x_balanced, y_balanced = oversampler.fit_resample(x_train, y_train)\n",
    "print('No of samples Belongs to Honest Persons:',y_balanced.value_counts()[0])\n",
    "print('No of samples Belongs to Fraud Persons:', y_balanced.value_counts()[1])"
>>>>>>> 36f6b845ae7c5d794a8c16946a0fea2b43e26233
   ]
  },
  {
   "cell_type": "markdown",
   "metadata": {},
   "source": [
<<<<<<< HEAD
    "##### It is clearly shown that the number of records belongs to Safe Transactions is 74280 and Fraudulent Transactions is also 74280. It means that the data is in balanced state."
=======
    "##### It is clearly shown that the number of records belongs to Honest Persons is 92785 and Fraud Persons is also 92785. It means that the data is in balanced state."
>>>>>>> 36f6b845ae7c5d794a8c16946a0fea2b43e26233
   ]
  },
  {
   "cell_type": "markdown",
   "metadata": {},
   "source": [
<<<<<<< HEAD
    "### 2nd Model Training on Balanced Data"
=======
    "### Model Training on Balanced Data"
>>>>>>> 36f6b845ae7c5d794a8c16946a0fea2b43e26233
   ]
  },
  {
   "cell_type": "code",
<<<<<<< HEAD
   "execution_count": 51,
=======
   "execution_count": null,
>>>>>>> 36f6b845ae7c5d794a8c16946a0fea2b43e26233
   "metadata": {},
   "outputs": [],
   "source": [
    "oversample_model = LogisticRegression()\n",
    "oversample_model.fit(x_balanced, y_balanced)\n",
    "y_balanced_predict = oversample_model.predict(x_test)"
   ]
  },
  {
   "cell_type": "markdown",
   "metadata": {},
   "source": [
<<<<<<< HEAD
    "### 2nd Model Evaluation on Balanced Data\n",
=======
    "### Model Evaluation on Balanced Data\n",
>>>>>>> 36f6b845ae7c5d794a8c16946a0fea2b43e26233
    "* Accuracy\n",
    "* Confusion matrix\n",
    "* Classification Report"
   ]
  },
  {
   "cell_type": "markdown",
   "metadata": {},
   "source": [
    "#### Accuracy"
   ]
  },
  {
   "cell_type": "code",
<<<<<<< HEAD
   "execution_count": 52,
=======
   "execution_count": null,
>>>>>>> 36f6b845ae7c5d794a8c16946a0fea2b43e26233
   "metadata": {},
   "outputs": [
    {
     "name": "stdout",
     "output_type": "stream",
     "text": [
      "Accuracy of Model on Test data: 93%\n"
     ]
    }
   ],
   "source": [
    "acc  = round(100 * accuracy_score(y_test, y_balanced_predict))\n",
    "print(f'Accuracy of Model on Test data: {acc}%')"
   ]
  },
  {
   "cell_type": "markdown",
   "metadata": {},
   "source": [
    "#### Confusion matrix"
   ]
  },
  {
   "cell_type": "code",
<<<<<<< HEAD
   "execution_count": 53,
=======
   "execution_count": null,
>>>>>>> 36f6b845ae7c5d794a8c16946a0fea2b43e26233
   "metadata": {},
   "outputs": [
    {
     "name": "stdout",
     "output_type": "stream",
     "text": [
      "\n",
      "The confusion matrix for balanced data is:\n",
      "\n",
<<<<<<< HEAD
      "[[17369  1153]\n",
      " [  163  1212]]\n"
=======
      "[[17348  1187]\n",
      " [  201  1260]]\n"
>>>>>>> 36f6b845ae7c5d794a8c16946a0fea2b43e26233
     ]
    }
   ],
   "source": [
    "print('\\nThe confusion matrix for balanced data is:\\n')\n",
    "print(confusion_matrix(y_test, y_balanced_predict))"
   ]
  },
  {
   "cell_type": "markdown",
   "metadata": {},
   "source": [
    "#### Classification Report"
   ]
  },
  {
   "cell_type": "code",
<<<<<<< HEAD
   "execution_count": 54,
=======
   "execution_count": null,
>>>>>>> 36f6b845ae7c5d794a8c16946a0fea2b43e26233
   "metadata": {},
   "outputs": [
    {
     "name": "stdout",
     "output_type": "stream",
     "text": [
      "\n",
<<<<<<< HEAD
      "Classification report on balanced data:\n",
      "\n",
      "               precision    recall  f1-score   support\n",
      "\n",
      "           0       0.99      0.94      0.96     18522\n",
      "           1       0.51      0.88      0.65      1375\n",
      "\n",
      "    accuracy                           0.93     19897\n",
      "   macro avg       0.75      0.91      0.81     19897\n",
      "weighted avg       0.96      0.93      0.94     19897\n",
=======
      "Classification report on Unbalanced data:\n",
      "\n",
      "               precision    recall  f1-score   support\n",
      "\n",
      "           0       0.99      0.94      0.96     18535\n",
      "           1       0.51      0.86      0.64      1461\n",
      "\n",
      "    accuracy                           0.93     19996\n",
      "   macro avg       0.75      0.90      0.80     19996\n",
      "weighted avg       0.95      0.93      0.94     19996\n",
>>>>>>> 36f6b845ae7c5d794a8c16946a0fea2b43e26233
      "\n"
     ]
    }
   ],
   "source": [
<<<<<<< HEAD
    "print('\\nClassification report on balanced data:\\n\\n',classification_report(y_test, y_balanced_predict))"
=======
    "print('\\nClassification report on Unbalanced data:\\n\\n',classification_report(y_test, y_balanced_predict))"
>>>>>>> 36f6b845ae7c5d794a8c16946a0fea2b43e26233
   ]
  },
  {
   "cell_type": "markdown",
   "metadata": {},
   "source": [
<<<<<<< HEAD
    "As it can be shown that the accuracy on imbalanced data is 95% and on balanced data after applying oversampling technique is 93%. The reason behind that the model was overfitted due to imbalanced data and predicting one class with high accuracy and other class with low accuracy which can be seen in confusion matrix. When the data is balanced, A Bias-Varience trade-off is established and the accuracy is reduced to 93% and the model is accurately predicting both classes rather than only a single class.\n",
    "But we have still got weak precision and f1-score for class 1 AKA fraudulent cases. This is not acceptable therefore we have to use Random Forest which is good for detecting non-linear data points."
=======
    "### Conclusion"
>>>>>>> 36f6b845ae7c5d794a8c16946a0fea2b43e26233
   ]
  },
  {
   "cell_type": "markdown",
   "metadata": {},
   "source": [
<<<<<<< HEAD
    "++++++++++++++++++++++++++\n",
    "\n",
    "### Random Forest 3rd Model\n",
    "\n",
    "++++++++++++++++++++++++++"
=======
    "As it can be shown that the accuracy on imbalanced data is 95% and on balanced data after applying oversampling technique is 93%. The reason behind that the model was overfitted due to imbalanced data and predicting one class with high accuracy and other class with low accuracy which can be seen in confusion matrix. When the data is balanced, A Bias-Varience trade-off is established and the accuracy is reduced to 93% and the model is accurately predicting both classes rather than only a single class."
   ]
  },
  {
   "cell_type": "markdown",
   "metadata": {},
   "source": [
    "## Random Forest"
>>>>>>> 36f6b845ae7c5d794a8c16946a0fea2b43e26233
   ]
  },
  {
   "cell_type": "code",
<<<<<<< HEAD
   "execution_count": 55,
=======
   "execution_count": null,
>>>>>>> 36f6b845ae7c5d794a8c16946a0fea2b43e26233
   "metadata": {},
   "outputs": [
    {
     "data": {
      "text/plain": [
<<<<<<< HEAD
       "array([['0'],\n",
       "       ['0'],\n",
       "       ['0'],\n",
       "       ['0'],\n",
       "       ['1']], dtype=object)"
      ]
     },
     "execution_count": 55,
=======
       "array([[0],\n",
       "       [0],\n",
       "       [0],\n",
       "       [0],\n",
       "       [1]], dtype=int64)"
      ]
     },
     "execution_count": 48,
>>>>>>> 36f6b845ae7c5d794a8c16946a0fea2b43e26233
     "metadata": {},
     "output_type": "execute_result"
    }
   ],
   "source": [
    "# Define target vector\n",
    "y = CreditCardData_df_clean['Fraud'].values.reshape(-1, 1)\n",
    "y[:5]"
   ]
  },
  {
   "cell_type": "markdown",
   "metadata": {},
   "source": [
    "Split the data into training and testing sets."
   ]
  },
  {
   "cell_type": "code",
<<<<<<< HEAD
   "execution_count": 56,
=======
   "execution_count": null,
>>>>>>> 36f6b845ae7c5d794a8c16946a0fea2b43e26233
   "metadata": {},
   "outputs": [],
   "source": [
    "# Splitting into Train and Test sets\n",
    "X_train, X_test, y_train, y_test = train_test_split(x, y, random_state=78)"
   ]
  },
  {
   "cell_type": "code",
<<<<<<< HEAD
   "execution_count": 57,
=======
   "execution_count": null,
>>>>>>> 36f6b845ae7c5d794a8c16946a0fea2b43e26233
   "metadata": {},
   "outputs": [
    {
     "data": {
      "text/plain": [
<<<<<<< HEAD
       "(74613, 1)"
      ]
     },
     "execution_count": 57,
=======
       "(74982, 1)"
      ]
     },
     "execution_count": 51,
>>>>>>> 36f6b845ae7c5d794a8c16946a0fea2b43e26233
     "metadata": {},
     "output_type": "execute_result"
    }
   ],
   "source": [
    "y_train.shape"
   ]
  },
  {
<<<<<<< HEAD
   "cell_type": "code",
   "execution_count": 58,
=======
   "cell_type": "markdown",
   "metadata": {},
   "source": []
  },
  {
   "cell_type": "code",
   "execution_count": null,
>>>>>>> 36f6b845ae7c5d794a8c16946a0fea2b43e26233
   "metadata": {},
   "outputs": [],
   "source": [
    "# Create the StandardScaler instance\n",
<<<<<<< HEAD
=======
    "from sklearn.preprocessing import StandardScaler\n",
>>>>>>> 36f6b845ae7c5d794a8c16946a0fea2b43e26233
    "scaler = StandardScaler()"
   ]
  },
  {
   "cell_type": "code",
<<<<<<< HEAD
   "execution_count": 59,
=======
   "execution_count": null,
>>>>>>> 36f6b845ae7c5d794a8c16946a0fea2b43e26233
   "metadata": {},
   "outputs": [],
   "source": [
    "# Fit the Standard Scaler with the training data\n",
    "X_scaler = scaler.fit(X_train)"
   ]
  },
  {
   "cell_type": "code",
<<<<<<< HEAD
   "execution_count": 60,
=======
   "execution_count": null,
>>>>>>> 36f6b845ae7c5d794a8c16946a0fea2b43e26233
   "metadata": {},
   "outputs": [],
   "source": [
    "# Scale the training data\n",
    "X_train_scaled = X_scaler.transform(X_train)\n",
    "X_test_scaled = X_scaler.transform(X_test)"
   ]
  },
  {
   "cell_type": "markdown",
   "metadata": {},
   "source": [
<<<<<<< HEAD
    "#### Fitting the Random Forest Model\n",
=======
    "## Fitting the Random Forest Model\n",
>>>>>>> 36f6b845ae7c5d794a8c16946a0fea2b43e26233
    "\n",
    "Once the data is scaled, we create a random forest instance and train it with the training data (`X_train_scaled` and `y_train`), define `n_estimators=500` and `random_state=78`."
   ]
  },
  {
   "cell_type": "code",
<<<<<<< HEAD
   "execution_count": 61,
=======
   "execution_count": null,
>>>>>>> 36f6b845ae7c5d794a8c16946a0fea2b43e26233
   "metadata": {},
   "outputs": [],
   "source": [
    "# Create the random forest classifier instance\n",
<<<<<<< HEAD
=======
    "from sklearn.ensemble import RandomForestClassifier\n",
>>>>>>> 36f6b845ae7c5d794a8c16946a0fea2b43e26233
    "rf_model = RandomForestClassifier(n_estimators=500, random_state=78)"
   ]
  },
  {
   "cell_type": "code",
<<<<<<< HEAD
   "execution_count": 62,
=======
   "execution_count": null,
>>>>>>> 36f6b845ae7c5d794a8c16946a0fea2b43e26233
   "metadata": {},
   "outputs": [],
   "source": [
    "# Fit the model and use .ravel()on the \"y_train\" data. \n",
    "rf_model = rf_model.fit(X_train_scaled, y_train.ravel())"
   ]
  },
  {
   "cell_type": "markdown",
   "metadata": {},
   "source": [
<<<<<<< HEAD
    "#### Making Predictions Using the Random Forest Model\n",
=======
    "## Making Predictions Using the Random Forest Model\n",
>>>>>>> 36f6b845ae7c5d794a8c16946a0fea2b43e26233
    "\n",
    "We validate the trained model by predicting fraudulent transactions by using the testing data (`X_test_scaled`)."
   ]
  },
  {
   "cell_type": "code",
<<<<<<< HEAD
   "execution_count": 63,
=======
   "execution_count": null,
>>>>>>> 36f6b845ae7c5d794a8c16946a0fea2b43e26233
   "metadata": {},
   "outputs": [],
   "source": [
    "# Making predictions using the testing data\n",
    "predictions = rf_model.predict(X_test_scaled)"
   ]
  },
  {
   "cell_type": "markdown",
   "metadata": {},
   "source": [
<<<<<<< HEAD
    "#### Model Evaluation\n",
=======
    "## Model Evaluation\n",
>>>>>>> 36f6b845ae7c5d794a8c16946a0fea2b43e26233
    "\n",
    "Evaluate model's results, by using `sklearn` to calculate the confusion matrix, the accuracy score and to generate the classification report."
   ]
  },
  {
   "cell_type": "code",
<<<<<<< HEAD
   "execution_count": 64,
=======
   "execution_count": null,
>>>>>>> 36f6b845ae7c5d794a8c16946a0fea2b43e26233
   "metadata": {},
   "outputs": [],
   "source": [
    "# Calculating the confusion matrix\n",
    "cm = confusion_matrix(y_test, predictions)\n",
    "cm_df = pd.DataFrame(\n",
<<<<<<< HEAD
    "    cm, index=[\"Actual 0\", \"Actual 1\"], columns=[\"Predicted 0 (Safe Transactions)\", \"Predicted 1 (Fraud Transactions)\"]\n",
=======
    "    cm, index=[\"Actual 0\", \"Actual 1\"], columns=[\"Predicted 0\", \"Predicted 1\"]\n",
>>>>>>> 36f6b845ae7c5d794a8c16946a0fea2b43e26233
    ")\n",
    "\n",
    "# Calculating the accuracy score\n",
    "acc_score = accuracy_score(y_test, predictions)"
   ]
  },
  {
   "cell_type": "code",
<<<<<<< HEAD
   "execution_count": 65,
=======
   "execution_count": null,
>>>>>>> 36f6b845ae7c5d794a8c16946a0fea2b43e26233
   "metadata": {},
   "outputs": [
    {
     "name": "stdout",
     "output_type": "stream",
     "text": [
<<<<<<< HEAD
      "Accuracy Score : 98.7\n",
      "  \n",
=======
>>>>>>> 36f6b845ae7c5d794a8c16946a0fea2b43e26233
      "Confusion Matrix\n"
     ]
    },
    {
     "data": {
      "text/html": [
       "<div>\n",
       "<style scoped>\n",
       "    .dataframe tbody tr th:only-of-type {\n",
       "        vertical-align: middle;\n",
       "    }\n",
       "\n",
       "    .dataframe tbody tr th {\n",
       "        vertical-align: top;\n",
       "    }\n",
       "\n",
       "    .dataframe thead th {\n",
       "        text-align: right;\n",
       "    }\n",
       "</style>\n",
       "<table border=\"1\" class=\"dataframe\">\n",
       "  <thead>\n",
       "    <tr style=\"text-align: right;\">\n",
       "      <th></th>\n",
<<<<<<< HEAD
       "      <th>Predicted 0 (Safe Transactions)</th>\n",
       "      <th>Predicted 1 (Fraud Transactions)</th>\n",
=======
       "      <th>Predicted 0</th>\n",
       "      <th>Predicted 1</th>\n",
>>>>>>> 36f6b845ae7c5d794a8c16946a0fea2b43e26233
       "    </tr>\n",
       "  </thead>\n",
       "  <tbody>\n",
       "    <tr>\n",
       "      <th>Actual 0</th>\n",
<<<<<<< HEAD
       "      <td>23191</td>\n",
       "      <td>22</td>\n",
       "    </tr>\n",
       "    <tr>\n",
       "      <th>Actual 1</th>\n",
       "      <td>309</td>\n",
       "      <td>1350</td>\n",
=======
       "      <td>23195</td>\n",
       "      <td>43</td>\n",
       "    </tr>\n",
       "    <tr>\n",
       "      <th>Actual 1</th>\n",
       "      <td>292</td>\n",
       "      <td>1465</td>\n",
>>>>>>> 36f6b845ae7c5d794a8c16946a0fea2b43e26233
       "    </tr>\n",
       "  </tbody>\n",
       "</table>\n",
       "</div>"
      ],
      "text/plain": [
<<<<<<< HEAD
       "          Predicted 0 (Safe Transactions)  Predicted 1 (Fraud Transactions)\n",
       "Actual 0                            23191                                22\n",
       "Actual 1                              309                              1350"
=======
       "          Predicted 0  Predicted 1\n",
       "Actual 0        23195           43\n",
       "Actual 1          292         1465"
>>>>>>> 36f6b845ae7c5d794a8c16946a0fea2b43e26233
      ]
     },
     "metadata": {},
     "output_type": "display_data"
    },
    {
     "name": "stdout",
     "output_type": "stream",
     "text": [
<<<<<<< HEAD
      "Classification Report\n",
      "              precision    recall  f1-score   support\n",
      "\n",
      "           0       0.99      1.00      0.99     23213\n",
      "           1       0.98      0.81      0.89      1659\n",
      "\n",
      "    accuracy                           0.99     24872\n",
      "   macro avg       0.99      0.91      0.94     24872\n",
      "weighted avg       0.99      0.99      0.99     24872\n",
=======
      "Accuracy Score : 98.7\n",
      "Classification Report\n",
      "              precision    recall  f1-score   support\n",
      "\n",
      "           0       0.99      1.00      0.99     23238\n",
      "           1       0.97      0.83      0.90      1757\n",
      "\n",
      "    accuracy                           0.99     24995\n",
      "   macro avg       0.98      0.92      0.95     24995\n",
      "weighted avg       0.99      0.99      0.99     24995\n",
>>>>>>> 36f6b845ae7c5d794a8c16946a0fea2b43e26233
      "\n"
     ]
    }
   ],
   "source": [
    "# Displaying results\n",
<<<<<<< HEAD
    "print(f\"Accuracy Score : {round(acc_score*100,1)}\")\n",
    "\n",
    "print(\"  \")\n",
    "\n",
    "print(\"Confusion Matrix\")\n",
    "display(cm_df)\n",
    "\n",
    "print(\"Classification Report\")\n",
    "print(classification_report(y_test, predictions))"
   ]
  },
  {
   "cell_type": "markdown",
   "metadata": {},
   "source": [
    "### Conclusion"
   ]
  },
  {
   "cell_type": "markdown",
   "metadata": {},
   "source": [
    "Now with Rondom Forest model we got pretty good results both Accuracy (98.7%), precision, recall, and f1-score. We notice that pecision and f1-score have significantly improved for class 1 (fraudulent transactions) which is critical and most important for banks and their clients."
   ]
=======
    "print(\"Confusion Matrix\")\n",
    "display(cm_df)\n",
    "print(f\"Accuracy Score : {round(acc_score*100,1)}\")\n",
    "print(\"Classification Report\")\n",
    "print(classification_report(y_test, predictions))"
   ]
>>>>>>> 36f6b845ae7c5d794a8c16946a0fea2b43e26233
  }
 ],
 "metadata": {
  "kernelspec": {
<<<<<<< HEAD
   "display_name": "Python 3 (ipykernel)",
=======
   "display_name": "dev_class",
>>>>>>> 36f6b845ae7c5d794a8c16946a0fea2b43e26233
   "language": "python",
   "name": "python3"
  },
  "language_info": {
   "codemirror_mode": {
    "name": "ipython",
    "version": 3
   },
   "file_extension": ".py",
   "mimetype": "text/x-python",
   "name": "python",
   "nbconvert_exporter": "python",
   "pygments_lexer": "ipython3",
<<<<<<< HEAD
   "version": "3.10.9"
=======
   "version": "3.10.11"
>>>>>>> 36f6b845ae7c5d794a8c16946a0fea2b43e26233
  }
 },
 "nbformat": 4,
 "nbformat_minor": 2
}
